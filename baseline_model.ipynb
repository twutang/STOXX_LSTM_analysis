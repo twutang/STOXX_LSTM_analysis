{
  "nbformat": 4,
  "nbformat_minor": 0,
  "metadata": {
    "colab": {
      "name": "baseline_model.ipynb",
      "version": "0.3.2",
      "provenance": [],
      "collapsed_sections": [],
      "toc_visible": true
    },
    "kernelspec": {
      "name": "python3",
      "display_name": "Python 3"
    }
  },
  "cells": [
    {
      "cell_type": "code",
      "metadata": {
        "id": "qIU13nThWPq4",
        "colab_type": "code",
        "colab": {}
      },
      "source": [
        "import numpy as np\n",
        "import pandas as pd\n",
        "import datetime as dt\n",
        "\n",
        "import matplotlib.dates as mdates\n",
        "import matplotlib.pyplot as plt\n",
        "\n",
        "from sklearn.preprocessing import MinMaxScaler\n",
        "\n",
        "from keras.models import Sequential\n",
        "from keras.layers import Dense, LSTM, Dropout, Masking\n",
        "\n",
        "from keras.utils.vis_utils import model_to_dot\n",
        "from IPython.display import SVG\n"
      ],
      "execution_count": 0,
      "outputs": []
    },
    {
      "cell_type": "markdown",
      "metadata": {
        "id": "7oerk0UaY0wG",
        "colab_type": "text"
      },
      "source": [
        "# Initial Data Importation and Structuring"
      ]
    },
    {
      "cell_type": "markdown",
      "metadata": {
        "id": "s-vX5NnVkai6",
        "colab_type": "text"
      },
      "source": [
        "## Accessing and loading data from Google Drive \n",
        "\n"
      ]
    },
    {
      "cell_type": "code",
      "metadata": {
        "id": "vtzJiK3GZxwf",
        "colab_type": "code",
        "outputId": "3ff932f6-1595-4d47-d8bd-49b8920a2c6a",
        "colab": {
          "base_uri": "https://localhost:8080/",
          "height": 120
        }
      },
      "source": [
        "# mounting Google Drive which contains the relevant data\n",
        "\n",
        "from google.colab import drive\n",
        "drive.mount('/content/drive')"
      ],
      "execution_count": 2,
      "outputs": [
        {
          "output_type": "stream",
          "text": [
            "Go to this URL in a browser: https://accounts.google.com/o/oauth2/auth?client_id=947318989803-6bn6qk8qdgf4n4g3pfee6491hc0brc4i.apps.googleusercontent.com&redirect_uri=urn%3Aietf%3Awg%3Aoauth%3A2.0%3Aoob&scope=email%20https%3A%2F%2Fwww.googleapis.com%2Fauth%2Fdocs.test%20https%3A%2F%2Fwww.googleapis.com%2Fauth%2Fdrive%20https%3A%2F%2Fwww.googleapis.com%2Fauth%2Fdrive.photos.readonly%20https%3A%2F%2Fwww.googleapis.com%2Fauth%2Fpeopleapi.readonly&response_type=code\n",
            "\n",
            "Enter your authorization code:\n",
            "··········\n",
            "Mounted at /content/drive\n"
          ],
          "name": "stdout"
        }
      ]
    },
    {
      "cell_type": "code",
      "metadata": {
        "id": "tKuXkHkNWbSS",
        "colab_type": "code",
        "outputId": "6c549aa3-067a-426d-ddf2-238a3021a5f4",
        "colab": {
          "base_uri": "https://localhost:8080/",
          "height": 783
        }
      },
      "source": [
        "# Fundamental input data\n",
        "ltm_book = pd.read_csv('/content/drive/My Drive/thw116_FYP/data/ltm_book.csv')\n",
        "ltm_div = pd.read_csv('/content/drive/My Drive/thw116_FYP/data/ltm_div.csv')\n",
        "ltm_ebit = pd.read_csv('/content/drive/My Drive/thw116_FYP/data/ltm_ebit.csv')\n",
        "ltm_ebitda = pd.read_csv('/content/drive/My Drive/thw116_FYP/data/ltm_ebitda.csv')\n",
        "ltm_eps = pd.read_csv('/content/drive/My Drive/thw116_FYP/data/ltm_eps.csv')\n",
        "ltm_fcf = pd.read_csv('/content/drive/My Drive/thw116_FYP/data/ltm_fcf.csv')\n",
        "ltm_pbook = pd.read_csv('/content/drive/My Drive/thw116_FYP/data/ltm_pbook.csv')\n",
        "ltm_sales = pd.read_csv('/content/drive/My Drive/thw116_FYP/data/ltm_sales.csv')\n",
        "\n",
        "ntm_book = pd.read_csv('/content/drive/My Drive/thw116_FYP/data/ntm_book.csv')\n",
        "ntm_div = pd.read_csv('/content/drive/My Drive/thw116_FYP/data/ntm_div.csv')\n",
        "ntm_ebit = pd.read_csv('/content/drive/My Drive/thw116_FYP/data/ntm_ebit.csv')\n",
        "ntm_ebitda = pd.read_csv('/content/drive/My Drive/thw116_FYP/data/ntm_ebitda.csv')\n",
        "ntm_eps = pd.read_csv('/content/drive/My Drive/thw116_FYP/data/ntm_eps.csv')\n",
        "ntm_fcf = pd.read_csv('/content/drive/My Drive/thw116_FYP/data/ntm_fcf.csv')\n",
        "ntm_pbook = pd.read_csv('/content/drive/My Drive/thw116_FYP/data/ntm_pbook.csv')\n",
        "ntm_sales = pd.read_csv('/content/drive/My Drive/thw116_FYP/data/ntm_sales.csv')\n",
        "\n",
        "# Technical input data\n",
        "\n",
        "price_high = pd.read_csv('/content/drive/My Drive/thw116_FYP/data/price_high.csv')\n",
        "price_low = pd.read_csv('/content/drive/My Drive/thw116_FYP/data/price_low.csv')\n",
        "price_open = pd.read_csv('/content/drive/My Drive/thw116_FYP/data/price_open.csv')\n",
        "volume = pd.read_csv('/content/drive/My Drive/thw116_FYP/data/volume.csv')\n",
        "enterprise_val = pd.read_csv('/content/drive/My Drive/thw116_FYP/data/enterprise_val.csv')\n",
        "\n",
        "print(ltm_book.head())\n",
        "print(\"**************************************\")\n",
        "print(ltm_book.info())\n",
        "print(\"**************************************\")\n",
        "print(ntm_book.head())\n",
        "print(\"**************************************\")\n",
        "print(ntm_book.info())\n",
        "\n",
        "\n",
        "# Price target output data\n",
        "\n",
        "price_close = pd.read_csv('/content/drive/My Drive/thw116_FYP/data/price_close.csv')\n",
        "\n",
        "print(price_close.head())\n",
        "print(\"**************************************\")\n",
        "print(price_close.info())\n",
        "\n",
        "\n",
        "\n",
        "# Test data\n",
        "\n",
        "# test_data = pd.read_csv(\"/content/drive/My Drive/thw116_FYP/data/test_price.csv\")\n",
        "\n",
        "# print(test_data.head())\n",
        "# print(\"**************************************\")\n",
        "# print(test_data.info())\n",
        "\n"
      ],
      "execution_count": 30,
      "outputs": [
        {
          "output_type": "stream",
          "text": [
            "   Unnamed: 0  ATRS AV  ESSR LN  ...  FABGB SS  926002Q GY  NDA SS\n",
            "0           1      NaN      NaN  ...       NaN         NaN     NaN\n",
            "1           2      NaN      NaN  ...       NaN         NaN     NaN\n",
            "2           3      NaN      NaN  ...       NaN         NaN     NaN\n",
            "3           4      NaN      NaN  ...       NaN         NaN     NaN\n",
            "4           5      NaN      NaN  ...       NaN         NaN     NaN\n",
            "\n",
            "[5 rows x 1185 columns]\n",
            "**************************************\n",
            "<class 'pandas.core.frame.DataFrame'>\n",
            "RangeIndex: 6313 entries, 0 to 6312\n",
            "Columns: 1185 entries, Unnamed: 0 to NDA SS\n",
            "dtypes: float64(1184), int64(1)\n",
            "memory usage: 57.1 MB\n",
            "None\n",
            "**************************************\n",
            "   Unnamed: 0  ATRS AV  ESSR LN  ...  FABGB SS  926002Q GY  NDA SS\n",
            "0           1      NaN      NaN  ...       NaN         NaN     NaN\n",
            "1           2      NaN      NaN  ...       NaN         NaN     NaN\n",
            "2           3      NaN      NaN  ...       NaN         NaN     NaN\n",
            "3           4      NaN      NaN  ...       NaN         NaN     NaN\n",
            "4           5      NaN      NaN  ...       NaN         NaN     NaN\n",
            "\n",
            "[5 rows x 1185 columns]\n",
            "**************************************\n",
            "<class 'pandas.core.frame.DataFrame'>\n",
            "RangeIndex: 6313 entries, 0 to 6312\n",
            "Columns: 1185 entries, Unnamed: 0 to NDA SS\n",
            "dtypes: float64(1184), int64(1)\n",
            "memory usage: 57.1 MB\n",
            "None\n",
            "   Unnamed: 0  PAYS LN  CNHI IM     SGSN SW  ...  AMS SM  FER SM  SEV FP    FKI LN\n",
            "0  1995-01-03      NaN      NaN  222.552843  ...     NaN     NaN     NaN  1.896782\n",
            "1  1995-01-04      NaN      NaN  226.835424  ...     NaN     NaN     NaN  1.883390\n",
            "2  1995-01-05      NaN      NaN  228.312320  ...     NaN     NaN     NaN  1.910292\n",
            "3  1995-01-06      NaN      NaN  228.015450  ...     NaN     NaN     NaN  1.923861\n",
            "4  1995-01-09      NaN      NaN  228.680128  ...     NaN     NaN     NaN  1.925099\n",
            "\n",
            "[5 rows x 204 columns]\n",
            "**************************************\n",
            "<class 'pandas.core.frame.DataFrame'>\n",
            "RangeIndex: 6313 entries, 0 to 6312\n",
            "Columns: 204 entries, Unnamed: 0 to FKI LN\n",
            "dtypes: float64(203), object(1)\n",
            "memory usage: 9.8+ MB\n",
            "None\n"
          ],
          "name": "stdout"
        }
      ]
    },
    {
      "cell_type": "code",
      "metadata": {
        "id": "qwQDmx99oPzr",
        "colab_type": "code",
        "colab": {
          "base_uri": "https://localhost:8080/",
          "height": 536
        },
        "outputId": "e2f7cda7-bfe2-4fb2-b087-280d9eb06297"
      },
      "source": [
        "# Filtering incorrect datasets to suitable company subsets\n",
        "industrials_subset = price_close.columns.values.tolist()\n",
        "\n",
        "ltm_inputs = [ltm_book, ltm_div, ltm_ebit, ltm_ebitda, ltm_ebitda, ltm_eps, ltm_fcf, ltm_pbook, ltm_sales] \n",
        "ntm_inputs = [ntm_book, ntm_div, ntm_ebit, ntm_ebitda, ntm_ebitda, ntm_eps, ntm_fcf, ntm_pbook, ntm_sales]\n",
        "tech_inputs = [price_high, price_low, price_open, volume, enterprise_val]\n",
        "\n",
        "for i in range(0,len(ltm_inputs)):\n",
        "  ltm_inputs[i] = ltm_inputs[i].loc[:, ltm_inputs[i].columns.str.contains('|'.join(industrials_subset))]\n",
        "  ltm_inputs[i]['Unnamed: 0'] = price_close['Unnamed: 0']\n",
        "  ltm_inputs[i].rename( columns={'Unnamed: 0':'Date'}, inplace=True )\n",
        "\n",
        "for i in range(0,len(ntm_inputs)):\n",
        "  ntm_inputs[i] = ntm_inputs[i].loc[:, ntm_inputs[i].columns.str.contains('|'.join(industrials_subset))]\n",
        "  ntm_inputs[i]['Unnamed: 0'] = price_close['Unnamed: 0']\n",
        "  ntm_inputs[i].rename( columns={'Unnamed: 0':'Date'}, inplace=True )\n",
        "\n",
        "for i in range(0,len(tech_inputs)):\n",
        "  tech_inputs[i] = tech_inputs[i].loc[:, tech_inputs[i].columns.str.contains('|'.join(industrials_subset))]\n",
        "  tech_inputs[i]['Unnamed: 0'] = price_close['Unnamed: 0']\n",
        "  tech_inputs[i].rename( columns={'Unnamed: 0':'Date'}, inplace=True )\n",
        "\n",
        "  \n",
        "price_close.rename( columns={'Unnamed: 0':'Date'}, inplace=True )\n",
        "\n",
        "\n",
        "  \n",
        "print((ltm_inputs[1].head()))\n",
        "  \n",
        "\n"
      ],
      "execution_count": 32,
      "outputs": [
        {
          "output_type": "stream",
          "text": [
            "/usr/local/lib/python3.6/dist-packages/ipykernel_launcher.py:9: SettingWithCopyWarning: \n",
            "A value is trying to be set on a copy of a slice from a DataFrame.\n",
            "Try using .loc[row_indexer,col_indexer] = value instead\n",
            "\n",
            "See the caveats in the documentation: http://pandas.pydata.org/pandas-docs/stable/indexing.html#indexing-view-versus-copy\n",
            "  if __name__ == '__main__':\n",
            "/usr/local/lib/python3.6/dist-packages/pandas/core/frame.py:4025: SettingWithCopyWarning: \n",
            "A value is trying to be set on a copy of a slice from a DataFrame\n",
            "\n",
            "See the caveats in the documentation: http://pandas.pydata.org/pandas-docs/stable/indexing.html#indexing-view-versus-copy\n",
            "  return super(DataFrame, self).rename(**kwargs)\n",
            "/usr/local/lib/python3.6/dist-packages/ipykernel_launcher.py:14: SettingWithCopyWarning: \n",
            "A value is trying to be set on a copy of a slice from a DataFrame.\n",
            "Try using .loc[row_indexer,col_indexer] = value instead\n",
            "\n",
            "See the caveats in the documentation: http://pandas.pydata.org/pandas-docs/stable/indexing.html#indexing-view-versus-copy\n",
            "  \n",
            "/usr/local/lib/python3.6/dist-packages/ipykernel_launcher.py:19: SettingWithCopyWarning: \n",
            "A value is trying to be set on a copy of a slice from a DataFrame.\n",
            "Try using .loc[row_indexer,col_indexer] = value instead\n",
            "\n",
            "See the caveats in the documentation: http://pandas.pydata.org/pandas-docs/stable/indexing.html#indexing-view-versus-copy\n"
          ],
          "name": "stderr"
        },
        {
          "output_type": "stream",
          "text": [
            "         Date  PAYS LN  CNHI IM  SGSN SW  ...  AMS SM  FER SM  SEV FP  FKI LN\n",
            "0  1995-01-03      NaN      NaN      NaN  ...     NaN     NaN     NaN     NaN\n",
            "1  1995-01-04      NaN      NaN      NaN  ...     NaN     NaN     NaN     NaN\n",
            "2  1995-01-05      NaN      NaN      NaN  ...     NaN     NaN     NaN     NaN\n",
            "3  1995-01-06      NaN      NaN      NaN  ...     NaN     NaN     NaN     NaN\n",
            "4  1995-01-09      NaN      NaN      NaN  ...     NaN     NaN     NaN     NaN\n",
            "\n",
            "[5 rows x 204 columns]\n"
          ],
          "name": "stdout"
        }
      ]
    },
    {
      "cell_type": "markdown",
      "metadata": {
        "id": "ZhYPF4OmJOwm",
        "colab_type": "text"
      },
      "source": [
        "## Data Wrangling\n",
        "\n",
        "In order to produce a dataframe suitable for the model, we must first take the raw *Price.csv*  file and convert it to returns. This can then be maniuplated further in a variety of ways to achieve the neccessary classification for variants of the model"
      ]
    },
    {
      "cell_type": "code",
      "metadata": {
        "id": "NcygJ5YtWP8H",
        "colab_type": "code",
        "colab": {
          "base_uri": "https://localhost:8080/",
          "height": 586
        },
        "outputId": "31036f3f-3929-4b37-b73f-49abac49e570"
      },
      "source": [
        "# Conversion of TimeAndDate column to DatetimeIndex for ease of use\n",
        "\n",
        "def time_index_generator(dataframe):\n",
        "  dataframe['Date'] = pd.to_datetime(dataframe['Date'], dayfirst=True)\n",
        "  dataframe.set_index('Date', inplace=True)\n",
        "\n",
        "\n",
        "for i in range(0,len(ltm_inputs)):\n",
        "  time_index_generator(ltm_inputs[i])\n",
        "for i in range(0,len(ntm_inputs)):\n",
        "  time_index_generator(ntm_inputs[i])\n",
        "for i in range(0,len(tech_inputs)):\n",
        "  time_index_generator(tech_inputs[i])  \n",
        "\n",
        "time_index_generator(price_close)\n",
        "  \n",
        "print(ltm_inputs[0].head())\n",
        "print(ntm_inputs[0].head())\n",
        "print(tech_inputs[0].head())\n"
      ],
      "execution_count": 33,
      "outputs": [
        {
          "output_type": "stream",
          "text": [
            "/usr/local/lib/python3.6/dist-packages/ipykernel_launcher.py:3: SettingWithCopyWarning: \n",
            "A value is trying to be set on a copy of a slice from a DataFrame.\n",
            "Try using .loc[row_indexer,col_indexer] = value instead\n",
            "\n",
            "See the caveats in the documentation: http://pandas.pydata.org/pandas-docs/stable/indexing.html#indexing-view-versus-copy\n",
            "  This is separate from the ipykernel package so we can avoid doing imports until\n"
          ],
          "name": "stderr"
        },
        {
          "output_type": "stream",
          "text": [
            "            PAYS LN  CNHI IM  SGSN SW  PAGE LN  ...  AMS SM  FER SM  SEV FP  FKI LN\n",
            "Date                                            ...                                \n",
            "1995-01-03      NaN      NaN      NaN      NaN  ...     NaN     NaN     NaN     NaN\n",
            "1995-01-04      NaN      NaN      NaN      NaN  ...     NaN     NaN     NaN     NaN\n",
            "1995-01-05      NaN      NaN      NaN      NaN  ...     NaN     NaN     NaN     NaN\n",
            "1995-01-06      NaN      NaN      NaN      NaN  ...     NaN     NaN     NaN     NaN\n",
            "1995-01-09      NaN      NaN      NaN      NaN  ...     NaN     NaN     NaN     NaN\n",
            "\n",
            "[5 rows x 203 columns]\n",
            "            PAYS LN  CNHI IM  SGSN SW  PAGE LN  ...  AMS SM  FER SM  SEV FP  FKI LN\n",
            "Date                                            ...                                \n",
            "1995-01-03      NaN      NaN      NaN      NaN  ...     NaN     NaN     NaN     NaN\n",
            "1995-01-04      NaN      NaN      NaN      NaN  ...     NaN     NaN     NaN     NaN\n",
            "1995-01-05      NaN      NaN      NaN      NaN  ...     NaN     NaN     NaN     NaN\n",
            "1995-01-06      NaN      NaN      NaN      NaN  ...     NaN     NaN     NaN     NaN\n",
            "1995-01-09      NaN      NaN      NaN      NaN  ...     NaN     NaN     NaN     NaN\n",
            "\n",
            "[5 rows x 203 columns]\n",
            "            PAYS LN  CNHI IM     SGSN SW  ...  FER SM  SEV FP    FKI LN\n",
            "Date                                      ...                          \n",
            "1995-01-03      NaN      NaN  222.552843  ...     NaN     NaN  1.916080\n",
            "1995-01-04      NaN      NaN  232.668335  ...     NaN     NaN  1.909070\n",
            "1995-01-05      NaN      NaN  228.312320  ...     NaN     NaN  1.923206\n",
            "1995-01-06      NaN      NaN  228.015450  ...     NaN     NaN  1.936693\n",
            "1995-01-09      NaN      NaN  228.680128  ...     NaN     NaN  1.937940\n",
            "\n",
            "[5 rows x 203 columns]\n"
          ],
          "name": "stdout"
        }
      ]
    },
    {
      "cell_type": "code",
      "metadata": {
        "id": "B5fWXKHjLpzc",
        "colab_type": "code",
        "colab": {
          "base_uri": "https://localhost:8080/",
          "height": 83
        },
        "outputId": "7659e5f2-ec8e-4def-9201-55fa978b0eb6"
      },
      "source": [
        "print(ltm_inputs[0].columns.difference(price_close.columns))\n",
        "print(ltm_inputs[1].columns.difference(price_close.columns))\n",
        "print(ltm_inputs[2].columns.difference(price_close.columns))\n",
        "print(ltm_inputs[3].columns.difference(price_close.columns))\n"
      ],
      "execution_count": 23,
      "outputs": [
        {
          "output_type": "stream",
          "text": [
            "Index([], dtype='object')\n",
            "Index([], dtype='object')\n",
            "Index([], dtype='object')\n",
            "Index([], dtype='object')\n"
          ],
          "name": "stdout"
        }
      ]
    },
    {
      "cell_type": "code",
      "metadata": {
        "id": "hCGMHTY0zA7O",
        "colab_type": "code",
        "outputId": "4be990f3-4b78-4306-bd1c-80f94f787fbb",
        "colab": {
          "base_uri": "https://localhost:8080/",
          "height": 166
        }
      },
      "source": [
        "# Anonoymise Tickers \n",
        "\n",
        "# Check that all tickers in the set match\n",
        "\n",
        "# Helper function to generate ticker list\n",
        "def ticker_list_generator(num):\n",
        "  ticker_list = []\n",
        "  for i in range(0, num):\n",
        "    ticker_name = 'Ticker ' + str(i+1)\n",
        "    ticker_list.append(ticker_name)\n",
        "  return ticker_list\n",
        "\n",
        "anon_tickers = ticker_list_generator(len(ltm_inputs[0].columns))\n",
        "\n",
        "for i in range(0,len(ltm_inputs)):\n",
        "  ltm_inputs[0].columns = anon_tickers\n",
        "for i in range(0,len(ntm_inputs)):\n",
        "  ntm_inputs[0].columns = anon_tickers\n",
        "for i in range(0,len(tech_inputs)):\n",
        "  tech_inputs[0].columns = anon_tickers\n",
        "\n",
        "price_close.columns = anon_tickers\n",
        "\n",
        "print(ltm_inputs[0].head())"
      ],
      "execution_count": 90,
      "outputs": [
        {
          "output_type": "stream",
          "text": [
            "            Ticker 1  Ticker 2  Ticker 3  ...  Ticker 201  Ticker 202  Ticker 203\n",
            "Date                                      ...                                    \n",
            "1995-01-03       NaN       NaN       NaN  ...         NaN         NaN         NaN\n",
            "1995-01-04       NaN       NaN       NaN  ...         NaN         NaN         NaN\n",
            "1995-01-05       NaN       NaN       NaN  ...         NaN         NaN         NaN\n",
            "1995-01-06       NaN       NaN       NaN  ...         NaN         NaN         NaN\n",
            "1995-01-09       NaN       NaN       NaN  ...         NaN         NaN         NaN\n",
            "\n",
            "[5 rows x 203 columns]\n"
          ],
          "name": "stdout"
        }
      ]
    },
    {
      "cell_type": "code",
      "metadata": {
        "colab_type": "code",
        "outputId": "a62f9918-2318-4f74-8bcd-2d85f82be0ce",
        "id": "3b3tTGWYXjuQ",
        "colab": {
          "base_uri": "https://localhost:8080/",
          "height": 398
        }
      },
      "source": [
        "# Selecting a Ticker and plotting\n",
        "\n",
        "# test_data['Ticker 1'].plot(figsize=(16,6))\n",
        "# plt.title('Test Results - Ticker 1')\n",
        "# plt.xlabel('Date')\n",
        "# plt.ylabel('Attribute')\n",
        "\n",
        "# test_data.plot(figsize=(16,6))\n",
        "\n",
        "\n",
        "\n",
        "ltm_inputs[0]['Ticker 1'].plot(figsize=(16,6))\n",
        "plt.title('ltm_book - Ticker 1')\n",
        "plt.xlabel('Date')\n",
        "plt.ylabel('Attribute')\n",
        "\n",
        "ltm_inputs[0]['Ticker 2'].plot(figsize=(16,6))\n",
        "plt.title('ltm_book - Ticker 1')\n",
        "plt.xlabel('Date')\n",
        "plt.ylabel('Attribute')\n",
        "\n",
        "ltm_inputs[0]['Ticker 3'].plot(figsize=(16,6))\n",
        "plt.title('ltm_book - Ticker 1')\n",
        "plt.xlabel('Date')\n",
        "plt.ylabel('Attribute')"
      ],
      "execution_count": 36,
      "outputs": [
        {
          "output_type": "execute_result",
          "data": {
            "text/plain": [
              "Text(0, 0.5, 'Attribute')"
            ]
          },
          "metadata": {
            "tags": []
          },
          "execution_count": 36
        },
        {
          "output_type": "display_data",
          "data": {
            "image/png": "[encoded data removed]",
            "text/plain": [
              "<Figure size 1152x432 with 1 Axes>"
            ]
          },
          "metadata": {
            "tags": []
          }
        }
      ]
    },
    {
      "cell_type": "code",
      "metadata": {
        "id": "gep9h1FNHQJ0",
        "colab_type": "code",
        "colab": {}
      },
      "source": [
        "# Converting Price format to returns format\n",
        "def price_to_returns(timeframe, dataframe):\n",
        "  if timeframe == 'daily':\n",
        "    return dataframe.pct_change(1) # remember to discount all target variables that are NaN\n",
        "  \n",
        "  if timeframe == 'monthly':\n",
        "    return dataframe.resample('BM')\n",
        "  \n",
        "returns = price_to_returns('daily', price_close) \n",
        "\n",
        "# returns_data = price_to_returns(price_data) "
      ],
      "execution_count": 0,
      "outputs": []
    },
    {
      "cell_type": "markdown",
      "metadata": {
        "id": "guJycK9f5Z1E",
        "colab_type": "text"
      },
      "source": [
        "# Data Preprocessing\n",
        "\n",
        "Several steps are taken in order to structure the data so that it can be proccessed by the model.\n",
        "\n",
        "1.   Data Analysis and Cleaning: Data is analysed for missing values, its properties, smoothed for various time intervals and resolved of any inconsistencies.  \n",
        "\n",
        "2. Training-Test Split: Data is divided into training and test splits according to a selected parameter value. \n",
        "\n",
        "3.  Data Transformation: Data is normalised, aggregated and generalised, both for training and testing\n",
        "\n",
        "4. Data Integration: Data is merged together appropriately to form the input shape of the model.   \n"
      ]
    },
    {
      "cell_type": "markdown",
      "metadata": {
        "id": "jfuTGvzQKPue",
        "colab_type": "text"
      },
      "source": [
        "##Data Analysis and Cleaning\n",
        "\n",
        "Something to consider is the fact that returns are more likely to correlate with changes in fundamentals rather than the absolute values of fundamentals. However, there is likely to be a disceprancy in the rate of change of fundamentals and the change in prices. Fundamentals are often only declared quarterly whereas prices are subject to daily fluctuations. We will first analyse the number of times a fundamental changes relative to the price changes. \n",
        "\n"
      ]
    },
    {
      "cell_type": "code",
      "metadata": {
        "id": "XO_BJonjhHVL",
        "colab_type": "code",
        "outputId": "edc48f6a-e81c-4adf-afa8-df885faeddee",
        "colab": {
          "base_uri": "https://localhost:8080/",
          "height": 516
        }
      },
      "source": [
        "def data_change(dataframe, column): \n",
        "  noChange_count = 0\n",
        "  NaN_count = 0\n",
        "  for i in range (0, len(dataframe.index)): \n",
        "    if dataframe[column].diff().iloc[i] == 0:\n",
        "      noChange_count += 1\n",
        "    if dataframe[column].isna().iloc[i]: \n",
        "      NaN_count += 1\n",
        "  \n",
        "  print('Total rows: ', len(dataframe[column]))\n",
        "  print('The number of rows where no change occurs: ', noChange_count)\n",
        "  print('The number of rows which are NaN: ', NaN_count)\n",
        "  print('Useful datapoints:', (len(dataframe[column])-noChange_count-NaN_count))\n",
        "  \n",
        "  \n",
        "print(data_change(ltm_inputs[0], 'Ticker 1'))\n",
        "print(data_change(ltm_inputs[0], 'Ticker 200'))\n",
        "\n",
        "print(data_change(ntm_inputs[0], 'Ticker 1'))\n",
        "print(data_change(ntm_inputs[0], 'Ticker 200'))\n",
        "\n",
        "print(data_change(tech_inputs[0], 'Ticker 1'))\n",
        "print(data_change(tech_inputs[0], 'Ticker 200'))\n",
        "  \n",
        "  \n",
        "# # Some tickers are missing so need to account for KeyError\n",
        "# for i in tickers:\n",
        "#   try:\n",
        "#     print(i)\n",
        "#     data_change(test_data, i)\n",
        "#   except KeyError:\n",
        "#     continue\n"
      ],
      "execution_count": 47,
      "outputs": [
        {
          "output_type": "stream",
          "text": [
            "Total rows:  6313\n",
            "The number of rows where no change occurs:  2659\n",
            "The number of rows which are NaN:  2992\n",
            "Useful datapoints: 662\n",
            "None\n",
            "Total rows:  6313\n",
            "The number of rows where no change occurs:  1017\n",
            "The number of rows which are NaN:  4755\n",
            "Useful datapoints: 541\n",
            "None\n",
            "Total rows:  6313\n",
            "The number of rows where no change occurs:  1487\n",
            "The number of rows which are NaN:  3200\n",
            "Useful datapoints: 1626\n",
            "None\n",
            "Total rows:  6313\n",
            "The number of rows where no change occurs:  10\n",
            "The number of rows which are NaN:  4785\n",
            "Useful datapoints: 1518\n",
            "None\n",
            "Total rows:  6313\n",
            "The number of rows where no change occurs:  4\n",
            "The number of rows which are NaN:  2767\n",
            "Useful datapoints: 3542\n",
            "None\n",
            "Total rows:  6313\n",
            "The number of rows where no change occurs:  222\n",
            "The number of rows which are NaN:  4716\n",
            "Useful datapoints: 1375\n",
            "None\n"
          ],
          "name": "stdout"
        }
      ]
    },
    {
      "cell_type": "markdown",
      "metadata": {
        "id": "XbrJzj6fJqvv",
        "colab_type": "text"
      },
      "source": [
        "## Training Data Generation"
      ]
    },
    {
      "cell_type": "code",
      "metadata": {
        "id": "4yfDmdQJcrPp",
        "colab_type": "code",
        "colab": {}
      },
      "source": [
        "def training_set(train_percentage, dataframe): \n",
        "  train_size = int(train_percentage*len(dataframe.index)) \n",
        "  train_set = dataframe[:train_size]\n",
        "  return pd.DataFrame(train_set)  \n",
        "\n",
        "training_split = 0.8\n",
        "\n",
        "# INPUTS\n",
        "\n",
        "print(type(ltm_inputs))\n",
        "\n",
        "ltm_trainInputs = []\n",
        "ntm_trainInputs = []\n",
        "tech_trainInputs = []\n",
        "\n",
        "for i in range(0,len(ltm_inputs)):\n",
        "  ltm_trainInputs.append(training_set(training_split, ltm_inputs[i]))\n",
        "  \n",
        "for i in range(0,len(ntm_inputs)):\n",
        "  ntm_trainInputs.append(training_set(training_split, ntm_inputs[i]))\n",
        "\n",
        "for i in range(0,len(tech_inputs)):\n",
        "  tech_trainInputs.append(training_set(training_split, tech_inputs[i]))\n",
        "\n",
        "  \n",
        "returns_trainOutput = training_set(training_split, returns)\n",
        "\n",
        "\n",
        "print(ntm_trainInputs[0].info())\n",
        "print(returns_trainOutput.info())\n",
        "\n",
        "\n",
        "# # TEST INPUT\n",
        "# test_train_set = training_set(training_split, test_data)\n",
        "# print(\"****************INPUT*****************\")\n",
        "# print (test_train_set.head())\n",
        "# print(\"**************************************\")\n",
        "# print(test_train_set.info())\n",
        "\n",
        "\n"
      ],
      "execution_count": 0,
      "outputs": []
    },
    {
      "cell_type": "code",
      "metadata": {
        "id": "FadqwQSe3RBv",
        "colab_type": "code",
        "colab": {
          "base_uri": "https://localhost:8080/",
          "height": 33
        },
        "outputId": "c5556d22-b469-4350-9e20-ab8ecae393d8"
      },
      "source": [
        "len(ltm_inputs[0].index)-int(training_split*len(ltm_inputs[0].index)) "
      ],
      "execution_count": 155,
      "outputs": [
        {
          "output_type": "execute_result",
          "data": {
            "text/plain": [
              "1263"
            ]
          },
          "metadata": {
            "tags": []
          },
          "execution_count": 155
        }
      ]
    },
    {
      "cell_type": "code",
      "metadata": {
        "id": "RJ-QTlDF1hOm",
        "colab_type": "code",
        "colab": {
          "base_uri": "https://localhost:8080/",
          "height": 216
        },
        "outputId": "43214eea-7f5b-4152-e70a-b91a68fbc4af"
      },
      "source": [
        "def validation_set(train_percentage, dataframe): \n",
        "  train_size = int(train_percentage*len(dataframe.index)) \n",
        "  # val_size = len(dataframe.index)-int(train_percentage*len(dataframe.index)) \n",
        "  val_set = dataframe[train_size:]\n",
        "  return pd.DataFrame(val_set)  \n",
        "\n",
        "\n",
        "ltm_valInputs = []\n",
        "ntm_valInputs = []\n",
        "tech_valInputs = []\n",
        "\n",
        "for i in range(0,len(ltm_inputs)):\n",
        "  ltm_valInputs.append(validation_set(training_split, ltm_inputs[i]))\n",
        "  \n",
        "for i in range(0,len(ntm_inputs)):\n",
        "  ntm_valInputs.append(validation_set(training_split, ntm_inputs[i]))\n",
        "\n",
        "for i in range(0,len(tech_inputs)):\n",
        "  tech_valInputs.append(validation_set(training_split, tech_inputs[i]))\n",
        "\n",
        "  \n",
        "returns_valOutput = validation_set(training_split, returns)\n",
        "\n",
        "print(ltm_valInputs[0].info())\n",
        "print(returns_valOutput.info())\n"
      ],
      "execution_count": 156,
      "outputs": [
        {
          "output_type": "stream",
          "text": [
            "<class 'pandas.core.frame.DataFrame'>\n",
            "DatetimeIndex: 1263 entries, 2014-06-26 to 2019-05-17\n",
            "Columns: 203 entries, Ticker 1 to Ticker 203\n",
            "dtypes: float64(203)\n",
            "memory usage: 2.0 MB\n",
            "None\n",
            "<class 'pandas.core.frame.DataFrame'>\n",
            "DatetimeIndex: 1263 entries, 2014-06-26 to 2019-05-17\n",
            "Columns: 203 entries, Ticker 1 to Ticker 203\n",
            "dtypes: float64(203)\n",
            "memory usage: 2.0 MB\n",
            "None\n"
          ],
          "name": "stdout"
        }
      ]
    },
    {
      "cell_type": "markdown",
      "metadata": {
        "id": "U79APBT7JwcE",
        "colab_type": "text"
      },
      "source": [
        "## Input and Output Transformation"
      ]
    },
    {
      "cell_type": "code",
      "metadata": {
        "id": "38KlbkcIfOk4",
        "colab_type": "code",
        "colab": {
          "base_uri": "https://localhost:8080/",
          "height": 666
        },
        "outputId": "a98d5a84-c44f-43f2-a088-9552a91925ee"
      },
      "source": [
        "def input_scaling(dataframe):\n",
        "  \n",
        "  # This is the MinMax Scaling function \n",
        "  sc = MinMaxScaler(feature_range = (0, 1))\n",
        "  scaled_input_dataframe = sc.fit_transform(dataframe) # This is now an n-dimensional array type\n",
        "  \n",
        "  return scaled_input_dataframe\n",
        "\n",
        "np.warnings.filterwarnings('ignore', r'All-NaN (slice|axis) encountered')\n",
        "\n",
        "for i in range(0,len(ltm_inputs)):\n",
        "  ltm_trainInputs[i] = input_scaling(ltm_trainInputs[i])\n",
        "  \n",
        "for i in range(0,len(ntm_inputs)):\n",
        "  ntm_trainInputs[i] = input_scaling(ntm_trainInputs[i])\n",
        "\n",
        "for i in range(0,len(tech_inputs)):\n",
        "  tech_trainInputs[i] = input_scaling(tech_trainInputs[i])\n",
        "\n",
        "\n",
        " \n",
        "print(type(ltm_trainInputs[0][1000:1001]))\n",
        "print(len(ltm_trainInputs[0]))\n",
        "print(ltm_trainInputs[0][1000:1001][0][3])\n",
        "print(len(ltm_trainInputs[0][:1][0]))\n",
        "\n",
        "print(ltm_trainInputs[0][1000:1001])\n",
        "\n",
        "sample_input = [ltm_trainInputs[0][1000:1001][0][3],ntm_trainInputs[0][1000:1001][0][3], tech_trainInputs[0][1000:1001][0][3] ]\n",
        "\n",
        "print(sample_input)\n"
      ],
      "execution_count": 98,
      "outputs": [
        {
          "output_type": "stream",
          "text": [
            "<class 'numpy.ndarray'>\n",
            "5050\n",
            "nan\n",
            "203\n",
            "[[       nan        nan 0.                nan        nan        nan\n",
            "         nan        nan        nan        nan 0.                nan\n",
            "         nan        nan        nan        nan        nan        nan\n",
            "         nan        nan        nan        nan        nan        nan\n",
            "         nan 0.16727071        nan        nan        nan        nan\n",
            "         nan        nan        nan        nan 0.48700565        nan\n",
            "         nan        nan        nan 0.06077075        nan        nan\n",
            "         nan        nan 0.                nan        nan        nan\n",
            "         nan        nan        nan        nan 0.1138583  0.1756445\n",
            "         nan        nan 0.                nan        nan        nan\n",
            "         nan        nan        nan        nan        nan        nan\n",
            "         nan 0.03453689        nan        nan        nan        nan\n",
            "         nan        nan        nan        nan        nan        nan\n",
            "         nan        nan        nan 0.06724919 0.02761319 0.19720826\n",
            "         nan 0.02459016        nan        nan        nan        nan\n",
            "         nan 0.         0.12025723        nan        nan        nan\n",
            "         nan        nan        nan        nan        nan        nan\n",
            "  0.         0.49403686        nan        nan        nan        nan\n",
            "         nan        nan        nan        nan        nan        nan\n",
            "         nan        nan        nan        nan        nan        nan\n",
            "         nan        nan        nan        nan        nan        nan\n",
            "         nan        nan        nan        nan 0.62559033        nan\n",
            "         nan        nan        nan        nan        nan        nan\n",
            "         nan 0.                nan 0.                nan        nan\n",
            "         nan        nan        nan        nan        nan        nan\n",
            "         nan        nan        nan        nan        nan 0.16330451\n",
            "  0.                nan        nan        nan        nan        nan\n",
            "         nan        nan        nan        nan        nan 0.\n",
            "         nan        nan        nan 0.04910714        nan        nan\n",
            "         nan        nan        nan        nan 0.0157625  0.00752056\n",
            "  0.07918582        nan        nan        nan        nan        nan\n",
            "         nan        nan        nan        nan        nan        nan\n",
            "  0.                nan        nan        nan        nan        nan\n",
            "         nan        nan        nan        nan        nan]]\n",
            "[nan, nan, nan]\n"
          ],
          "name": "stdout"
        }
      ]
    },
    {
      "cell_type": "code",
      "metadata": {
        "id": "F6snYzXc-yTv",
        "colab_type": "code",
        "colab": {
          "base_uri": "https://localhost:8080/",
          "height": 266
        },
        "outputId": "72e402c7-1f30-47a2-ab2b-e4cb1a9e4d2a"
      },
      "source": [
        "def output_classifier(type ,dataframe): \n",
        "  \n",
        "  # No adjustments\n",
        "  if type == 'raw':\n",
        "    scaled_dataframe = dataframe\n",
        "  \n",
        "  # Binary classifier\n",
        "  if type == 'binary':\n",
        "    pass\n",
        "  \n",
        "  return scaled_dataframe\n",
        "\n",
        "returns_trainOutput = output_classifier('raw', returns_trainOutput)\n",
        "\n",
        "print (returns_trainOutput.head())\n",
        "print (returns_trainOutput.info())"
      ],
      "execution_count": 129,
      "outputs": [
        {
          "output_type": "stream",
          "text": [
            "            Ticker 1  Ticker 2  Ticker 3  ...  Ticker 201  Ticker 202  Ticker 203\n",
            "Date                                      ...                                    \n",
            "1995-01-03       NaN       NaN       NaN  ...         NaN         NaN         NaN\n",
            "1995-01-04       NaN       NaN  0.019243  ...         NaN         NaN   -0.007060\n",
            "1995-01-05       NaN       NaN  0.006511  ...         NaN         NaN    0.014284\n",
            "1995-01-06       NaN       NaN -0.001300  ...         NaN         NaN    0.007103\n",
            "1995-01-09       NaN       NaN  0.002915  ...         NaN         NaN    0.000644\n",
            "\n",
            "[5 rows x 203 columns]\n",
            "<class 'pandas.core.frame.DataFrame'>\n",
            "DatetimeIndex: 5050 entries, 1995-01-03 to 2014-06-25\n",
            "Columns: 203 entries, Ticker 1 to Ticker 203\n",
            "dtypes: float64(203)\n",
            "memory usage: 7.9 MB\n",
            "None\n"
          ],
          "name": "stdout"
        }
      ]
    },
    {
      "cell_type": "markdown",
      "metadata": {
        "id": "xeMN7TE0Ki1P",
        "colab_type": "text"
      },
      "source": [
        "## Data Integration"
      ]
    },
    {
      "cell_type": "code",
      "metadata": {
        "id": "cYKnA5iUAnmG",
        "colab_type": "code",
        "outputId": "dce2fb02-7f3b-47a9-a798-9a6eb2a44da3",
        "colab": {
          "base_uri": "https://localhost:8080/",
          "height": 103
        }
      },
      "source": [
        "trainInput = []\n",
        "trainTarget = []\n",
        "\n",
        "# Check that the indices are of the same length \n",
        "if len(ltm_trainInputs[0]) != len(returns_trainOutput):\n",
        "  assert False, \"Incompatible dataframe index lengths!\"\n",
        "\n",
        "for company in range(0, len(ltm_trainInputs[0][:1][0])):\n",
        "  \n",
        "  for time_unit in range(0, len(ltm_trainInputs[0])): \n",
        "    input_unit = []\n",
        "    \n",
        "    for ltm_attribute in range(0, len(ltm_trainInputs)): \n",
        "      input_unit.append(ltm_trainInputs[ltm_attribute][time_unit:time_unit+1][0][company])\n",
        "                        \n",
        "    for ntm_attribute in range(0, len(ntm_trainInputs)):\n",
        "      input_unit.append(ntm_trainInputs[ntm_attribute][time_unit:time_unit+1][0][company])\n",
        "                        \n",
        "    for tech_attribute in range(0, len(tech_trainInputs)): \n",
        "      input_unit.append(tech_trainInputs[tech_attribute][time_unit:time_unit+1][0][company])\n",
        "                        \n",
        "    trainInput.append(input_unit)\n",
        "    \n",
        "for company in range(0, len(returns_trainOutput.columns)):\n",
        "  for time_unit in range(0, len(returns_trainOutput.index)): \n",
        "    trainTarget.append(returns_trainOutput[anon_tickers[company]][time_unit])\n",
        "  \n",
        "\n",
        "# for i in range(0, len(scaled_returns_train_set.index)): # this is the ratio of input data to output data. \n",
        "#     X_train.append(scaled_test_train_set[i-6:i, 0]) # second parameter is the axis - in this case, only 1 dimension\n",
        "#     Y_train.append(scaled_returns_train_set[i, 0])\n",
        "\n",
        "# print(type(input_trainDataset))\n",
        "# print(\"**************************************\")\n",
        "# print(input_trainDataset[0:5])\n",
        "\n",
        "\n",
        "# # Conversion to numpy array for improved memory, performance and functionality\n",
        "# input_trainDataset, output_trainDataset = np.array(input_trainDataset), np.array(output_trainDataset)\n",
        "# print(type(input_trainDataset))\n",
        "# print(\"**************************************\")\n",
        "\n",
        "# print(input_trainDataset[0:5])\n",
        "\n",
        "# print(input_trainDataset.shape[0])\n",
        "# print(input_trainDataset.shape[1])\n",
        "# print(\"**************************************\")\n",
        "\n",
        "\n",
        "# # Reshaping\n",
        "# input_trainDataset = np.reshape(input_trainDataset, (input_trainDataset.shape[0], input_trainDataset.shape[1], 1))\n",
        "# print(input_trainDataset[0:5])\n",
        "\n",
        "print(trainInput[0:1])\n",
        "print(len(trainInput))\n",
        "print(trainTarget[0:1])\n",
        "print(len(trainTarget))\n"
      ],
      "execution_count": 130,
      "outputs": [
        {
          "output_type": "stream",
          "text": [
            "[[nan, nan, nan, nan, nan, nan, nan, nan, nan, nan, nan, nan, nan, nan, nan, nan, nan, nan, nan, nan, nan, nan, nan]]\n",
            "1025150\n",
            "[nan]\n",
            "1025150\n"
          ],
          "name": "stdout"
        }
      ]
    },
    {
      "cell_type": "code",
      "metadata": {
        "id": "0PHQ90cpu0t1",
        "colab_type": "code",
        "colab": {
          "base_uri": "https://localhost:8080/",
          "height": 216
        },
        "outputId": "4ff49e8e-214d-4e39-9003-a0e86b120b45"
      },
      "source": [
        "# Conversion to numpy array for improved memory, performance and functionality\n",
        "trainInput, trainTarget = np.array(trainInput), np.array(trainTarget)\n",
        "print(trainInput[0:5])\n",
        "\n",
        "print(trainInput.shape[0])\n",
        "print(trainInput.shape[1])\n",
        "\n"
      ],
      "execution_count": 136,
      "outputs": [
        {
          "output_type": "stream",
          "text": [
            "[[nan nan nan nan nan nan nan nan nan nan nan nan nan nan nan nan nan nan\n",
            "  nan nan nan nan nan]\n",
            " [nan nan nan nan nan nan nan nan nan nan nan nan nan nan nan nan nan nan\n",
            "  nan nan nan nan nan]\n",
            " [nan nan nan nan nan nan nan nan nan nan nan nan nan nan nan nan nan nan\n",
            "  nan nan nan nan nan]\n",
            " [nan nan nan nan nan nan nan nan nan nan nan nan nan nan nan nan nan nan\n",
            "  nan nan nan nan nan]\n",
            " [nan nan nan nan nan nan nan nan nan nan nan nan nan nan nan nan nan nan\n",
            "  nan nan nan nan nan]]\n",
            "1025150\n",
            "23\n"
          ],
          "name": "stdout"
        }
      ]
    },
    {
      "cell_type": "markdown",
      "metadata": {
        "id": "mB3brZVQZFM7",
        "colab_type": "text"
      },
      "source": [
        "# Network Implementation\n"
      ]
    },
    {
      "cell_type": "markdown",
      "metadata": {
        "id": "I5CxNAYlLG_S",
        "colab_type": "text"
      },
      "source": [
        "## Core Architecture"
      ]
    },
    {
      "cell_type": "code",
      "metadata": {
        "id": "mlqU_UHBkfJz",
        "colab_type": "code",
        "outputId": "d7972b4d-008b-4f20-8528-59609082d30f",
        "colab": {
          "base_uri": "https://localhost:8080/",
          "height": 33
        }
      },
      "source": [
        "data_dim = trainInput.shape[1]\n",
        "timesteps = trainInput.shape[0]\n",
        "\n",
        "# Sample Code\n",
        "# model parameters:\n",
        "embedding_dims = 50\n",
        "lstm_units = 32\n",
        "\n",
        "print('Build model...')\n",
        "model = Sequential()\n",
        "model.add(Masking(mask_value=0.))\n",
        "model.add(LSTM(lstm_units, return_sequences=True, input_shape=(timesteps, data_dim)))\n",
        "\n",
        "model.add(Dropout(0.2))\n",
        "\n",
        "# model.add(LSTM(lstm_units, return_sequences=True))\n",
        "# model.add(Dropout(0.2))\n",
        "\n",
        "# model.add(LSTM(lstm_units, return_sequences=True))\n",
        "# model.add(Dropout(0.2))\n",
        "\n",
        "# model.add(LSTM(lstm_units))\n",
        "# model.add(Dropout(0.2))\n",
        "# Check which is better\n",
        "model.add(Dense(1, activation='sigmoid'))\n",
        "# model.add(Dense(units = 1))"
      ],
      "execution_count": 142,
      "outputs": [
        {
          "output_type": "stream",
          "text": [
            "Build model...\n"
          ],
          "name": "stdout"
        }
      ]
    },
    {
      "cell_type": "markdown",
      "metadata": {
        "id": "WdfJp6SGLKKa",
        "colab_type": "text"
      },
      "source": [
        "## Gradient Optimiser\n"
      ]
    },
    {
      "cell_type": "code",
      "metadata": {
        "id": "JF7oF83n5yr_",
        "colab_type": "code",
        "colab": {
          "base_uri": "https://localhost:8080/",
          "height": 86
        },
        "outputId": "41ed0871-b9e3-4c6c-fd0f-d94a4b103c58"
      },
      "source": [
        "# try using different optimizers and different optimizer configs\n",
        "\n",
        "model.compile(loss='binary_crossentropy', optimizer='adam', metrics=['accuracy'])"
      ],
      "execution_count": 143,
      "outputs": [
        {
          "output_type": "stream",
          "text": [
            "WARNING:tensorflow:From /usr/local/lib/python3.6/dist-packages/tensorflow/python/framework/op_def_library.py:263: colocate_with (from tensorflow.python.framework.ops) is deprecated and will be removed in a future version.\n",
            "Instructions for updating:\n",
            "Colocations handled automatically by placer.\n"
          ],
          "name": "stdout"
        }
      ]
    },
    {
      "cell_type": "code",
      "metadata": {
        "id": "gYv6OKlT52Pq",
        "colab_type": "code",
        "colab": {
          "base_uri": "https://localhost:8080/",
          "height": 113
        },
        "outputId": "4bb13c6b-b779-4c38-bf46-d4df6eb86b9e"
      },
      "source": [
        "SVG(model_to_dot(model, show_shapes=True).create(prog='dot', format='svg'))"
      ],
      "execution_count": 148,
      "outputs": [
        {
          "output_type": "execute_result",
          "data": {
            "text/plain": [
              "<IPython.core.display.SVG object>"
            ],
            "image/svg+xml": "<svg height=\"55pt\" viewBox=\"0.00 0.00 1031.50 55.00\" width=\"1032pt\" xmlns=\"http://www.w3.org/2000/svg\" xmlns:xlink=\"http://www.w3.org/1999/xlink\">\n<g class=\"graph\" id=\"graph0\" transform=\"scale(1 1) rotate(0) translate(4 51)\">\n<title>G</title>\n<polygon fill=\"#ffffff\" points=\"-4,4 -4,-51 1027.5,-51 1027.5,4 -4,4\" stroke=\"transparent\"/>\n<!-- 140386169201048 -->\n<g class=\"node\" id=\"node1\">\n<title>140386169201048</title>\n<polygon fill=\"none\" points=\"0,-.5 0,-46.5 260,-46.5 260,-.5 0,-.5\" stroke=\"#000000\"/>\n<text fill=\"#000000\" font-family=\"Times,serif\" font-size=\"14.00\" text-anchor=\"middle\" x=\"69\" y=\"-19.8\">masking_2: Masking</text>\n<polyline fill=\"none\" points=\"138,-.5 138,-46.5 \" stroke=\"#000000\"/>\n<text fill=\"#000000\" font-family=\"Times,serif\" font-size=\"14.00\" text-anchor=\"middle\" x=\"167\" y=\"-31.3\">input:</text>\n<polyline fill=\"none\" points=\"138,-23.5 196,-23.5 \" stroke=\"#000000\"/>\n<text fill=\"#000000\" font-family=\"Times,serif\" font-size=\"14.00\" text-anchor=\"middle\" x=\"167\" y=\"-8.3\">output:</text>\n<polyline fill=\"none\" points=\"196,-.5 196,-46.5 \" stroke=\"#000000\"/>\n<text fill=\"#000000\" font-family=\"Times,serif\" font-size=\"14.00\" text-anchor=\"middle\" x=\"228\" y=\"-31.3\">multiple</text>\n<polyline fill=\"none\" points=\"196,-23.5 260,-23.5 \" stroke=\"#000000\"/>\n<text fill=\"#000000\" font-family=\"Times,serif\" font-size=\"14.00\" text-anchor=\"middle\" x=\"228\" y=\"-8.3\">multiple</text>\n</g>\n<!-- 140386168644048 -->\n<g class=\"node\" id=\"node2\">\n<title>140386168644048</title>\n<polygon fill=\"none\" points=\"278,-.5 278,-46.5 502,-46.5 502,-.5 278,-.5\" stroke=\"#000000\"/>\n<text fill=\"#000000\" font-family=\"Times,serif\" font-size=\"14.00\" text-anchor=\"middle\" x=\"329\" y=\"-19.8\">lstm_1: LSTM</text>\n<polyline fill=\"none\" points=\"380,-.5 380,-46.5 \" stroke=\"#000000\"/>\n<text fill=\"#000000\" font-family=\"Times,serif\" font-size=\"14.00\" text-anchor=\"middle\" x=\"409\" y=\"-31.3\">input:</text>\n<polyline fill=\"none\" points=\"380,-23.5 438,-23.5 \" stroke=\"#000000\"/>\n<text fill=\"#000000\" font-family=\"Times,serif\" font-size=\"14.00\" text-anchor=\"middle\" x=\"409\" y=\"-8.3\">output:</text>\n<polyline fill=\"none\" points=\"438,-.5 438,-46.5 \" stroke=\"#000000\"/>\n<text fill=\"#000000\" font-family=\"Times,serif\" font-size=\"14.00\" text-anchor=\"middle\" x=\"470\" y=\"-31.3\">multiple</text>\n<polyline fill=\"none\" points=\"438,-23.5 502,-23.5 \" stroke=\"#000000\"/>\n<text fill=\"#000000\" font-family=\"Times,serif\" font-size=\"14.00\" text-anchor=\"middle\" x=\"470\" y=\"-8.3\">multiple</text>\n</g>\n<!-- 140386169204464 -->\n<g class=\"node\" id=\"node3\">\n<title>140386169204464</title>\n<polygon fill=\"none\" points=\"520,-.5 520,-46.5 776,-46.5 776,-.5 520,-.5\" stroke=\"#000000\"/>\n<text fill=\"#000000\" font-family=\"Times,serif\" font-size=\"14.00\" text-anchor=\"middle\" x=\"587\" y=\"-19.8\">dropout_1: Dropout</text>\n<polyline fill=\"none\" points=\"654,-.5 654,-46.5 \" stroke=\"#000000\"/>\n<text fill=\"#000000\" font-family=\"Times,serif\" font-size=\"14.00\" text-anchor=\"middle\" x=\"683\" y=\"-31.3\">input:</text>\n<polyline fill=\"none\" points=\"654,-23.5 712,-23.5 \" stroke=\"#000000\"/>\n<text fill=\"#000000\" font-family=\"Times,serif\" font-size=\"14.00\" text-anchor=\"middle\" x=\"683\" y=\"-8.3\">output:</text>\n<polyline fill=\"none\" points=\"712,-.5 712,-46.5 \" stroke=\"#000000\"/>\n<text fill=\"#000000\" font-family=\"Times,serif\" font-size=\"14.00\" text-anchor=\"middle\" x=\"744\" y=\"-31.3\">multiple</text>\n<polyline fill=\"none\" points=\"712,-23.5 776,-23.5 \" stroke=\"#000000\"/>\n<text fill=\"#000000\" font-family=\"Times,serif\" font-size=\"14.00\" text-anchor=\"middle\" x=\"744\" y=\"-8.3\">multiple</text>\n</g>\n<!-- 140386169253728 -->\n<g class=\"node\" id=\"node4\">\n<title>140386169253728</title>\n<polygon fill=\"none\" points=\"794.5,-.5 794.5,-46.5 1023.5,-46.5 1023.5,-.5 794.5,-.5\" stroke=\"#000000\"/>\n<text fill=\"#000000\" font-family=\"Times,serif\" font-size=\"14.00\" text-anchor=\"middle\" x=\"848\" y=\"-19.8\">dense_1: Dense</text>\n<polyline fill=\"none\" points=\"901.5,-.5 901.5,-46.5 \" stroke=\"#000000\"/>\n<text fill=\"#000000\" font-family=\"Times,serif\" font-size=\"14.00\" text-anchor=\"middle\" x=\"930.5\" y=\"-31.3\">input:</text>\n<polyline fill=\"none\" points=\"901.5,-23.5 959.5,-23.5 \" stroke=\"#000000\"/>\n<text fill=\"#000000\" font-family=\"Times,serif\" font-size=\"14.00\" text-anchor=\"middle\" x=\"930.5\" y=\"-8.3\">output:</text>\n<polyline fill=\"none\" points=\"959.5,-.5 959.5,-46.5 \" stroke=\"#000000\"/>\n<text fill=\"#000000\" font-family=\"Times,serif\" font-size=\"14.00\" text-anchor=\"middle\" x=\"991.5\" y=\"-31.3\">multiple</text>\n<polyline fill=\"none\" points=\"959.5,-23.5 1023.5,-23.5 \" stroke=\"#000000\"/>\n<text fill=\"#000000\" font-family=\"Times,serif\" font-size=\"14.00\" text-anchor=\"middle\" x=\"991.5\" y=\"-8.3\">multiple</text>\n</g>\n</g>\n</svg>"
          },
          "metadata": {
            "tags": []
          },
          "execution_count": 148
        }
      ]
    },
    {
      "cell_type": "code",
      "metadata": {
        "id": "dQO47iKk0oRU",
        "colab_type": "code",
        "colab": {}
      },
      "source": [
        ""
      ],
      "execution_count": 0,
      "outputs": []
    },
    {
      "cell_type": "markdown",
      "metadata": {
        "id": "yBvqxci1kVZn",
        "colab_type": "text"
      },
      "source": [
        "# Benchmark\n",
        "\n"
      ]
    }
  ]
}