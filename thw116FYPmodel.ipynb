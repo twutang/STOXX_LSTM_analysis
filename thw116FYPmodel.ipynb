{
  "nbformat": 4,
  "nbformat_minor": 0,
  "metadata": {
    "colab": {
      "name": "thw116FYPmodel.ipynb",
      "version": "0.3.2",
      "provenance": [],
      "collapsed_sections": [],
      "toc_visible": true
    },
    "kernelspec": {
      "name": "python3",
      "display_name": "Python 3"
    }
  },
  "cells": [
    {
      "cell_type": "code",
      "metadata": {
        "id": "qIU13nThWPq4",
        "colab_type": "code",
        "outputId": "e60d7c30-eb43-4d64-c9b6-2b517e5ec05c",
        "colab": {
          "base_uri": "https://localhost:8080/",
          "height": 34
        }
      },
      "source": [
        "import numpy as np\n",
        "import pandas as pd\n",
        "import datetime as dt\n",
        "\n",
        "import matplotlib.dates as mdates\n",
        "import matplotlib.pyplot as plt\n",
        "import seaborn as sns\n",
        "\n",
        "from sklearn.preprocessing import MinMaxScaler, Normalizer\n",
        "from scipy import stats\n",
        "\n",
        "from keras.models import Sequential, Model, load_model\n",
        "from keras.layers import Activation, Dense, LSTM, Dropout, Masking, Input\n",
        "from keras import optimizers\n",
        "from keras.utils.vis_utils import model_to_dot\n",
        "\n",
        "from IPython.display import SVG\n",
        "\n",
        "from google.colab import files\n",
        "\n",
        "import os"
      ],
      "execution_count": 0,
      "outputs": [
        {
          "output_type": "stream",
          "text": [
            "Using TensorFlow backend.\n"
          ],
          "name": "stderr"
        }
      ]
    },
    {
      "cell_type": "markdown",
      "metadata": {
        "id": "7oerk0UaY0wG",
        "colab_type": "text"
      },
      "source": [
        "# Initial Data Importation and Structuring"
      ]
    },
    {
      "cell_type": "markdown",
      "metadata": {
        "id": "s-vX5NnVkai6",
        "colab_type": "text"
      },
      "source": [
        "## Accessing and loading data from Google Drive \n",
        "\n"
      ]
    },
    {
      "cell_type": "code",
      "metadata": {
        "id": "vtzJiK3GZxwf",
        "colab_type": "code",
        "outputId": "a99b469f-1b0a-4bc6-f8c8-7bd5adca1ebc",
        "colab": {
          "base_uri": "https://localhost:8080/",
          "height": 122
        }
      },
      "source": [
        "# mounting Google Drive which contains the relevant data\n",
        "\n",
        "from google.colab import drive\n",
        "drive.mount('/content/drive')\n",
        "\n"
      ],
      "execution_count": 0,
      "outputs": [
        {
          "output_type": "stream",
          "text": [
            "Go to this URL in a browser: https://accounts.google.com/o/oauth2/auth?client_id=947318989803-6bn6qk8qdgf4n4g3pfee6491hc0brc4i.apps.googleusercontent.com&redirect_uri=urn%3Aietf%3Awg%3Aoauth%3A2.0%3Aoob&scope=email%20https%3A%2F%2Fwww.googleapis.com%2Fauth%2Fdocs.test%20https%3A%2F%2Fwww.googleapis.com%2Fauth%2Fdrive%20https%3A%2F%2Fwww.googleapis.com%2Fauth%2Fdrive.photos.readonly%20https%3A%2F%2Fwww.googleapis.com%2Fauth%2Fpeopleapi.readonly&response_type=code\n",
            "\n",
            "Enter your authorization code:\n",
            "··········\n",
            "Mounted at /content/drive\n"
          ],
          "name": "stdout"
        }
      ]
    },
    {
      "cell_type": "code",
      "metadata": {
        "id": "tKuXkHkNWbSS",
        "colab_type": "code",
        "outputId": "14da0e32-0bd9-48bf-9e47-32aae9cf6854",
        "colab": {
          "base_uri": "https://localhost:8080/",
          "height": 527
        }
      },
      "source": [
        "# Fundamental input data\n",
        "ltm_book = pd.read_csv('/content/drive/My Drive/thw116_FYP/data/ltm_book.csv')\n",
        "ltm_div = pd.read_csv('/content/drive/My Drive/thw116_FYP/data/ltm_div.csv')\n",
        "ltm_ebit = pd.read_csv('/content/drive/My Drive/thw116_FYP/data/ltm_ebit.csv')\n",
        "ltm_eps = pd.read_csv('/content/drive/My Drive/thw116_FYP/data/ltm_eps.csv')\n",
        "ltm_fcf = pd.read_csv('/content/drive/My Drive/thw116_FYP/data/ltm_fcf.csv')\n",
        "ltm_pbook = pd.read_csv('/content/drive/My Drive/thw116_FYP/data/ltm_pbook.csv')\n",
        "ltm_sales = pd.read_csv('/content/drive/My Drive/thw116_FYP/data/ltm_sales.csv')\n",
        "\n",
        "ntm_book = pd.read_csv('/content/drive/My Drive/thw116_FYP/data/ntm_book.csv')\n",
        "ntm_div = pd.read_csv('/content/drive/My Drive/thw116_FYP/data/ntm_div.csv')\n",
        "ntm_ebit = pd.read_csv('/content/drive/My Drive/thw116_FYP/data/ntm_ebit.csv')\n",
        "ntm_eps = pd.read_csv('/content/drive/My Drive/thw116_FYP/data/ntm_eps.csv')\n",
        "ntm_fcf = pd.read_csv('/content/drive/My Drive/thw116_FYP/data/ntm_fcf.csv')\n",
        "ntm_pbook = pd.read_csv('/content/drive/My Drive/thw116_FYP/data/ntm_pbook.csv')\n",
        "ntm_sales = pd.read_csv('/content/drive/My Drive/thw116_FYP/data/ntm_sales.csv')\n",
        "\n",
        "# Technical input data\n",
        "\n",
        "price_high = pd.read_csv('/content/drive/My Drive/thw116_FYP/data/price_high.csv')\n",
        "price_low = pd.read_csv('/content/drive/My Drive/thw116_FYP/data/price_low.csv')\n",
        "price_open = pd.read_csv('/content/drive/My Drive/thw116_FYP/data/price_open.csv')\n",
        "volume = pd.read_csv('/content/drive/My Drive/thw116_FYP/data/volume.csv')\n",
        "enterprise_val = pd.read_csv('/content/drive/My Drive/thw116_FYP/data/enterprise_val.csv')\n",
        "market_cap = pd.read_csv('/content/drive/My Drive/thw116_FYP/data/market_cap.csv')\n",
        "\n",
        "print(ltm_book.head())\n",
        "print(\"**************************************\")\n",
        "print(ltm_book.info())\n",
        "\n",
        "# Price target output data\n",
        "\n",
        "price_close = pd.read_csv('/content/drive/My Drive/thw116_FYP/data/price_close.csv')\n",
        "\n",
        "print(price_close.head())\n",
        "print(\"**************************************\")\n",
        "print(price_close.info())"
      ],
      "execution_count": 0,
      "outputs": [
        {
          "output_type": "stream",
          "text": [
            "   Unnamed: 0  ATRS AV  ESSR LN  ...  FABGB SS  926002Q GY  NDA SS\n",
            "0           1      NaN      NaN  ...       NaN         NaN     NaN\n",
            "1           2      NaN      NaN  ...       NaN         NaN     NaN\n",
            "2           3      NaN      NaN  ...       NaN         NaN     NaN\n",
            "3           4      NaN      NaN  ...       NaN         NaN     NaN\n",
            "4           5      NaN      NaN  ...       NaN         NaN     NaN\n",
            "\n",
            "[5 rows x 1185 columns]\n",
            "**************************************\n",
            "<class 'pandas.core.frame.DataFrame'>\n",
            "RangeIndex: 6313 entries, 0 to 6312\n",
            "Columns: 1185 entries, Unnamed: 0 to NDA SS\n",
            "dtypes: float64(1184), int64(1)\n",
            "memory usage: 57.1 MB\n",
            "None\n",
            "   Unnamed: 0  PAYS LN  CNHI IM     SGSN SW  ...  AMS SM  FER SM  SEV FP    FKI LN\n",
            "0  1995-01-03      NaN      NaN  222.552843  ...     NaN     NaN     NaN  1.896782\n",
            "1  1995-01-04      NaN      NaN  226.835424  ...     NaN     NaN     NaN  1.883390\n",
            "2  1995-01-05      NaN      NaN  228.312320  ...     NaN     NaN     NaN  1.910292\n",
            "3  1995-01-06      NaN      NaN  228.015450  ...     NaN     NaN     NaN  1.923861\n",
            "4  1995-01-09      NaN      NaN  228.680128  ...     NaN     NaN     NaN  1.925099\n",
            "\n",
            "[5 rows x 204 columns]\n",
            "**************************************\n",
            "<class 'pandas.core.frame.DataFrame'>\n",
            "RangeIndex: 6313 entries, 0 to 6312\n",
            "Columns: 204 entries, Unnamed: 0 to FKI LN\n",
            "dtypes: float64(203), object(1)\n",
            "memory usage: 9.8+ MB\n",
            "None\n"
          ],
          "name": "stdout"
        }
      ]
    },
    {
      "cell_type": "markdown",
      "metadata": {
        "id": "iM8LCiFbCWVG",
        "colab_type": "text"
      },
      "source": [
        "##Restructuring and Standardising the datasets"
      ]
    },
    {
      "cell_type": "code",
      "metadata": {
        "id": "qwQDmx99oPzr",
        "colab_type": "code",
        "outputId": "94eccac5-2a95-49bd-a3c4-cf0b41a94206",
        "colab": {
          "base_uri": "https://localhost:8080/",
          "height": 391
        }
      },
      "source": [
        "# Filtering incorrect datasets to suitable company subsets\n",
        "industrials_subset = price_close.columns.values.tolist()\n",
        "\n",
        "ltm_inputs = [ltm_book, ltm_div, ltm_ebit, ltm_eps, ltm_fcf, ltm_pbook, ltm_sales] \n",
        "ntm_inputs = [ntm_book, ntm_div, ntm_ebit, ntm_eps, ntm_fcf, ntm_pbook, ntm_sales]\n",
        "tech_inputs = [price_high, price_low, price_open, volume, enterprise_val, market_cap]\n",
        "\n",
        "for i in range(0,len(ltm_inputs)):\n",
        "  ltm_inputs[i] = ltm_inputs[i].loc[:, ltm_inputs[i].columns.str.contains('|'.join(industrials_subset))]\n",
        "  ltm_inputs[i]['Unnamed: 0'] = price_close['Unnamed: 0']\n",
        "  ltm_inputs[i].rename( columns={'Unnamed: 0':'Date'}, inplace=True )\n",
        "\n",
        "for i in range(0,len(ntm_inputs)):\n",
        "  ntm_inputs[i] = ntm_inputs[i].loc[:, ntm_inputs[i].columns.str.contains('|'.join(industrials_subset))]\n",
        "  ntm_inputs[i]['Unnamed: 0'] = price_close['Unnamed: 0']\n",
        "  ntm_inputs[i].rename( columns={'Unnamed: 0':'Date'}, inplace=True )\n",
        "\n",
        "for i in range(0,len(tech_inputs)):\n",
        "  tech_inputs[i] = tech_inputs[i].loc[:, tech_inputs[i].columns.str.contains('|'.join(industrials_subset))]\n",
        "  tech_inputs[i]['Unnamed: 0'] = price_close['Unnamed: 0']\n",
        "  tech_inputs[i].rename( columns={'Unnamed: 0':'Date'}, inplace=True )\n",
        "\n",
        "  \n",
        "price_close.rename( columns={'Unnamed: 0':'Date'}, inplace=True )"
      ],
      "execution_count": 0,
      "outputs": [
        {
          "output_type": "stream",
          "text": [
            "/usr/local/lib/python3.6/dist-packages/ipykernel_launcher.py:9: SettingWithCopyWarning: \n",
            "A value is trying to be set on a copy of a slice from a DataFrame.\n",
            "Try using .loc[row_indexer,col_indexer] = value instead\n",
            "\n",
            "See the caveats in the documentation: http://pandas.pydata.org/pandas-docs/stable/indexing.html#indexing-view-versus-copy\n",
            "  if __name__ == '__main__':\n",
            "/usr/local/lib/python3.6/dist-packages/pandas/core/frame.py:4025: SettingWithCopyWarning: \n",
            "A value is trying to be set on a copy of a slice from a DataFrame\n",
            "\n",
            "See the caveats in the documentation: http://pandas.pydata.org/pandas-docs/stable/indexing.html#indexing-view-versus-copy\n",
            "  return super(DataFrame, self).rename(**kwargs)\n",
            "/usr/local/lib/python3.6/dist-packages/ipykernel_launcher.py:14: SettingWithCopyWarning: \n",
            "A value is trying to be set on a copy of a slice from a DataFrame.\n",
            "Try using .loc[row_indexer,col_indexer] = value instead\n",
            "\n",
            "See the caveats in the documentation: http://pandas.pydata.org/pandas-docs/stable/indexing.html#indexing-view-versus-copy\n",
            "  \n",
            "/usr/local/lib/python3.6/dist-packages/ipykernel_launcher.py:19: SettingWithCopyWarning: \n",
            "A value is trying to be set on a copy of a slice from a DataFrame.\n",
            "Try using .loc[row_indexer,col_indexer] = value instead\n",
            "\n",
            "See the caveats in the documentation: http://pandas.pydata.org/pandas-docs/stable/indexing.html#indexing-view-versus-copy\n"
          ],
          "name": "stderr"
        }
      ]
    },
    {
      "cell_type": "markdown",
      "metadata": {
        "id": "ZhYPF4OmJOwm",
        "colab_type": "text"
      },
      "source": [
        "## Data Wrangling\n",
        "\n",
        "In order to produce a dataframe suitable for the model, we must first take the raw *Price.csv*  file and convert it to returns. This can then be maniuplated further in a variety of ways to achieve the neccessary classification for variants of the model"
      ]
    },
    {
      "cell_type": "markdown",
      "metadata": {
        "id": "ZHv1OtsgCC2C",
        "colab_type": "text"
      },
      "source": [
        "###Date Index Generator"
      ]
    },
    {
      "cell_type": "code",
      "metadata": {
        "id": "NcygJ5YtWP8H",
        "colab_type": "code",
        "outputId": "b61b5afa-3466-40ad-c464-b0445a3449ef",
        "colab": {
          "base_uri": "https://localhost:8080/",
          "height": 119
        }
      },
      "source": [
        "# Conversion of TimeAndDate column to DatetimeIndex for ease of use\n",
        "\n",
        "def time_index_generator(dataframe):\n",
        "  dataframe['Date'] = pd.to_datetime(dataframe['Date'], dayfirst=True)\n",
        "  dataframe.set_index('Date', inplace=True)\n",
        "\n",
        "\n",
        "for i in range(0,len(ltm_inputs)):\n",
        "  time_index_generator(ltm_inputs[i])\n",
        "for i in range(0,len(ntm_inputs)):\n",
        "  time_index_generator(ntm_inputs[i])\n",
        "for i in range(0,len(tech_inputs)):\n",
        "  time_index_generator(tech_inputs[i])  \n",
        "\n",
        "time_index_generator(price_close)"
      ],
      "execution_count": 0,
      "outputs": [
        {
          "output_type": "stream",
          "text": [
            "/usr/local/lib/python3.6/dist-packages/ipykernel_launcher.py:3: SettingWithCopyWarning: \n",
            "A value is trying to be set on a copy of a slice from a DataFrame.\n",
            "Try using .loc[row_indexer,col_indexer] = value instead\n",
            "\n",
            "See the caveats in the documentation: http://pandas.pydata.org/pandas-docs/stable/indexing.html#indexing-view-versus-copy\n",
            "  This is separate from the ipykernel package so we can avoid doing imports until\n"
          ],
          "name": "stderr"
        }
      ]
    },
    {
      "cell_type": "code",
      "metadata": {
        "id": "B5fWXKHjLpzc",
        "colab_type": "code",
        "colab": {}
      },
      "source": [
        "# Check all columns align correctly\n",
        "print(ltm_inputs[0].columns.difference(price_close.columns))\n",
        "print(ltm_inputs[1].columns.difference(price_close.columns))\n",
        "print(ltm_inputs[2].columns.difference(price_close.columns))\n",
        "print(ltm_inputs[3].columns.difference(price_close.columns))\n"
      ],
      "execution_count": 0,
      "outputs": []
    },
    {
      "cell_type": "markdown",
      "metadata": {
        "id": "VhIWXVtzB5co",
        "colab_type": "text"
      },
      "source": [
        "###Ticker Anonymisation \n"
      ]
    },
    {
      "cell_type": "code",
      "metadata": {
        "id": "hCGMHTY0zA7O",
        "colab_type": "code",
        "colab": {}
      },
      "source": [
        "# Check that all tickers in the set match\n",
        "\n",
        "# Helper function to generate ticker list\n",
        "def ticker_list_generator(num):\n",
        "  ticker_list = []\n",
        "  for i in range(0, num):\n",
        "    ticker_name = 'Ticker ' + str(i+1)\n",
        "    ticker_list.append(ticker_name)\n",
        "  return ticker_list\n",
        "\n",
        "anon_tickers = ticker_list_generator(len(ltm_inputs[0].columns))\n",
        "\n",
        "for i in range(0,len(ltm_inputs)):\n",
        "  ltm_inputs[0].columns = anon_tickers\n",
        "for i in range(0,len(ntm_inputs)):\n",
        "  ntm_inputs[0].columns = anon_tickers\n",
        "for i in range(0,len(tech_inputs)):\n",
        "  tech_inputs[0].columns = anon_tickers\n",
        "\n",
        "price_close.columns = anon_tickers\n",
        "\n",
        "# # Selecting a Ticker and plotting\n",
        "\n",
        "# ltm_inputs[0]['Ticker 1'].plot(figsize=(16,6))\n",
        "# plt.title('ltm_book - Ticker 1')\n",
        "# plt.xlabel('Date')\n",
        "# plt.ylabel('Attribute')"
      ],
      "execution_count": 0,
      "outputs": []
    },
    {
      "cell_type": "markdown",
      "metadata": {
        "id": "r3bt2ejCCjYr",
        "colab_type": "text"
      },
      "source": [
        "###Price to Returns Converter"
      ]
    },
    {
      "cell_type": "code",
      "metadata": {
        "id": "gep9h1FNHQJ0",
        "colab_type": "code",
        "outputId": "c090e1ec-c68e-4738-b9e3-21d7154d8cdc",
        "colab": {
          "base_uri": "https://localhost:8080/",
          "height": 119
        }
      },
      "source": [
        "# Converting Price format to returns format\n",
        "def price_to_returns(timeframe, dataframe):\n",
        "  if timeframe == 'daily':\n",
        "    return dataframe.pct_change(1) # remember to discount all target variables that are NaN\n",
        "  \n",
        "  if timeframe == 'monthly':\n",
        "    return dataframe.resample('BM')\n",
        "  \n",
        "returns = price_to_returns('daily', price_close) \n",
        "\n",
        "print(returns.head(2))"
      ],
      "execution_count": 0,
      "outputs": [
        {
          "output_type": "stream",
          "text": [
            "            Ticker 1  Ticker 2  Ticker 3  ...  Ticker 201  Ticker 202  Ticker 203\n",
            "Date                                      ...                                    \n",
            "1995-01-03       NaN       NaN       NaN  ...         NaN         NaN         NaN\n",
            "1995-01-04       NaN       NaN  0.019243  ...         NaN         NaN    -0.00706\n",
            "\n",
            "[2 rows x 203 columns]\n"
          ],
          "name": "stdout"
        }
      ]
    },
    {
      "cell_type": "markdown",
      "metadata": {
        "id": "guJycK9f5Z1E",
        "colab_type": "text"
      },
      "source": [
        "# Data Preprocessing\n",
        "\n",
        "Several steps are taken in order to structure the data so that it can be proccessed by the model.\n",
        "\n",
        "1.   Data Analysis and Cleaning: Data is analysed for missing values, its properties, smoothed for various time intervals and resolved of any inconsistencies.  \n",
        "\n",
        "2. Training-Test Split: Data is divided into training and test splits according to a selected parameter value. \n",
        "\n",
        "3.  Data Transformation: Data is normalised, aggregated and generalised, both for training and testing\n",
        "\n",
        "4. Data Integration: Data is merged together appropriately to form the input shape of the model.   \n"
      ]
    },
    {
      "cell_type": "markdown",
      "metadata": {
        "id": "jfuTGvzQKPue",
        "colab_type": "text"
      },
      "source": [
        "##Data Analysis\n",
        "\n",
        "Something to consider is the fact that returns are more likely to correlate with changes in fundamentals rather than the absolute values of fundamentals. However, there is likely to be a disceprancy in the rate of change of fundamentals and the change in prices. Fundamentals are often only declared quarterly whereas prices are subject to daily fluctuations. We will first analyse the number of times a fundamental changes relative to the price changes. \n",
        "\n"
      ]
    },
    {
      "cell_type": "markdown",
      "metadata": {
        "id": "N-Drzbr-Blq1",
        "colab_type": "text"
      },
      "source": [
        "###Stastical Summaries of Data Count and Boxplots\n"
      ]
    },
    {
      "cell_type": "code",
      "metadata": {
        "id": "YqP4Ys_6c7vs",
        "colab_type": "code",
        "colab": {}
      },
      "source": [
        "# statistical summary of datasets\n",
        "print(tech_inputs[0].describe())\n",
        "\n",
        "# Box plot of dataset's datapoints count\n",
        "tech_inputs[0].count().plot(kind='box', showmeans = True) \n",
        "plt.xlabel('Technical inputs')\n",
        "plt.tight_layout() \n",
        "plt.show()\n",
        "\n",
        "# plt.savefig('tech_box.png')\n",
        "# files.download('tech_box.png') \n",
        "\n",
        "# Individual tickers' datapoint count bar graph\n",
        "\n",
        "# ltm_inputs[0.count().plot(kind='barh', figsize=(20,20)) \n",
        "# plt.xlabel('LTM input')\n",
        "# plt.tight_layout() \n",
        "# plt.show()\n",
        "\n",
        "# plt.savefig('ltmTickerCount.png')\n",
        "# files.download('ltmTickerCount.png') "
      ],
      "execution_count": 0,
      "outputs": []
    },
    {
      "cell_type": "markdown",
      "metadata": {
        "id": "YsXsCknQBv-l",
        "colab_type": "text"
      },
      "source": [
        "###Stastical Summaries of Delta Data Count and Boxplots\n"
      ]
    },
    {
      "cell_type": "code",
      "metadata": {
        "id": "XO_BJonjhHVL",
        "colab_type": "code",
        "colab": {}
      },
      "source": [
        "def data_change(dataframe, column): \n",
        "  noChange_count = 0\n",
        "  NaN_count = 0\n",
        "  for i in range (0, len(dataframe.index)): \n",
        "    if dataframe[column].diff().iloc[i] == 0:\n",
        "      noChange_count += 1\n",
        "    if dataframe[column].isna().iloc[i]: \n",
        "      NaN_count += 1\n",
        "  \n",
        "#   print('Total rows: ', len(dataframe[column]))\n",
        "#   print('The number of rows where no change occurs: ', noChange_count)\n",
        "#   print('The number of rows which are NaN: ', NaN_count)\n",
        "#   print('Useful datapoints:', (len(dataframe[column])-noChange_count-NaN_count))\n",
        "\n",
        "  return len(dataframe[column])-noChange_count-NaN_count\n",
        "\n",
        "delta_change = []\n",
        "\n",
        "for companies in range(0, tech_inputs[0].shape[1]):\n",
        "  delta_val = data_change(tech_inputs[0], anon_tickers[companies])\n",
        "  delta_change.append(delta_val)\n",
        "  \n",
        "plt.boxplot(delta_change, showmeans = True)\n",
        "plt.xlabel('Technical inputs')\n",
        "plt.show()\n"
      ],
      "execution_count": 0,
      "outputs": []
    },
    {
      "cell_type": "markdown",
      "metadata": {
        "id": "9pzH6OYHsBTw",
        "colab_type": "text"
      },
      "source": [
        "### Returns distribution plots"
      ]
    },
    {
      "cell_type": "code",
      "metadata": {
        "id": "43HmoKYKr_q1",
        "colab_type": "code",
        "outputId": "40aa48df-3dab-450b-c8fc-5874ff0c334c",
        "colab": {
          "base_uri": "https://localhost:8080/",
          "height": 1080
        }
      },
      "source": [
        "# Plotting the distributions of the returns datapoints. \n",
        "\n",
        "allreturns = returns.stack(dropna=False).reset_index(drop=True).to_frame('Returns Plot')\n",
        "allreturns.hist(range=(-0.2,0.2), figsize=(16,8), bins=200)\n",
        "\n",
        "allreturns = np.log(allreturns) \n",
        "allreturns.hist(range=(-10,0), figsize=(16,8), bins=200)"
      ],
      "execution_count": 0,
      "outputs": [
        {
          "output_type": "stream",
          "text": [
            "/usr/local/lib/python3.6/dist-packages/ipykernel_launcher.py:5: RuntimeWarning: divide by zero encountered in log\n",
            "  \"\"\"\n",
            "/usr/local/lib/python3.6/dist-packages/ipykernel_launcher.py:5: RuntimeWarning: invalid value encountered in log\n",
            "  \"\"\"\n"
          ],
          "name": "stderr"
        },
        {
          "output_type": "execute_result",
          "data": {
            "text/plain": [
              "array([[<matplotlib.axes._subplots.AxesSubplot object at 0x7f765e1fc240>]],\n",
              "      dtype=object)"
            ]
          },
          "metadata": {
            "tags": []
          },
          "execution_count": 80
        },
        {
          "output_type": "display_data",
          "data": {
            "image/png": "[encoded data removed]",
            "text/plain": [
              "<Figure size 1152x576 with 1 Axes>"
            ]
          },
          "metadata": {
            "tags": []
          }
        },
        {
          "output_type": "display_data",
          "data": {
            "image/png": "[encoded data removed]",
            "text/plain": [
              "<Figure size 1152x576 with 1 Axes>"
            ]
          },
          "metadata": {
            "tags": []
          }
        }
      ]
    },
    {
      "cell_type": "markdown",
      "metadata": {
        "id": "BY93g3OxY7uf",
        "colab_type": "text"
      },
      "source": [
        "## Data Snipping"
      ]
    },
    {
      "cell_type": "code",
      "metadata": {
        "id": "MtPwvxIHJYUJ",
        "colab_type": "code",
        "colab": {}
      },
      "source": [
        "# # Entire dataset\n",
        "# for i in range(0,len(ltm_inputs)):\n",
        "#   ltm_inputs[i] = ltm_inputs[i].loc[ltm_inputs[i].index > pd.to_datetime('2000-1-1')]\n",
        "\n",
        "# for i in range(0,len(ntm_inputs)):\n",
        "#   ntm_inputs[i] = ntm_inputs[i].loc[ntm_inputs[i].index > pd.to_datetime('2000-1-1')]\n",
        "\n",
        "# for i in range(0,len(tech_inputs)):\n",
        "#   tech_inputs[i] = tech_inputs[i].loc[tech_inputs[i].index > pd.to_datetime('2000-1-1')]\n",
        "  \n",
        "# returns = returns.loc[returns.index > pd.to_datetime('2000-1-1')]\n",
        "\n",
        "\n",
        "# Reduced subset for faster training and testing\n",
        "\n",
        "for i in range(0,len(ltm_inputs)):\n",
        "  ltm_inputs[i] = ltm_inputs[i].loc[ltm_inputs[i].index > pd.to_datetime('2010-1-1')]\n",
        "\n",
        "for i in range(0,len(ntm_inputs)):\n",
        "  ntm_inputs[i] = ntm_inputs[i].loc[ntm_inputs[i].index > pd.to_datetime('2010-1-1')]\n",
        "\n",
        "for i in range(0,len(tech_inputs)):\n",
        "  tech_inputs[i] = tech_inputs[i].loc[tech_inputs[i].index > pd.to_datetime('2010-1-1')]\n",
        "  \n",
        "returns = returns.loc[returns.index > pd.to_datetime('2010-1-1')]"
      ],
      "execution_count": 0,
      "outputs": []
    },
    {
      "cell_type": "markdown",
      "metadata": {
        "id": "XbrJzj6fJqvv",
        "colab_type": "text"
      },
      "source": [
        "## Data splitting"
      ]
    },
    {
      "cell_type": "markdown",
      "metadata": {
        "id": "2BEO_I7KRqr_",
        "colab_type": "text"
      },
      "source": [
        "### Training set"
      ]
    },
    {
      "cell_type": "code",
      "metadata": {
        "id": "4yfDmdQJcrPp",
        "colab_type": "code",
        "outputId": "b25a9469-059c-4e62-dea0-62330a93afeb",
        "colab": {
          "base_uri": "https://localhost:8080/",
          "height": 221
        }
      },
      "source": [
        "def training_set(train_percentage, dataframe): \n",
        "  train_size = int(train_percentage*len(dataframe.index)) \n",
        "  train_set = dataframe[:train_size]\n",
        "  return pd.DataFrame(train_set)  \n",
        "\n",
        "training_split = 0.6\n",
        "\n",
        "ltm_trainInputs = []\n",
        "ntm_trainInputs = []\n",
        "tech_trainInputs = []\n",
        "\n",
        "for i in range(0,len(ltm_inputs)):\n",
        "  ltm_trainInputs.append(training_set(training_split, ltm_inputs[i]))\n",
        "  \n",
        "for i in range(0,len(ntm_inputs)):\n",
        "  ntm_trainInputs.append(training_set(training_split, ntm_inputs[i]))\n",
        "\n",
        "for i in range(0,len(tech_inputs)):\n",
        "  tech_trainInputs.append(training_set(training_split, tech_inputs[i]))\n",
        "\n",
        "returns_trainOutput = training_set(training_split, returns)\n",
        "\n",
        "print(ntm_trainInputs[0].info())\n",
        "print(returns_trainOutput.info())"
      ],
      "execution_count": 0,
      "outputs": [
        {
          "output_type": "stream",
          "text": [
            "<class 'pandas.core.frame.DataFrame'>\n",
            "DatetimeIndex: 1454 entries, 2010-01-04 to 2015-08-13\n",
            "Columns: 203 entries, Ticker 1 to Ticker 203\n",
            "dtypes: float64(203)\n",
            "memory usage: 2.3 MB\n",
            "None\n",
            "<class 'pandas.core.frame.DataFrame'>\n",
            "DatetimeIndex: 1454 entries, 2010-01-04 to 2015-08-13\n",
            "Columns: 203 entries, Ticker 1 to Ticker 203\n",
            "dtypes: float64(203)\n",
            "memory usage: 2.3 MB\n",
            "None\n"
          ],
          "name": "stdout"
        }
      ]
    },
    {
      "cell_type": "markdown",
      "metadata": {
        "id": "47IfciNTutCX",
        "colab_type": "text"
      },
      "source": [
        "### Validation Set"
      ]
    },
    {
      "cell_type": "code",
      "metadata": {
        "id": "RJ-QTlDF1hOm",
        "colab_type": "code",
        "outputId": "396636bc-a667-42a0-8366-8295d3374e20",
        "colab": {
          "base_uri": "https://localhost:8080/",
          "height": 221
        }
      },
      "source": [
        "def validation_set(train_percentage, val_percentage, dataframe): \n",
        "  train_size = int(train_percentage*len(dataframe.index)) \n",
        "  val_size = int(val_percentage*len(dataframe.index))\n",
        "  # val_size = len(dataframe.index)-int(train_percentage*len(dataframe.index)) \n",
        "  val_set = dataframe[train_size:(train_size+val_size)]\n",
        "  return pd.DataFrame(val_set)  \n",
        "\n",
        "validation_split = 0.2\n",
        "\n",
        "ltm_valInputs = []\n",
        "ntm_valInputs = []\n",
        "tech_valInputs = []\n",
        "\n",
        "for i in range(0,len(ltm_inputs)):\n",
        "  ltm_valInputs.append(validation_set(training_split, validation_split, ltm_inputs[i]))\n",
        "  \n",
        "for i in range(0,len(ntm_inputs)):\n",
        "  ntm_valInputs.append(validation_set(training_split, validation_split, ntm_inputs[i]))\n",
        "\n",
        "for i in range(0,len(tech_inputs)):\n",
        "  tech_valInputs.append(validation_set(training_split, validation_split, tech_inputs[i]))\n",
        "\n",
        "  \n",
        "returns_valOutput = validation_set(training_split, validation_split, returns)\n",
        "\n",
        "print(ltm_valInputs[0].info())\n",
        "print(returns_valOutput.info())"
      ],
      "execution_count": 0,
      "outputs": [
        {
          "output_type": "stream",
          "text": [
            "<class 'pandas.core.frame.DataFrame'>\n",
            "DatetimeIndex: 484 entries, 2015-08-14 to 2017-06-28\n",
            "Columns: 203 entries, Ticker 1 to Ticker 203\n",
            "dtypes: float64(203)\n",
            "memory usage: 771.4 KB\n",
            "None\n",
            "<class 'pandas.core.frame.DataFrame'>\n",
            "DatetimeIndex: 484 entries, 2015-08-14 to 2017-06-28\n",
            "Columns: 203 entries, Ticker 1 to Ticker 203\n",
            "dtypes: float64(203)\n",
            "memory usage: 771.4 KB\n",
            "None\n"
          ],
          "name": "stdout"
        }
      ]
    },
    {
      "cell_type": "markdown",
      "metadata": {
        "id": "bYvSLMz9RiA9",
        "colab_type": "text"
      },
      "source": [
        "### Test Set"
      ]
    },
    {
      "cell_type": "code",
      "metadata": {
        "id": "ypx6Ia7uRhjS",
        "colab_type": "code",
        "outputId": "0d7d1c64-3884-4ddc-fa37-743225919f3a",
        "colab": {
          "base_uri": "https://localhost:8080/",
          "height": 221
        }
      },
      "source": [
        "def test_set(train_percentage, val_percentage, dataframe): \n",
        "  test_percentage = 1-train_percentage-val_percentage\n",
        "  train_size = int(train_percentage*len(dataframe.index)) \n",
        "  val_size = int(val_percentage*len(dataframe.index))\n",
        "  # val_size = len(dataframe.index)-int(train_percentage*len(dataframe.index)) \n",
        "  test_set = dataframe[(train_size+val_size):]\n",
        "  return pd.DataFrame(test_set) \n",
        "\n",
        "ltm_testInputs = []\n",
        "ntm_testInputs = []\n",
        "tech_testInputs = []\n",
        "\n",
        "for i in range(0,len(ltm_inputs)):\n",
        "  ltm_testInputs.append(test_set(training_split, validation_split, ltm_inputs[i]))\n",
        "  \n",
        "for i in range(0,len(ntm_inputs)):\n",
        "  ntm_testInputs.append(test_set(training_split, validation_split, ntm_inputs[i]))\n",
        "\n",
        "for i in range(0,len(tech_inputs)):\n",
        "  tech_testInputs.append(test_set(training_split, validation_split, tech_inputs[i]))\n",
        "\n",
        "returns_testOutput = test_set(training_split, validation_split, returns)\n",
        "\n",
        "print(ltm_testInputs[0].info())\n",
        "print(returns_testOutput.info())  "
      ],
      "execution_count": 0,
      "outputs": [
        {
          "output_type": "stream",
          "text": [
            "<class 'pandas.core.frame.DataFrame'>\n",
            "DatetimeIndex: 486 entries, 2017-06-29 to 2019-05-17\n",
            "Columns: 203 entries, Ticker 1 to Ticker 203\n",
            "dtypes: float64(203)\n",
            "memory usage: 774.6 KB\n",
            "None\n",
            "<class 'pandas.core.frame.DataFrame'>\n",
            "DatetimeIndex: 486 entries, 2017-06-29 to 2019-05-17\n",
            "Columns: 203 entries, Ticker 1 to Ticker 203\n",
            "dtypes: float64(203)\n",
            "memory usage: 774.6 KB\n",
            "None\n"
          ],
          "name": "stdout"
        }
      ]
    },
    {
      "cell_type": "code",
      "metadata": {
        "id": "NMx_2j-80Bfi",
        "colab_type": "code",
        "colab": {}
      },
      "source": [
        "fig = plt.figure()\n",
        "fig.set_figheight(28)\n",
        "\n",
        "plt.subplot(4, 1, 1)\n",
        "sns.heatmap(returns_trainOutput.isnull(), cbar=False)\n",
        "\n",
        "plt.subplot(4, 1, 2)\n",
        "sns.heatmap(returns_valOutput.isnull(), cbar=False)\n",
        "\n",
        "plt.subplot(4, 1, 3)\n",
        "sns.heatmap(tech_trainInputs[1].isnull(), cbar=False)\n",
        "\n",
        "plt.subplot(4, 1, 4)\n",
        "sns.heatmap(tech_valInputs[1].isnull(), cbar=False)\n",
        "\n",
        "# plt.savefig('heatmap.png')\n",
        "# files.download('heatmap.png') "
      ],
      "execution_count": 0,
      "outputs": []
    },
    {
      "cell_type": "markdown",
      "metadata": {
        "id": "U79APBT7JwcE",
        "colab_type": "text"
      },
      "source": [
        "## Input and Output Transformation"
      ]
    },
    {
      "cell_type": "markdown",
      "metadata": {
        "id": "LfE-0om8FrZz",
        "colab_type": "text"
      },
      "source": [
        "###Scaling"
      ]
    },
    {
      "cell_type": "code",
      "metadata": {
        "id": "38KlbkcIfOk4",
        "colab_type": "code",
        "colab": {}
      },
      "source": [
        "def input_scaling(dataframe):\n",
        "  \n",
        "  # This is the MinMax Scaling function \n",
        "  sc = MinMaxScaler(feature_range = (0, 1))\n",
        "  scaled_input_dataframe = sc.fit_transform(dataframe) # This is now an n-dimensional array type\n",
        "  \n",
        "#   transformer = Normalizer().fit(dataframe)\n",
        "#   Normalizer(copy=True, norm='l2')\n",
        "#   transformer.transform(X)\n",
        "  \n",
        "  return scaled_input_dataframe\n",
        "\n",
        "np.warnings.filterwarnings('ignore', r'All-NaN (slice|axis) encountered')\n",
        "\n",
        "for i in range(0,len(ltm_inputs)):\n",
        "  ltm_trainInputs[i] = input_scaling(ltm_trainInputs[i])\n",
        "  ltm_valInputs[i] = input_scaling(ltm_valInputs[i])\n",
        "  ltm_testInputs[i] = input_scaling(ltm_testInputs[i])\n",
        "  \n",
        "for i in range(0,len(ntm_inputs)):\n",
        "  ntm_trainInputs[i] = input_scaling(ntm_trainInputs[i])\n",
        "  ntm_valInputs[i] = input_scaling(ntm_valInputs[i])\n",
        "  ntm_testInputs[i] = input_scaling(ntm_testInputs[i])\n",
        "\n",
        "for i in range(0,len(tech_inputs)):\n",
        "  tech_trainInputs[i] = input_scaling(tech_trainInputs[i])\n",
        "  tech_valInputs[i] = input_scaling(tech_valInputs[i])\n",
        "  tech_testInputs[i] = input_scaling(tech_testInputs[i])\n",
        "  \n",
        "# sample_input = [ltm_trainInputs[0][1000:1001][0][3],ntm_trainInputs[0][1000:1001][0][3], tech_trainInputs[0][1000:1001][0][3] ]\n",
        "# print(sample_input)\n"
      ],
      "execution_count": 0,
      "outputs": []
    },
    {
      "cell_type": "markdown",
      "metadata": {
        "id": "DEMQtpS8AGLF",
        "colab_type": "text"
      },
      "source": [
        "### Classifier"
      ]
    },
    {
      "cell_type": "code",
      "metadata": {
        "id": "F6snYzXc-yTv",
        "colab_type": "code",
        "outputId": "860b4e34-17ae-4adf-c3a4-00c5f0471aef",
        "colab": {
          "base_uri": "https://localhost:8080/",
          "height": 493
        }
      },
      "source": [
        "def output_classifier(type ,dataframe): \n",
        "  \n",
        "  # No adjustments\n",
        "  if type == 'raw':\n",
        "    scaled_dataframe = dataframe\n",
        "  \n",
        "  # Binary classifier where return>0 is +1, and return<0 is 0 labels\n",
        "  if type == 'binary':\n",
        "    pos_returns = dataframe.values > 0\n",
        "    neg_returns = dataframe.values <= 0 \n",
        "    scaled_dataframe = pd.DataFrame(np.select([pos_returns,neg_returns], [1,0], default='NaN'), index=dataframe.index, columns=dataframe.columns)\n",
        "\n",
        "  return scaled_dataframe\n",
        "\n",
        "returns_trainOutput = output_classifier('binary', returns_trainOutput)\n",
        "returns_valOutput = output_classifier('binary', returns_valOutput)\n",
        "\n",
        "raw_testOutput = output_classifier('raw', returns_testOutput)\n",
        "returns_testOutput = output_classifier('binary', returns_testOutput)\n",
        "\n",
        "print (returns_trainOutput.head(2))\n",
        "print (returns_trainOutput.info())\n",
        "\n",
        "print (returns_valOutput.head(2))\n",
        "print (returns_valOutput.info())"
      ],
      "execution_count": 0,
      "outputs": [
        {
          "output_type": "stream",
          "text": [
            "/usr/local/lib/python3.6/dist-packages/ipykernel_launcher.py:9: RuntimeWarning: invalid value encountered in greater\n",
            "  if __name__ == '__main__':\n",
            "/usr/local/lib/python3.6/dist-packages/ipykernel_launcher.py:10: RuntimeWarning: invalid value encountered in less_equal\n",
            "  # Remove the CWD from sys.path while we load stuff.\n"
          ],
          "name": "stderr"
        },
        {
          "output_type": "stream",
          "text": [
            "           Ticker 1 Ticker 2 Ticker 3  ... Ticker 201 Ticker 202 Ticker 203\n",
            "Date                                   ...                                 \n",
            "2010-01-04        0        1        1  ...          0          1          0\n",
            "2010-01-05        1        1        0  ...          0          1          0\n",
            "\n",
            "[2 rows x 203 columns]\n",
            "<class 'pandas.core.frame.DataFrame'>\n",
            "DatetimeIndex: 1454 entries, 2010-01-04 to 2015-08-13\n",
            "Columns: 203 entries, Ticker 1 to Ticker 203\n",
            "dtypes: object(203)\n",
            "memory usage: 2.3+ MB\n",
            "None\n",
            "           Ticker 1 Ticker 2 Ticker 3  ... Ticker 201 Ticker 202 Ticker 203\n",
            "Date                                   ...                                 \n",
            "2015-08-14        1        0        1  ...          0          0          0\n",
            "2015-08-17        0        0        1  ...          0          1          0\n",
            "\n",
            "[2 rows x 203 columns]\n",
            "<class 'pandas.core.frame.DataFrame'>\n",
            "DatetimeIndex: 484 entries, 2015-08-14 to 2017-06-28\n",
            "Columns: 203 entries, Ticker 1 to Ticker 203\n",
            "dtypes: object(203)\n",
            "memory usage: 771.4+ KB\n",
            "None\n"
          ],
          "name": "stdout"
        }
      ]
    },
    {
      "cell_type": "markdown",
      "metadata": {
        "id": "xeMN7TE0Ki1P",
        "colab_type": "text"
      },
      "source": [
        "## Data Integration"
      ]
    },
    {
      "cell_type": "code",
      "metadata": {
        "id": "cYKnA5iUAnmG",
        "colab_type": "code",
        "outputId": "e5f59c0d-97a7-4f8e-cca2-ea6e3c8e2996",
        "colab": {
          "base_uri": "https://localhost:8080/",
          "height": 241
        }
      },
      "source": [
        "trainInput = []\n",
        "trainTarget = []\n",
        "\n",
        "valInput = []\n",
        "valTarget = []\n",
        "\n",
        "testInput = []\n",
        "testTarget = []\n",
        "rawtestTarget = []\n",
        "\n",
        "# Check that the indices are of the same length \n",
        "if len(ltm_trainInputs[0]) != len(returns_trainOutput):\n",
        "  print ('training length', len(ltm_trainInputs[0]))\n",
        "  print ('target length', len(returns_trainOutput))\n",
        "  assert False, \"Incompatible dataframe index lengths!\"\n",
        "\n",
        "# Training Set\n",
        "for company in range(0, len(ltm_trainInputs[0][:1][0])):\n",
        "  \n",
        "  for time_unit in range(0, len(ltm_trainInputs[0])): \n",
        "    input_unit = []\n",
        "    \n",
        "    for ltm_attribute in range(0, len(ltm_trainInputs)): \n",
        "      input_unit.append(ltm_trainInputs[ltm_attribute][time_unit:time_unit+1][0][company])\n",
        "                        \n",
        "    for ntm_attribute in range(0, len(ntm_trainInputs)):\n",
        "      input_unit.append(ntm_trainInputs[ntm_attribute][time_unit:time_unit+1][0][company])\n",
        "                        \n",
        "    for tech_attribute in range(0, len(tech_trainInputs)): \n",
        "      input_unit.append(tech_trainInputs[tech_attribute][time_unit:time_unit+1][0][company])\n",
        "                        \n",
        "    trainInput.append(input_unit)\n",
        "    \n",
        "for company in range(0, len(returns_trainOutput.columns)):\n",
        "  for time_unit in range(0, len(returns_trainOutput.index)): \n",
        "    trainTarget.append(returns_trainOutput[anon_tickers[company]][time_unit])\n",
        "  \n",
        "# Validation Set \n",
        "for company in range(0, len(ltm_valInputs[0][:1][0])):\n",
        "  \n",
        "  for time_unit in range(0, len(ltm_valInputs[0])): \n",
        "    input_unit = []\n",
        "    \n",
        "    for ltm_attribute in range(0, len(ltm_valInputs)): \n",
        "      input_unit.append(ltm_valInputs[ltm_attribute][time_unit:time_unit+1][0][company])\n",
        "                        \n",
        "    for ntm_attribute in range(0, len(ntm_trainInputs)):\n",
        "      input_unit.append(ntm_valInputs[ntm_attribute][time_unit:time_unit+1][0][company])\n",
        "                        \n",
        "    for tech_attribute in range(0, len(tech_trainInputs)): \n",
        "      input_unit.append(tech_valInputs[tech_attribute][time_unit:time_unit+1][0][company])\n",
        "                        \n",
        "    valInput.append(input_unit)\n",
        "    \n",
        "for company in range(0, len(returns_valOutput.columns)):\n",
        "  for time_unit in range(0, len(returns_valOutput.index)): \n",
        "    valTarget.append(returns_valOutput[anon_tickers[company]][time_unit])\n",
        "\n",
        "# Test Set\n",
        "for company in range(0, len(ltm_testInputs[0][:1][0])):\n",
        "  \n",
        "  for time_unit in range(0, len(ltm_testInputs[0])): \n",
        "    input_unit = []\n",
        "    \n",
        "    for ltm_attribute in range(0, len(ltm_testInputs)): \n",
        "      input_unit.append(ltm_testInputs[ltm_attribute][time_unit:time_unit+1][0][company])\n",
        "                        \n",
        "    for ntm_attribute in range(0, len(ntm_testInputs)):\n",
        "      input_unit.append(ntm_testInputs[ntm_attribute][time_unit:time_unit+1][0][company])\n",
        "                        \n",
        "    for tech_attribute in range(0, len(tech_testInputs)): \n",
        "      input_unit.append(tech_testInputs[tech_attribute][time_unit:time_unit+1][0][company])\n",
        "                        \n",
        "    testInput.append(input_unit)\n",
        "    \n",
        "for company in range(0, len(returns_testOutput.columns)):\n",
        "  for time_unit in range(0, len(returns_testOutput.index)): \n",
        "    testTarget.append(returns_testOutput[anon_tickers[company]][time_unit])\n",
        "\n",
        "for company in range(0, len(raw_testOutput.columns)):\n",
        "  for time_unit in range(0, len(raw_testOutput.index)): \n",
        "    rawtestTarget.append(raw_testOutput[anon_tickers[company]][time_unit])\n",
        "\n",
        "print(trainInput[0:1])\n",
        "print(len(trainInput))\n",
        "print(trainTarget[0:1])\n",
        "print(len(trainTarget))\n",
        "\n",
        "print(valInput[0:1])\n",
        "print(len(valInput))\n",
        "print(valTarget[0:1])\n",
        "print(len(valTarget))\n",
        "\n",
        "print(testInput[0:1])\n",
        "print(len(testInput))\n",
        "print(testTarget[0:1])\n",
        "print(len(testTarget))"
      ],
      "execution_count": 0,
      "outputs": [
        {
          "output_type": "stream",
          "text": [
            "[[0.3287671232876711, 0.0, 0.0034439322249904397, 0.0, 0.27587890625, 0.024924571101988854, 0.0013178703215603604, 0.023927191685372606, 0.0, 0.16577420722121472, 0.15657919955906302, 0.07080194831886986, 0.06567425221342738, 0.06785172510001797, 0.01701016959638503, 0.022328109127080567, 0.02119637478718763, 7.721563054542674e-05, 0.0011800881756525248, 0.007578283773109033]]\n",
            "295162\n",
            "['0']\n",
            "295162\n",
            "[[0.0, 0.0, 0.006616800920598409, 1.0, 0.0, 1.0, 0.0, 0.0, 0.9782756086911765, 0.0, 0.0, 0.0, 1.0, 0.0, 0.212430052227369, 0.382723829490314, 0.2704902616832283, 0.0561259051719461, 0.23309289364037244, 0.22129841273113016]]\n",
            "98252\n",
            "['1']\n",
            "98252\n",
            "[[0.0, 0.0, 0.0, 0.0, 0.0, 0.03575449848301826, 0.0, 0.0, 0.0, 0.0, 0.0, 0.26105637662522807, 0.0964890882613485, 0.0, 0.1188318300971618, 0.05611671045839817, 0.18879781256027162, 0.14282616915785304, 0.006907985192873944, 0.006135475514882138]]\n",
            "98658\n",
            "['0']\n",
            "98658\n"
          ],
          "name": "stdout"
        }
      ]
    },
    {
      "cell_type": "markdown",
      "metadata": {
        "id": "6uL1FAaxCxMm",
        "colab_type": "text"
      },
      "source": [
        "### Remove redundant data"
      ]
    },
    {
      "cell_type": "code",
      "metadata": {
        "id": "R4J19cJ1_k_8",
        "colab_type": "code",
        "outputId": "40a58e72-895c-4242-8188-231369deeadc",
        "colab": {
          "base_uri": "https://localhost:8080/",
          "height": 105
        }
      },
      "source": [
        "#239637\n",
        "#269977\n",
        "#166449\n",
        "\n",
        "def remove_useless_inputs(inputList, outputList):\n",
        "  resultInput = []\n",
        "  resultOutput = []\n",
        "  for i in range (0, len(inputList)):\n",
        "    nancount = 0\n",
        "    for val in range(0, len(inputList[i])):\n",
        "      if str(inputList[i:i+1][0][val]) == 'nan': \n",
        "        nancount += 1\n",
        "#     if nancount < len(inputList[i:i+1][0]): \n",
        "    if nancount < 1:\n",
        "      resultInput.append(inputList[i])\n",
        "      resultOutput.append(outputList[i])\n",
        "      \n",
        "  return resultInput, resultOutput\n",
        "\n",
        "newtrainInput, newtrainTarget = remove_useless_inputs(trainInput, trainTarget)\n",
        "newvalInput, newvalTarget = remove_useless_inputs(valInput, valTarget)\n",
        "newtestInput, newtestTarget = remove_useless_inputs(testInput, testTarget)\n",
        "newtestInput, newrawtestTarget = remove_useless_inputs(testInput, rawtestTarget)\n",
        "\n",
        "\n",
        "print(newtrainInput[0:1])\n",
        "print(len(newtrainInput))\n",
        "print(newtrainTarget[0:1])\n",
        "print(len(newtrainTarget))\n"
      ],
      "execution_count": 0,
      "outputs": [
        {
          "output_type": "stream",
          "text": [
            "[[0.3287671232876711, 0.0, 0.0034439322249904397, 0.0, 0.27587890625, 0.024924571101988854, 0.0013178703215603604, 0.023927191685372606, 0.0, 0.16577420722121472, 0.15657919955906302, 0.07080194831886986, 0.06567425221342738, 0.06785172510001797, 0.01701016959638503, 0.022328109127080567, 0.02119637478718763, 7.721563054542674e-05, 0.0011800881756525248, 0.007578283773109033]]\n",
            "166449\n",
            "['0']\n",
            "166449\n"
          ],
          "name": "stdout"
        }
      ]
    },
    {
      "cell_type": "code",
      "metadata": {
        "id": "HfihFidpCu6B",
        "colab_type": "code",
        "outputId": "c055a78f-71e3-4da2-c5a4-d94943ea05a4",
        "colab": {
          "base_uri": "https://localhost:8080/",
          "height": 190
        }
      },
      "source": [
        "# 239635\n",
        "# 253107\n",
        "# 166448\n",
        "\n",
        "def remove_useless_outputs(inputList, outputList):\n",
        "  resultInput = []\n",
        "  resultOutput = []\n",
        "  for i in range (0, len(outputList)):\n",
        "    if str(outputList[i:i+1][0]).lower() != 'nan': \n",
        "      resultInput.append(inputList[i])\n",
        "      resultOutput.append(outputList[i])\n",
        "   \n",
        "  if isinstance(resultOutput[0:1][0], str):\n",
        "    for x in range (0, len(resultOutput)):\n",
        "      resultOutput[x:x+1] = list(map(int, resultOutput[x:x+1][0]))\n",
        "  print(type(resultOutput[0:1][0]))\n",
        "\n",
        "  print(type(resultOutput[0:1][0]))\n",
        "  return resultInput, resultOutput\n",
        "\n",
        "trainInput, trainTarget = remove_useless_outputs(newtrainInput, newtrainTarget)\n",
        "valInput, valTarget = remove_useless_outputs(newvalInput, newvalTarget)\n",
        "testInput, testTarget = remove_useless_inputs(newtestInput, newtestTarget)\n",
        "testInput, rawtestTarget = remove_useless_inputs(newtestInput, newrawtestTarget)\n",
        "\n",
        "\n",
        "print(trainInput[0:1])\n",
        "print(len(trainInput))\n",
        "print(trainTarget[0:1])\n",
        "print(len(trainTarget))\n",
        "print(type(trainTarget[0:1]))\n"
      ],
      "execution_count": 0,
      "outputs": [
        {
          "output_type": "stream",
          "text": [
            "<class 'int'>\n",
            "<class 'int'>\n",
            "<class 'int'>\n",
            "<class 'int'>\n",
            "[[0.3287671232876711, 0.0, 0.0034439322249904397, 0.0, 0.27587890625, 0.024924571101988854, 0.0013178703215603604, 0.023927191685372606, 0.0, 0.16577420722121472, 0.15657919955906302, 0.07080194831886986, 0.06567425221342738, 0.06785172510001797, 0.01701016959638503, 0.022328109127080567, 0.02119637478718763, 7.721563054542674e-05, 0.0011800881756525248, 0.007578283773109033]]\n",
            "166448\n",
            "[0]\n",
            "166448\n",
            "<class 'list'>\n"
          ],
          "name": "stdout"
        }
      ]
    },
    {
      "cell_type": "markdown",
      "metadata": {
        "id": "7mUBGafrC5PO",
        "colab_type": "text"
      },
      "source": [
        "### Reshaping data"
      ]
    },
    {
      "cell_type": "code",
      "metadata": {
        "id": "0PHQ90cpu0t1",
        "colab_type": "code",
        "outputId": "3534ad5b-fb70-4664-da5e-c92004f887f5",
        "colab": {
          "base_uri": "https://localhost:8080/",
          "height": 476
        }
      },
      "source": [
        "# Conversion to numpy array for improved memory, performance and functionality\n",
        "trainInput, trainTarget = np.array(trainInput), np.array(trainTarget)\n",
        "valInput, valTarget = np.array(valInput), np.array(valTarget)\n",
        "testInput, testTarget = np.array(testInput), np.array(testTarget)\n",
        "\n",
        "print(trainInput[0:1])\n",
        "\n",
        "trainInput = np.reshape(trainInput, (trainInput.shape[0], trainInput.shape[1], 1))\n",
        "valInput = np.reshape(valInput, (valInput.shape[0], valInput.shape[1], 1))\n",
        "testInput = np.reshape(testInput, (testInput.shape[0], testInput.shape[1], 1))\n",
        "\n",
        "print(trainInput[0:1])\n",
        "print(trainInput.shape[0])\n",
        "print(trainInput.shape[1])\n"
      ],
      "execution_count": 0,
      "outputs": [
        {
          "output_type": "stream",
          "text": [
            "[[3.28767123e-01 0.00000000e+00 3.44393222e-03 0.00000000e+00\n",
            "  2.75878906e-01 2.49245711e-02 1.31787032e-03 2.39271917e-02\n",
            "  0.00000000e+00 1.65774207e-01 1.56579200e-01 7.08019483e-02\n",
            "  6.56742522e-02 6.78517251e-02 1.70101696e-02 2.23281091e-02\n",
            "  2.11963748e-02 7.72156305e-05 1.18008818e-03 7.57828377e-03]]\n",
            "[[[3.28767123e-01]\n",
            "  [0.00000000e+00]\n",
            "  [3.44393222e-03]\n",
            "  [0.00000000e+00]\n",
            "  [2.75878906e-01]\n",
            "  [2.49245711e-02]\n",
            "  [1.31787032e-03]\n",
            "  [2.39271917e-02]\n",
            "  [0.00000000e+00]\n",
            "  [1.65774207e-01]\n",
            "  [1.56579200e-01]\n",
            "  [7.08019483e-02]\n",
            "  [6.56742522e-02]\n",
            "  [6.78517251e-02]\n",
            "  [1.70101696e-02]\n",
            "  [2.23281091e-02]\n",
            "  [2.11963748e-02]\n",
            "  [7.72156305e-05]\n",
            "  [1.18008818e-03]\n",
            "  [7.57828377e-03]]]\n",
            "166448\n",
            "20\n"
          ],
          "name": "stdout"
        }
      ]
    },
    {
      "cell_type": "code",
      "metadata": {
        "id": "7--EOzAFCB1n",
        "colab_type": "code",
        "outputId": "9aba7e79-1002-4b19-f261-9589f7a5ccf5",
        "colab": {
          "base_uri": "https://localhost:8080/",
          "height": 374
        }
      },
      "source": [
        "print(trainInTarget[0:1])\n",
        "print(trainInTarget.shape[0])"
      ],
      "execution_count": 0,
      "outputs": [
        {
          "output_type": "stream",
          "text": [
            "[[[0.00000000e+00]\n",
            "  [3.44393222e-03]\n",
            "  [0.00000000e+00]\n",
            "  [2.75878906e-01]\n",
            "  [2.49245711e-02]\n",
            "  [1.31787032e-03]\n",
            "  [2.39271917e-02]\n",
            "  [0.00000000e+00]\n",
            "  [1.65774207e-01]\n",
            "  [1.56579200e-01]\n",
            "  [7.08019483e-02]\n",
            "  [6.56742522e-02]\n",
            "  [6.78517251e-02]\n",
            "  [1.70101696e-02]\n",
            "  [2.23281091e-02]\n",
            "  [2.11963748e-02]\n",
            "  [7.72156305e-05]\n",
            "  [1.18008818e-03]\n",
            "  [7.57828377e-03]\n",
            "  [3.28767123e-01]]]\n",
            "166448\n"
          ],
          "name": "stdout"
        }
      ]
    },
    {
      "cell_type": "markdown",
      "metadata": {
        "id": "mB3brZVQZFM7",
        "colab_type": "text"
      },
      "source": [
        "# Network Implementation\n"
      ]
    },
    {
      "cell_type": "markdown",
      "metadata": {
        "id": "I5CxNAYlLG_S",
        "colab_type": "text"
      },
      "source": [
        "## Core Architecture"
      ]
    },
    {
      "cell_type": "markdown",
      "metadata": {
        "id": "lOVq6YexKjxU",
        "colab_type": "text"
      },
      "source": [
        "### Single Output LSTM\n"
      ]
    },
    {
      "cell_type": "code",
      "metadata": {
        "id": "mlqU_UHBkfJz",
        "colab_type": "code",
        "colab": {}
      },
      "source": [
        "data_dim = trainInput.shape[1]\n",
        "timesteps = trainInput.shape[0]\n",
        "\n",
        "\n",
        "# Sample Code\n",
        "# model parameters:\n",
        "\n",
        "def create_model(train_X, train_Y, data_dim):\n",
        "  lstm_units = 1024\n",
        "  \n",
        "#   print('Build baseline binary model...')\n",
        "#   model = Sequential()\n",
        "#   model.add(Masking(mask_value=0., input_shape=(data_dim, 1)))\n",
        "#   model.add(LSTM(lstm_units))\n",
        "#   model.add(Dense(1, activation='sigmoid'))\n",
        "#   model.compile(loss='binary_crossentropy', optimizer='adam', metrics=['accuracy'])\n",
        "  \n",
        "    \n",
        "  print('Build stacked binary model')\n",
        "  lstm_units = int(lstm_units/4)\n",
        "\n",
        "  model = Sequential()\n",
        "  model.add(Masking(mask_value=0., input_shape=(data_dim, 1)))\n",
        "  model.add(LSTM(lstm_units, return_sequences=True))\n",
        "  model.add(Dropout(rate=0.2))\n",
        "  model.add(LSTM(lstm_units, return_sequences=True))\n",
        "  model.add(Dropout(rate=0.2))\n",
        "  model.add(LSTM(lstm_units, return_sequences=True))\n",
        "  model.add(Dropout(rate=0.2))\n",
        "  model.add(LSTM(lstm_units))\n",
        "  model.add(Dense(1, activation='sigmoid'))\n",
        "  model.compile(loss='binary_crossentropy', optimizer='adam', metrics=['accuracy'])\n",
        "\n",
        "\n",
        "  return(model)\n",
        "\n",
        "baseline_model = create_model(trainInput, trainTarget, data_dim)\n",
        "print(baseline_model.summary())\n",
        "SVG(model_to_dot(baseline_model, show_shapes=True).create(prog='dot', format='svg'))"
      ],
      "execution_count": 0,
      "outputs": []
    },
    {
      "cell_type": "code",
      "metadata": {
        "id": "JXmP9FbSJ6D0",
        "colab_type": "code",
        "outputId": "94f3d7a1-0786-4c6f-ccf8-72b529315b06",
        "colab": {
          "base_uri": "https://localhost:8080/",
          "height": 361
        }
      },
      "source": [
        "history = baseline_model.fit(trainInput, trainTarget, epochs = 30, batch_size = 1024, verbose = 1)\n",
        "baseline_model.save('baseline.h5') "
      ],
      "execution_count": 0,
      "outputs": [
        {
          "output_type": "stream",
          "text": [
            "Epoch 1/30\n",
            "166448/166448 [==============================] - 990s 6ms/step - loss: 0.5107 - acc: 0.7444\n",
            "Epoch 2/30\n",
            " 93184/166448 [===============>..............] - ETA: 7:15 - loss: 0.5094 - acc: 0.7450"
          ],
          "name": "stdout"
        },
        {
          "output_type": "error",
          "ename": "KeyboardInterrupt",
          "evalue": "ignored",
          "traceback": [
            "\u001b[0;31m---------------------------------------------------------------------------\u001b[0m",
            "\u001b[0;31mKeyboardInterrupt\u001b[0m                         Traceback (most recent call last)",
            "\u001b[0;32m<ipython-input-26-cac413baf96b>\u001b[0m in \u001b[0;36m<module>\u001b[0;34m()\u001b[0m\n\u001b[0;32m----> 1\u001b[0;31m \u001b[0mbaseline_model\u001b[0m\u001b[0;34m.\u001b[0m\u001b[0mfit\u001b[0m\u001b[0;34m(\u001b[0m\u001b[0mtrainInput\u001b[0m\u001b[0;34m,\u001b[0m \u001b[0mtrainTarget\u001b[0m\u001b[0;34m,\u001b[0m \u001b[0mepochs\u001b[0m \u001b[0;34m=\u001b[0m \u001b[0;36m30\u001b[0m\u001b[0;34m,\u001b[0m \u001b[0mbatch_size\u001b[0m \u001b[0;34m=\u001b[0m \u001b[0;36m1024\u001b[0m\u001b[0;34m,\u001b[0m \u001b[0mverbose\u001b[0m \u001b[0;34m=\u001b[0m \u001b[0;36m1\u001b[0m\u001b[0;34m)\u001b[0m\u001b[0;34m\u001b[0m\u001b[0;34m\u001b[0m\u001b[0m\n\u001b[0m",
            "\u001b[0;32m/usr/local/lib/python3.6/dist-packages/keras/engine/training.py\u001b[0m in \u001b[0;36mfit\u001b[0;34m(self, x, y, batch_size, epochs, verbose, callbacks, validation_split, validation_data, shuffle, class_weight, sample_weight, initial_epoch, steps_per_epoch, validation_steps, **kwargs)\u001b[0m\n\u001b[1;32m   1037\u001b[0m                                         \u001b[0minitial_epoch\u001b[0m\u001b[0;34m=\u001b[0m\u001b[0minitial_epoch\u001b[0m\u001b[0;34m,\u001b[0m\u001b[0;34m\u001b[0m\u001b[0;34m\u001b[0m\u001b[0m\n\u001b[1;32m   1038\u001b[0m                                         \u001b[0msteps_per_epoch\u001b[0m\u001b[0;34m=\u001b[0m\u001b[0msteps_per_epoch\u001b[0m\u001b[0;34m,\u001b[0m\u001b[0;34m\u001b[0m\u001b[0;34m\u001b[0m\u001b[0m\n\u001b[0;32m-> 1039\u001b[0;31m                                         validation_steps=validation_steps)\n\u001b[0m\u001b[1;32m   1040\u001b[0m \u001b[0;34m\u001b[0m\u001b[0m\n\u001b[1;32m   1041\u001b[0m     def evaluate(self, x=None, y=None,\n",
            "\u001b[0;32m/usr/local/lib/python3.6/dist-packages/keras/engine/training_arrays.py\u001b[0m in \u001b[0;36mfit_loop\u001b[0;34m(model, f, ins, out_labels, batch_size, epochs, verbose, callbacks, val_f, val_ins, shuffle, callback_metrics, initial_epoch, steps_per_epoch, validation_steps)\u001b[0m\n\u001b[1;32m    197\u001b[0m                     \u001b[0mins_batch\u001b[0m\u001b[0;34m[\u001b[0m\u001b[0mi\u001b[0m\u001b[0;34m]\u001b[0m \u001b[0;34m=\u001b[0m \u001b[0mins_batch\u001b[0m\u001b[0;34m[\u001b[0m\u001b[0mi\u001b[0m\u001b[0;34m]\u001b[0m\u001b[0;34m.\u001b[0m\u001b[0mtoarray\u001b[0m\u001b[0;34m(\u001b[0m\u001b[0;34m)\u001b[0m\u001b[0;34m\u001b[0m\u001b[0;34m\u001b[0m\u001b[0m\n\u001b[1;32m    198\u001b[0m \u001b[0;34m\u001b[0m\u001b[0m\n\u001b[0;32m--> 199\u001b[0;31m                 \u001b[0mouts\u001b[0m \u001b[0;34m=\u001b[0m \u001b[0mf\u001b[0m\u001b[0;34m(\u001b[0m\u001b[0mins_batch\u001b[0m\u001b[0;34m)\u001b[0m\u001b[0;34m\u001b[0m\u001b[0;34m\u001b[0m\u001b[0m\n\u001b[0m\u001b[1;32m    200\u001b[0m                 \u001b[0mouts\u001b[0m \u001b[0;34m=\u001b[0m \u001b[0mto_list\u001b[0m\u001b[0;34m(\u001b[0m\u001b[0mouts\u001b[0m\u001b[0;34m)\u001b[0m\u001b[0;34m\u001b[0m\u001b[0;34m\u001b[0m\u001b[0m\n\u001b[1;32m    201\u001b[0m                 \u001b[0;32mfor\u001b[0m \u001b[0ml\u001b[0m\u001b[0;34m,\u001b[0m \u001b[0mo\u001b[0m \u001b[0;32min\u001b[0m \u001b[0mzip\u001b[0m\u001b[0;34m(\u001b[0m\u001b[0mout_labels\u001b[0m\u001b[0;34m,\u001b[0m \u001b[0mouts\u001b[0m\u001b[0;34m)\u001b[0m\u001b[0;34m:\u001b[0m\u001b[0;34m\u001b[0m\u001b[0;34m\u001b[0m\u001b[0m\n",
            "\u001b[0;32m/usr/local/lib/python3.6/dist-packages/keras/backend/tensorflow_backend.py\u001b[0m in \u001b[0;36m__call__\u001b[0;34m(self, inputs)\u001b[0m\n\u001b[1;32m   2713\u001b[0m                 \u001b[0;32mreturn\u001b[0m \u001b[0mself\u001b[0m\u001b[0;34m.\u001b[0m\u001b[0m_legacy_call\u001b[0m\u001b[0;34m(\u001b[0m\u001b[0minputs\u001b[0m\u001b[0;34m)\u001b[0m\u001b[0;34m\u001b[0m\u001b[0;34m\u001b[0m\u001b[0m\n\u001b[1;32m   2714\u001b[0m \u001b[0;34m\u001b[0m\u001b[0m\n\u001b[0;32m-> 2715\u001b[0;31m             \u001b[0;32mreturn\u001b[0m \u001b[0mself\u001b[0m\u001b[0;34m.\u001b[0m\u001b[0m_call\u001b[0m\u001b[0;34m(\u001b[0m\u001b[0minputs\u001b[0m\u001b[0;34m)\u001b[0m\u001b[0;34m\u001b[0m\u001b[0;34m\u001b[0m\u001b[0m\n\u001b[0m\u001b[1;32m   2716\u001b[0m         \u001b[0;32melse\u001b[0m\u001b[0;34m:\u001b[0m\u001b[0;34m\u001b[0m\u001b[0;34m\u001b[0m\u001b[0m\n\u001b[1;32m   2717\u001b[0m             \u001b[0;32mif\u001b[0m \u001b[0mpy_any\u001b[0m\u001b[0;34m(\u001b[0m\u001b[0mis_tensor\u001b[0m\u001b[0;34m(\u001b[0m\u001b[0mx\u001b[0m\u001b[0;34m)\u001b[0m \u001b[0;32mfor\u001b[0m \u001b[0mx\u001b[0m \u001b[0;32min\u001b[0m \u001b[0minputs\u001b[0m\u001b[0;34m)\u001b[0m\u001b[0;34m:\u001b[0m\u001b[0;34m\u001b[0m\u001b[0;34m\u001b[0m\u001b[0m\n",
            "\u001b[0;32m/usr/local/lib/python3.6/dist-packages/keras/backend/tensorflow_backend.py\u001b[0m in \u001b[0;36m_call\u001b[0;34m(self, inputs)\u001b[0m\n\u001b[1;32m   2673\u001b[0m             \u001b[0mfetched\u001b[0m \u001b[0;34m=\u001b[0m \u001b[0mself\u001b[0m\u001b[0;34m.\u001b[0m\u001b[0m_callable_fn\u001b[0m\u001b[0;34m(\u001b[0m\u001b[0;34m*\u001b[0m\u001b[0marray_vals\u001b[0m\u001b[0;34m,\u001b[0m \u001b[0mrun_metadata\u001b[0m\u001b[0;34m=\u001b[0m\u001b[0mself\u001b[0m\u001b[0;34m.\u001b[0m\u001b[0mrun_metadata\u001b[0m\u001b[0;34m)\u001b[0m\u001b[0;34m\u001b[0m\u001b[0;34m\u001b[0m\u001b[0m\n\u001b[1;32m   2674\u001b[0m         \u001b[0;32melse\u001b[0m\u001b[0;34m:\u001b[0m\u001b[0;34m\u001b[0m\u001b[0;34m\u001b[0m\u001b[0m\n\u001b[0;32m-> 2675\u001b[0;31m             \u001b[0mfetched\u001b[0m \u001b[0;34m=\u001b[0m \u001b[0mself\u001b[0m\u001b[0;34m.\u001b[0m\u001b[0m_callable_fn\u001b[0m\u001b[0;34m(\u001b[0m\u001b[0;34m*\u001b[0m\u001b[0marray_vals\u001b[0m\u001b[0;34m)\u001b[0m\u001b[0;34m\u001b[0m\u001b[0;34m\u001b[0m\u001b[0m\n\u001b[0m\u001b[1;32m   2676\u001b[0m         \u001b[0;32mreturn\u001b[0m \u001b[0mfetched\u001b[0m\u001b[0;34m[\u001b[0m\u001b[0;34m:\u001b[0m\u001b[0mlen\u001b[0m\u001b[0;34m(\u001b[0m\u001b[0mself\u001b[0m\u001b[0;34m.\u001b[0m\u001b[0moutputs\u001b[0m\u001b[0;34m)\u001b[0m\u001b[0;34m]\u001b[0m\u001b[0;34m\u001b[0m\u001b[0;34m\u001b[0m\u001b[0m\n\u001b[1;32m   2677\u001b[0m \u001b[0;34m\u001b[0m\u001b[0m\n",
            "\u001b[0;32m/usr/local/lib/python3.6/dist-packages/tensorflow/python/client/session.py\u001b[0m in \u001b[0;36m__call__\u001b[0;34m(self, *args, **kwargs)\u001b[0m\n\u001b[1;32m   1456\u001b[0m         ret = tf_session.TF_SessionRunCallable(self._session._session,\n\u001b[1;32m   1457\u001b[0m                                                \u001b[0mself\u001b[0m\u001b[0;34m.\u001b[0m\u001b[0m_handle\u001b[0m\u001b[0;34m,\u001b[0m \u001b[0margs\u001b[0m\u001b[0;34m,\u001b[0m\u001b[0;34m\u001b[0m\u001b[0;34m\u001b[0m\u001b[0m\n\u001b[0;32m-> 1458\u001b[0;31m                                                run_metadata_ptr)\n\u001b[0m\u001b[1;32m   1459\u001b[0m         \u001b[0;32mif\u001b[0m \u001b[0mrun_metadata\u001b[0m\u001b[0;34m:\u001b[0m\u001b[0;34m\u001b[0m\u001b[0;34m\u001b[0m\u001b[0m\n\u001b[1;32m   1460\u001b[0m           \u001b[0mproto_data\u001b[0m \u001b[0;34m=\u001b[0m \u001b[0mtf_session\u001b[0m\u001b[0;34m.\u001b[0m\u001b[0mTF_GetBuffer\u001b[0m\u001b[0;34m(\u001b[0m\u001b[0mrun_metadata_ptr\u001b[0m\u001b[0;34m)\u001b[0m\u001b[0;34m\u001b[0m\u001b[0;34m\u001b[0m\u001b[0m\n",
            "\u001b[0;31mKeyboardInterrupt\u001b[0m: "
          ]
        }
      ]
    },
    {
      "cell_type": "markdown",
      "metadata": {
        "id": "I6lAccHrKrx3",
        "colab_type": "text"
      },
      "source": [
        "### Multi output LSTM\n"
      ]
    },
    {
      "cell_type": "code",
      "metadata": {
        "id": "VbhiWb-0NDdx",
        "colab_type": "code",
        "colab": {}
      },
      "source": [
        "class fypNet: \n",
        "  @staticmethod\n",
        "  def build_input_predictor(inputs, data_dim, lstm_units):\n",
        "    lstm_units = int(lstm_units/8)\n",
        "\n",
        "    inPred = Masking(mask_value=-1., input_shape = (data_dim, 1))(inputs)\n",
        "    \n",
        "    inPred = LSTM(lstm_units, return_sequences=True)(inputs)\n",
        "    inPred = Dropout(rate=0.2)(inPred)\n",
        "    inPred = LSTM(lstm_units, return_sequences=True)(inPred)\n",
        "    inPred = Dropout(rate=0.2)(inPred)\n",
        "    inPred = LSTM(lstm_units, return_sequences=True)(inPred)\n",
        "    inPred = Dropout(rate=0.2)(inPred)\n",
        "    inPred = LSTM(lstm_units)(inPred)    \n",
        "    inPred = Dense(20)(inPred)\n",
        "    \n",
        "    result = Activation('softmax', name= 'inPred_result')(inPred)\n",
        "    \n",
        "    return result\n",
        "    \n",
        "  @staticmethod\n",
        "  def build_output_predictor(inputs, data_dim, lstm_units): \n",
        "    lstm_units = int(lstm_units/4)\n",
        "    \n",
        "    outPred = LSTM(lstm_units, return_sequences=True)(inputs)\n",
        "    outPred = Dropout(rate=0.2)(outPred)\n",
        "    outPred = LSTM(lstm_units, return_sequences=True)(outPred)\n",
        "    outPred = Dropout(rate=0.2)(outPred)\n",
        "    outPred = LSTM(lstm_units, return_sequences=True)(outPred)\n",
        "    outPred = Dropout(rate=0.2)(outPred)\n",
        "    outPred = LSTM(lstm_units)(outPred)    \n",
        "    outPred = Dense(1)(outPred)\n",
        "    result = Activation('sigmoid', name= 'outPred_result')(outPred)\n",
        "\n",
        "    return result\n",
        "  \n",
        "  @staticmethod\n",
        "  def build(data_dim, lstm_units):\n",
        "         \n",
        "    input_shape = (data_dim, 1)\n",
        "    inputs = Input(shape = input_shape)\n",
        "   \n",
        "    inputBranch = fypNet.build_input_predictor(inputs, data_dim, lstm_units)\n",
        "    outputBranch = fypNet.build_output_predictor(inputs, data_dim, lstm_units)\n",
        "    \n",
        "    model = Model(inputs= inputs, outputs= [inputBranch, outputBranch])\n",
        "    \n",
        "    return model\n",
        "    "
      ],
      "execution_count": 0,
      "outputs": []
    },
    {
      "cell_type": "code",
      "metadata": {
        "id": "tW6yVBGPUrmk",
        "colab_type": "code",
        "outputId": "8857432b-b667-4c3d-973e-ad0c8184068b",
        "colab": {
          "base_uri": "https://localhost:8080/",
          "height": 34
        }
      },
      "source": [
        "data_dim = trainInput.shape[1]\n",
        "timesteps = trainInput.shape[0]\n",
        "lstm_units = 1024\n",
        "num_epochs = 30\n",
        "# initial_lr = 1e-3\n",
        "batch_sizes = 1024\n",
        "\n",
        "# initialize our fypNet multi-output network\n",
        "model = fypNet.build(data_dim, lstm_units)\n",
        " \n",
        "losses = {'inPred_result': 'mean_squared_error','outPred_result': 'binary_crossentropy'}\n",
        " \n",
        "# initialize the optimizer and compile the model\n",
        "\n",
        "print('Compiling model...')\n",
        "# opt = Adam(lr=initial_lr, decay=initial_lr/epochs)\n",
        "model.compile(optimizer='adam', loss=losses, metrics=['acc'])"
      ],
      "execution_count": 0,
      "outputs": [
        {
          "output_type": "stream",
          "text": [
            "Compiling model...\n"
          ],
          "name": "stdout"
        }
      ]
    },
    {
      "cell_type": "code",
      "metadata": {
        "id": "fiNO04Z3i1cz",
        "colab_type": "code",
        "outputId": "c4f32753-a70c-4480-9257-48f99138c3d4",
        "colab": {
          "base_uri": "https://localhost:8080/",
          "height": 1872
        }
      },
      "source": [
        "# inPred = trainInput.shift(-1)\n",
        "trainInTarget = np.roll(trainInput, -1)\n",
        "trainValTarget = np.roll(valInput, -1)\n",
        "\n",
        "# print(inPred.head())\n",
        "print(model.summary())\n",
        "SVG(model_to_dot(model, show_shapes=True).create(prog='dot', format='svg'))"
      ],
      "execution_count": 0,
      "outputs": [
        {
          "output_type": "stream",
          "text": [
            "__________________________________________________________________________________________________\n",
            "Layer (type)                    Output Shape         Param #     Connected to                     \n",
            "==================================================================================================\n",
            "input_5 (InputLayer)            (None, 20, 1)        0                                            \n",
            "__________________________________________________________________________________________________\n",
            "lstm_33 (LSTM)                  (None, 20, 128)      66560       input_5[0][0]                    \n",
            "__________________________________________________________________________________________________\n",
            "lstm_37 (LSTM)                  (None, 20, 256)      264192      input_5[0][0]                    \n",
            "__________________________________________________________________________________________________\n",
            "dropout_25 (Dropout)            (None, 20, 128)      0           lstm_33[0][0]                    \n",
            "__________________________________________________________________________________________________\n",
            "dropout_28 (Dropout)            (None, 20, 256)      0           lstm_37[0][0]                    \n",
            "__________________________________________________________________________________________________\n",
            "lstm_34 (LSTM)                  (None, 20, 128)      131584      dropout_25[0][0]                 \n",
            "__________________________________________________________________________________________________\n",
            "lstm_38 (LSTM)                  (None, 20, 256)      525312      dropout_28[0][0]                 \n",
            "__________________________________________________________________________________________________\n",
            "dropout_26 (Dropout)            (None, 20, 128)      0           lstm_34[0][0]                    \n",
            "__________________________________________________________________________________________________\n",
            "dropout_29 (Dropout)            (None, 20, 256)      0           lstm_38[0][0]                    \n",
            "__________________________________________________________________________________________________\n",
            "lstm_35 (LSTM)                  (None, 20, 128)      131584      dropout_26[0][0]                 \n",
            "__________________________________________________________________________________________________\n",
            "lstm_39 (LSTM)                  (None, 20, 256)      525312      dropout_29[0][0]                 \n",
            "__________________________________________________________________________________________________\n",
            "dropout_27 (Dropout)            (None, 20, 128)      0           lstm_35[0][0]                    \n",
            "__________________________________________________________________________________________________\n",
            "dropout_30 (Dropout)            (None, 20, 256)      0           lstm_39[0][0]                    \n",
            "__________________________________________________________________________________________________\n",
            "lstm_36 (LSTM)                  (None, 128)          131584      dropout_27[0][0]                 \n",
            "__________________________________________________________________________________________________\n",
            "lstm_40 (LSTM)                  (None, 256)          525312      dropout_30[0][0]                 \n",
            "__________________________________________________________________________________________________\n",
            "dense_9 (Dense)                 (None, 20)           2580        lstm_36[0][0]                    \n",
            "__________________________________________________________________________________________________\n",
            "dense_10 (Dense)                (None, 1)            257         lstm_40[0][0]                    \n",
            "__________________________________________________________________________________________________\n",
            "inPred_result (Activation)      (None, 20)           0           dense_9[0][0]                    \n",
            "__________________________________________________________________________________________________\n",
            "outPred_result (Activation)     (None, 1)            0           dense_10[0][0]                   \n",
            "==================================================================================================\n",
            "Total params: 2,304,277\n",
            "Trainable params: 2,304,277\n",
            "Non-trainable params: 0\n",
            "__________________________________________________________________________________________________\n",
            "None\n"
          ],
          "name": "stdout"
        },
        {
          "output_type": "execute_result",
          "data": {
            "text/plain": [
              "<IPython.core.display.SVG object>"
            ],
            "image/svg+xml": "<svg height=\"802pt\" viewBox=\"0.00 0.00 644.00 802.00\" width=\"644pt\" xmlns=\"http://www.w3.org/2000/svg\" xmlns:xlink=\"http://www.w3.org/1999/xlink\">\n<g class=\"graph\" id=\"graph0\" transform=\"scale(1 1) rotate(0) translate(4 798)\">\n<title>G</title>\n<polygon fill=\"#ffffff\" points=\"-4,4 -4,-798 640,-798 640,4 -4,4\" stroke=\"transparent\"/>\n<!-- 140707241602072 -->\n<g class=\"node\" id=\"node1\">\n<title>140707241602072</title>\n<polygon fill=\"none\" points=\"174.5,-747.5 174.5,-793.5 460.5,-793.5 460.5,-747.5 174.5,-747.5\" stroke=\"#000000\"/>\n<text fill=\"#000000\" font-family=\"Times,serif\" font-size=\"14.00\" text-anchor=\"middle\" x=\"241\" y=\"-766.8\">input_5: InputLayer</text>\n<polyline fill=\"none\" points=\"307.5,-747.5 307.5,-793.5 \" stroke=\"#000000\"/>\n<text fill=\"#000000\" font-family=\"Times,serif\" font-size=\"14.00\" text-anchor=\"middle\" x=\"336.5\" y=\"-778.3\">input:</text>\n<polyline fill=\"none\" points=\"307.5,-770.5 365.5,-770.5 \" stroke=\"#000000\"/>\n<text fill=\"#000000\" font-family=\"Times,serif\" font-size=\"14.00\" text-anchor=\"middle\" x=\"336.5\" y=\"-755.3\">output:</text>\n<polyline fill=\"none\" points=\"365.5,-747.5 365.5,-793.5 \" stroke=\"#000000\"/>\n<text fill=\"#000000\" font-family=\"Times,serif\" font-size=\"14.00\" text-anchor=\"middle\" x=\"413\" y=\"-778.3\">(None, 20, 1)</text>\n<polyline fill=\"none\" points=\"365.5,-770.5 460.5,-770.5 \" stroke=\"#000000\"/>\n<text fill=\"#000000\" font-family=\"Times,serif\" font-size=\"14.00\" text-anchor=\"middle\" x=\"413\" y=\"-755.3\">(None, 20, 1)</text>\n</g>\n<!-- 140707241601624 -->\n<g class=\"node\" id=\"node2\">\n<title>140707241601624</title>\n<polygon fill=\"none\" points=\"30.5,-664.5 30.5,-710.5 308.5,-710.5 308.5,-664.5 30.5,-664.5\" stroke=\"#000000\"/>\n<text fill=\"#000000\" font-family=\"Times,serif\" font-size=\"14.00\" text-anchor=\"middle\" x=\"85.5\" y=\"-683.8\">lstm_33: LSTM</text>\n<polyline fill=\"none\" points=\"140.5,-664.5 140.5,-710.5 \" stroke=\"#000000\"/>\n<text fill=\"#000000\" font-family=\"Times,serif\" font-size=\"14.00\" text-anchor=\"middle\" x=\"169.5\" y=\"-695.3\">input:</text>\n<polyline fill=\"none\" points=\"140.5,-687.5 198.5,-687.5 \" stroke=\"#000000\"/>\n<text fill=\"#000000\" font-family=\"Times,serif\" font-size=\"14.00\" text-anchor=\"middle\" x=\"169.5\" y=\"-672.3\">output:</text>\n<polyline fill=\"none\" points=\"198.5,-664.5 198.5,-710.5 \" stroke=\"#000000\"/>\n<text fill=\"#000000\" font-family=\"Times,serif\" font-size=\"14.00\" text-anchor=\"middle\" x=\"253.5\" y=\"-695.3\">(None, 20, 1)</text>\n<polyline fill=\"none\" points=\"198.5,-687.5 308.5,-687.5 \" stroke=\"#000000\"/>\n<text fill=\"#000000\" font-family=\"Times,serif\" font-size=\"14.00\" text-anchor=\"middle\" x=\"253.5\" y=\"-672.3\">(None, 20, 128)</text>\n</g>\n<!-- 140707241602072&#45;&gt;140707241601624 -->\n<g class=\"edge\" id=\"edge1\">\n<title>140707241602072-&gt;140707241601624</title>\n<path d=\"M276.2737,-747.3799C258.7064,-737.5279 238.051,-725.9442 219.6121,-715.6034\" fill=\"none\" stroke=\"#000000\"/>\n<polygon fill=\"#000000\" points=\"221.1957,-712.4787 210.7616,-710.6399 217.7716,-718.5841 221.1957,-712.4787\" stroke=\"#000000\"/>\n</g>\n<!-- 140707490511056 -->\n<g class=\"node\" id=\"node3\">\n<title>140707490511056</title>\n<polygon fill=\"none\" points=\"334.5,-664.5 334.5,-710.5 612.5,-710.5 612.5,-664.5 334.5,-664.5\" stroke=\"#000000\"/>\n<text fill=\"#000000\" font-family=\"Times,serif\" font-size=\"14.00\" text-anchor=\"middle\" x=\"389.5\" y=\"-683.8\">lstm_37: LSTM</text>\n<polyline fill=\"none\" points=\"444.5,-664.5 444.5,-710.5 \" stroke=\"#000000\"/>\n<text fill=\"#000000\" font-family=\"Times,serif\" font-size=\"14.00\" text-anchor=\"middle\" x=\"473.5\" y=\"-695.3\">input:</text>\n<polyline fill=\"none\" points=\"444.5,-687.5 502.5,-687.5 \" stroke=\"#000000\"/>\n<text fill=\"#000000\" font-family=\"Times,serif\" font-size=\"14.00\" text-anchor=\"middle\" x=\"473.5\" y=\"-672.3\">output:</text>\n<polyline fill=\"none\" points=\"502.5,-664.5 502.5,-710.5 \" stroke=\"#000000\"/>\n<text fill=\"#000000\" font-family=\"Times,serif\" font-size=\"14.00\" text-anchor=\"middle\" x=\"557.5\" y=\"-695.3\">(None, 20, 1)</text>\n<polyline fill=\"none\" points=\"502.5,-687.5 612.5,-687.5 \" stroke=\"#000000\"/>\n<text fill=\"#000000\" font-family=\"Times,serif\" font-size=\"14.00\" text-anchor=\"middle\" x=\"557.5\" y=\"-672.3\">(None, 20, 256)</text>\n</g>\n<!-- 140707241602072&#45;&gt;140707490511056 -->\n<g class=\"edge\" id=\"edge2\">\n<title>140707241602072-&gt;140707490511056</title>\n<path d=\"M360.9547,-747.3799C379.5558,-737.4832 401.4415,-725.8388 420.944,-715.4625\" fill=\"none\" stroke=\"#000000\"/>\n<polygon fill=\"#000000\" points=\"422.8238,-718.427 430.008,-710.6399 419.5358,-712.2472 422.8238,-718.427\" stroke=\"#000000\"/>\n</g>\n<!-- 140707507339216 -->\n<g class=\"node\" id=\"node4\">\n<title>140707507339216</title>\n<polygon fill=\"none\" points=\"0,-581.5 0,-627.5 309,-627.5 309,-581.5 0,-581.5\" stroke=\"#000000\"/>\n<text fill=\"#000000\" font-family=\"Times,serif\" font-size=\"14.00\" text-anchor=\"middle\" x=\"70.5\" y=\"-600.8\">dropout_25: Dropout</text>\n<polyline fill=\"none\" points=\"141,-581.5 141,-627.5 \" stroke=\"#000000\"/>\n<text fill=\"#000000\" font-family=\"Times,serif\" font-size=\"14.00\" text-anchor=\"middle\" x=\"170\" y=\"-612.3\">input:</text>\n<polyline fill=\"none\" points=\"141,-604.5 199,-604.5 \" stroke=\"#000000\"/>\n<text fill=\"#000000\" font-family=\"Times,serif\" font-size=\"14.00\" text-anchor=\"middle\" x=\"170\" y=\"-589.3\">output:</text>\n<polyline fill=\"none\" points=\"199,-581.5 199,-627.5 \" stroke=\"#000000\"/>\n<text fill=\"#000000\" font-family=\"Times,serif\" font-size=\"14.00\" text-anchor=\"middle\" x=\"254\" y=\"-612.3\">(None, 20, 128)</text>\n<polyline fill=\"none\" points=\"199,-604.5 309,-604.5 \" stroke=\"#000000\"/>\n<text fill=\"#000000\" font-family=\"Times,serif\" font-size=\"14.00\" text-anchor=\"middle\" x=\"254\" y=\"-589.3\">(None, 20, 128)</text>\n</g>\n<!-- 140707241601624&#45;&gt;140707507339216 -->\n<g class=\"edge\" id=\"edge3\">\n<title>140707241601624-&gt;140707507339216</title>\n<path d=\"M165.3217,-664.3799C163.8388,-656.1745 162.1388,-646.7679 160.5323,-637.8786\" fill=\"none\" stroke=\"#000000\"/>\n<polygon fill=\"#000000\" points=\"163.9307,-637.0021 158.708,-627.784 157.0422,-638.2471 163.9307,-637.0021\" stroke=\"#000000\"/>\n</g>\n<!-- 140707488450152 -->\n<g class=\"node\" id=\"node5\">\n<title>140707488450152</title>\n<polygon fill=\"none\" points=\"327,-581.5 327,-627.5 636,-627.5 636,-581.5 327,-581.5\" stroke=\"#000000\"/>\n<text fill=\"#000000\" font-family=\"Times,serif\" font-size=\"14.00\" text-anchor=\"middle\" x=\"397.5\" y=\"-600.8\">dropout_28: Dropout</text>\n<polyline fill=\"none\" points=\"468,-581.5 468,-627.5 \" stroke=\"#000000\"/>\n<text fill=\"#000000\" font-family=\"Times,serif\" font-size=\"14.00\" text-anchor=\"middle\" x=\"497\" y=\"-612.3\">input:</text>\n<polyline fill=\"none\" points=\"468,-604.5 526,-604.5 \" stroke=\"#000000\"/>\n<text fill=\"#000000\" font-family=\"Times,serif\" font-size=\"14.00\" text-anchor=\"middle\" x=\"497\" y=\"-589.3\">output:</text>\n<polyline fill=\"none\" points=\"526,-581.5 526,-627.5 \" stroke=\"#000000\"/>\n<text fill=\"#000000\" font-family=\"Times,serif\" font-size=\"14.00\" text-anchor=\"middle\" x=\"581\" y=\"-612.3\">(None, 20, 256)</text>\n<polyline fill=\"none\" points=\"526,-604.5 636,-604.5 \" stroke=\"#000000\"/>\n<text fill=\"#000000\" font-family=\"Times,serif\" font-size=\"14.00\" text-anchor=\"middle\" x=\"581\" y=\"-589.3\">(None, 20, 256)</text>\n</g>\n<!-- 140707490511056&#45;&gt;140707488450152 -->\n<g class=\"edge\" id=\"edge4\">\n<title>140707490511056-&gt;140707488450152</title>\n<path d=\"M475.7284,-664.3799C476.5193,-656.1745 477.426,-646.7679 478.2828,-637.8786\" fill=\"none\" stroke=\"#000000\"/>\n<polygon fill=\"#000000\" points=\"481.7801,-638.0737 479.2558,-627.784 474.8124,-637.4021 481.7801,-638.0737\" stroke=\"#000000\"/>\n</g>\n<!-- 140707507336920 -->\n<g class=\"node\" id=\"node6\">\n<title>140707507336920</title>\n<polygon fill=\"none\" points=\"15.5,-498.5 15.5,-544.5 293.5,-544.5 293.5,-498.5 15.5,-498.5\" stroke=\"#000000\"/>\n<text fill=\"#000000\" font-family=\"Times,serif\" font-size=\"14.00\" text-anchor=\"middle\" x=\"70.5\" y=\"-517.8\">lstm_34: LSTM</text>\n<polyline fill=\"none\" points=\"125.5,-498.5 125.5,-544.5 \" stroke=\"#000000\"/>\n<text fill=\"#000000\" font-family=\"Times,serif\" font-size=\"14.00\" text-anchor=\"middle\" x=\"154.5\" y=\"-529.3\">input:</text>\n<polyline fill=\"none\" points=\"125.5,-521.5 183.5,-521.5 \" stroke=\"#000000\"/>\n<text fill=\"#000000\" font-family=\"Times,serif\" font-size=\"14.00\" text-anchor=\"middle\" x=\"154.5\" y=\"-506.3\">output:</text>\n<polyline fill=\"none\" points=\"183.5,-498.5 183.5,-544.5 \" stroke=\"#000000\"/>\n<text fill=\"#000000\" font-family=\"Times,serif\" font-size=\"14.00\" text-anchor=\"middle\" x=\"238.5\" y=\"-529.3\">(None, 20, 128)</text>\n<polyline fill=\"none\" points=\"183.5,-521.5 293.5,-521.5 \" stroke=\"#000000\"/>\n<text fill=\"#000000\" font-family=\"Times,serif\" font-size=\"14.00\" text-anchor=\"middle\" x=\"238.5\" y=\"-506.3\">(None, 20, 128)</text>\n</g>\n<!-- 140707507339216&#45;&gt;140707507336920 -->\n<g class=\"edge\" id=\"edge5\">\n<title>140707507339216-&gt;140707507336920</title>\n<path d=\"M154.5,-581.3799C154.5,-573.1745 154.5,-563.7679 154.5,-554.8786\" fill=\"none\" stroke=\"#000000\"/>\n<polygon fill=\"#000000\" points=\"158.0001,-554.784 154.5,-544.784 151.0001,-554.784 158.0001,-554.784\" stroke=\"#000000\"/>\n</g>\n<!-- 140707488451720 -->\n<g class=\"node\" id=\"node7\">\n<title>140707488451720</title>\n<polygon fill=\"none\" points=\"342.5,-498.5 342.5,-544.5 620.5,-544.5 620.5,-498.5 342.5,-498.5\" stroke=\"#000000\"/>\n<text fill=\"#000000\" font-family=\"Times,serif\" font-size=\"14.00\" text-anchor=\"middle\" x=\"397.5\" y=\"-517.8\">lstm_38: LSTM</text>\n<polyline fill=\"none\" points=\"452.5,-498.5 452.5,-544.5 \" stroke=\"#000000\"/>\n<text fill=\"#000000\" font-family=\"Times,serif\" font-size=\"14.00\" text-anchor=\"middle\" x=\"481.5\" y=\"-529.3\">input:</text>\n<polyline fill=\"none\" points=\"452.5,-521.5 510.5,-521.5 \" stroke=\"#000000\"/>\n<text fill=\"#000000\" font-family=\"Times,serif\" font-size=\"14.00\" text-anchor=\"middle\" x=\"481.5\" y=\"-506.3\">output:</text>\n<polyline fill=\"none\" points=\"510.5,-498.5 510.5,-544.5 \" stroke=\"#000000\"/>\n<text fill=\"#000000\" font-family=\"Times,serif\" font-size=\"14.00\" text-anchor=\"middle\" x=\"565.5\" y=\"-529.3\">(None, 20, 256)</text>\n<polyline fill=\"none\" points=\"510.5,-521.5 620.5,-521.5 \" stroke=\"#000000\"/>\n<text fill=\"#000000\" font-family=\"Times,serif\" font-size=\"14.00\" text-anchor=\"middle\" x=\"565.5\" y=\"-506.3\">(None, 20, 256)</text>\n</g>\n<!-- 140707488450152&#45;&gt;140707488451720 -->\n<g class=\"edge\" id=\"edge6\">\n<title>140707488450152-&gt;140707488451720</title>\n<path d=\"M481.5,-581.3799C481.5,-573.1745 481.5,-563.7679 481.5,-554.8786\" fill=\"none\" stroke=\"#000000\"/>\n<polygon fill=\"#000000\" points=\"485.0001,-554.784 481.5,-544.784 478.0001,-554.784 485.0001,-554.784\" stroke=\"#000000\"/>\n</g>\n<!-- 140707500627112 -->\n<g class=\"node\" id=\"node8\">\n<title>140707500627112</title>\n<polygon fill=\"none\" points=\"0,-415.5 0,-461.5 309,-461.5 309,-415.5 0,-415.5\" stroke=\"#000000\"/>\n<text fill=\"#000000\" font-family=\"Times,serif\" font-size=\"14.00\" text-anchor=\"middle\" x=\"70.5\" y=\"-434.8\">dropout_26: Dropout</text>\n<polyline fill=\"none\" points=\"141,-415.5 141,-461.5 \" stroke=\"#000000\"/>\n<text fill=\"#000000\" font-family=\"Times,serif\" font-size=\"14.00\" text-anchor=\"middle\" x=\"170\" y=\"-446.3\">input:</text>\n<polyline fill=\"none\" points=\"141,-438.5 199,-438.5 \" stroke=\"#000000\"/>\n<text fill=\"#000000\" font-family=\"Times,serif\" font-size=\"14.00\" text-anchor=\"middle\" x=\"170\" y=\"-423.3\">output:</text>\n<polyline fill=\"none\" points=\"199,-415.5 199,-461.5 \" stroke=\"#000000\"/>\n<text fill=\"#000000\" font-family=\"Times,serif\" font-size=\"14.00\" text-anchor=\"middle\" x=\"254\" y=\"-446.3\">(None, 20, 128)</text>\n<polyline fill=\"none\" points=\"199,-438.5 309,-438.5 \" stroke=\"#000000\"/>\n<text fill=\"#000000\" font-family=\"Times,serif\" font-size=\"14.00\" text-anchor=\"middle\" x=\"254\" y=\"-423.3\">(None, 20, 128)</text>\n</g>\n<!-- 140707507336920&#45;&gt;140707500627112 -->\n<g class=\"edge\" id=\"edge7\">\n<title>140707507336920-&gt;140707500627112</title>\n<path d=\"M154.5,-498.3799C154.5,-490.1745 154.5,-480.7679 154.5,-471.8786\" fill=\"none\" stroke=\"#000000\"/>\n<polygon fill=\"#000000\" points=\"158.0001,-471.784 154.5,-461.784 151.0001,-471.784 158.0001,-471.784\" stroke=\"#000000\"/>\n</g>\n<!-- 140707487028784 -->\n<g class=\"node\" id=\"node9\">\n<title>140707487028784</title>\n<polygon fill=\"none\" points=\"327,-415.5 327,-461.5 636,-461.5 636,-415.5 327,-415.5\" stroke=\"#000000\"/>\n<text fill=\"#000000\" font-family=\"Times,serif\" font-size=\"14.00\" text-anchor=\"middle\" x=\"397.5\" y=\"-434.8\">dropout_29: Dropout</text>\n<polyline fill=\"none\" points=\"468,-415.5 468,-461.5 \" stroke=\"#000000\"/>\n<text fill=\"#000000\" font-family=\"Times,serif\" font-size=\"14.00\" text-anchor=\"middle\" x=\"497\" y=\"-446.3\">input:</text>\n<polyline fill=\"none\" points=\"468,-438.5 526,-438.5 \" stroke=\"#000000\"/>\n<text fill=\"#000000\" font-family=\"Times,serif\" font-size=\"14.00\" text-anchor=\"middle\" x=\"497\" y=\"-423.3\">output:</text>\n<polyline fill=\"none\" points=\"526,-415.5 526,-461.5 \" stroke=\"#000000\"/>\n<text fill=\"#000000\" font-family=\"Times,serif\" font-size=\"14.00\" text-anchor=\"middle\" x=\"581\" y=\"-446.3\">(None, 20, 256)</text>\n<polyline fill=\"none\" points=\"526,-438.5 636,-438.5 \" stroke=\"#000000\"/>\n<text fill=\"#000000\" font-family=\"Times,serif\" font-size=\"14.00\" text-anchor=\"middle\" x=\"581\" y=\"-423.3\">(None, 20, 256)</text>\n</g>\n<!-- 140707488451720&#45;&gt;140707487028784 -->\n<g class=\"edge\" id=\"edge8\">\n<title>140707488451720-&gt;140707487028784</title>\n<path d=\"M481.5,-498.3799C481.5,-490.1745 481.5,-480.7679 481.5,-471.8786\" fill=\"none\" stroke=\"#000000\"/>\n<polygon fill=\"#000000\" points=\"485.0001,-471.784 481.5,-461.784 478.0001,-471.784 485.0001,-471.784\" stroke=\"#000000\"/>\n</g>\n<!-- 140707497241064 -->\n<g class=\"node\" id=\"node10\">\n<title>140707497241064</title>\n<polygon fill=\"none\" points=\"15.5,-332.5 15.5,-378.5 293.5,-378.5 293.5,-332.5 15.5,-332.5\" stroke=\"#000000\"/>\n<text fill=\"#000000\" font-family=\"Times,serif\" font-size=\"14.00\" text-anchor=\"middle\" x=\"70.5\" y=\"-351.8\">lstm_35: LSTM</text>\n<polyline fill=\"none\" points=\"125.5,-332.5 125.5,-378.5 \" stroke=\"#000000\"/>\n<text fill=\"#000000\" font-family=\"Times,serif\" font-size=\"14.00\" text-anchor=\"middle\" x=\"154.5\" y=\"-363.3\">input:</text>\n<polyline fill=\"none\" points=\"125.5,-355.5 183.5,-355.5 \" stroke=\"#000000\"/>\n<text fill=\"#000000\" font-family=\"Times,serif\" font-size=\"14.00\" text-anchor=\"middle\" x=\"154.5\" y=\"-340.3\">output:</text>\n<polyline fill=\"none\" points=\"183.5,-332.5 183.5,-378.5 \" stroke=\"#000000\"/>\n<text fill=\"#000000\" font-family=\"Times,serif\" font-size=\"14.00\" text-anchor=\"middle\" x=\"238.5\" y=\"-363.3\">(None, 20, 128)</text>\n<polyline fill=\"none\" points=\"183.5,-355.5 293.5,-355.5 \" stroke=\"#000000\"/>\n<text fill=\"#000000\" font-family=\"Times,serif\" font-size=\"14.00\" text-anchor=\"middle\" x=\"238.5\" y=\"-340.3\">(None, 20, 128)</text>\n</g>\n<!-- 140707500627112&#45;&gt;140707497241064 -->\n<g class=\"edge\" id=\"edge9\">\n<title>140707500627112-&gt;140707497241064</title>\n<path d=\"M154.5,-415.3799C154.5,-407.1745 154.5,-397.7679 154.5,-388.8786\" fill=\"none\" stroke=\"#000000\"/>\n<polygon fill=\"#000000\" points=\"158.0001,-388.784 154.5,-378.784 151.0001,-388.784 158.0001,-388.784\" stroke=\"#000000\"/>\n</g>\n<!-- 140707485157360 -->\n<g class=\"node\" id=\"node11\">\n<title>140707485157360</title>\n<polygon fill=\"none\" points=\"342.5,-332.5 342.5,-378.5 620.5,-378.5 620.5,-332.5 342.5,-332.5\" stroke=\"#000000\"/>\n<text fill=\"#000000\" font-family=\"Times,serif\" font-size=\"14.00\" text-anchor=\"middle\" x=\"397.5\" y=\"-351.8\">lstm_39: LSTM</text>\n<polyline fill=\"none\" points=\"452.5,-332.5 452.5,-378.5 \" stroke=\"#000000\"/>\n<text fill=\"#000000\" font-family=\"Times,serif\" font-size=\"14.00\" text-anchor=\"middle\" x=\"481.5\" y=\"-363.3\">input:</text>\n<polyline fill=\"none\" points=\"452.5,-355.5 510.5,-355.5 \" stroke=\"#000000\"/>\n<text fill=\"#000000\" font-family=\"Times,serif\" font-size=\"14.00\" text-anchor=\"middle\" x=\"481.5\" y=\"-340.3\">output:</text>\n<polyline fill=\"none\" points=\"510.5,-332.5 510.5,-378.5 \" stroke=\"#000000\"/>\n<text fill=\"#000000\" font-family=\"Times,serif\" font-size=\"14.00\" text-anchor=\"middle\" x=\"565.5\" y=\"-363.3\">(None, 20, 256)</text>\n<polyline fill=\"none\" points=\"510.5,-355.5 620.5,-355.5 \" stroke=\"#000000\"/>\n<text fill=\"#000000\" font-family=\"Times,serif\" font-size=\"14.00\" text-anchor=\"middle\" x=\"565.5\" y=\"-340.3\">(None, 20, 256)</text>\n</g>\n<!-- 140707487028784&#45;&gt;140707485157360 -->\n<g class=\"edge\" id=\"edge10\">\n<title>140707487028784-&gt;140707485157360</title>\n<path d=\"M481.5,-415.3799C481.5,-407.1745 481.5,-397.7679 481.5,-388.8786\" fill=\"none\" stroke=\"#000000\"/>\n<polygon fill=\"#000000\" points=\"485.0001,-388.784 481.5,-378.784 478.0001,-388.784 485.0001,-388.784\" stroke=\"#000000\"/>\n</g>\n<!-- 140707495840232 -->\n<g class=\"node\" id=\"node12\">\n<title>140707495840232</title>\n<polygon fill=\"none\" points=\"0,-249.5 0,-295.5 309,-295.5 309,-249.5 0,-249.5\" stroke=\"#000000\"/>\n<text fill=\"#000000\" font-family=\"Times,serif\" font-size=\"14.00\" text-anchor=\"middle\" x=\"70.5\" y=\"-268.8\">dropout_27: Dropout</text>\n<polyline fill=\"none\" points=\"141,-249.5 141,-295.5 \" stroke=\"#000000\"/>\n<text fill=\"#000000\" font-family=\"Times,serif\" font-size=\"14.00\" text-anchor=\"middle\" x=\"170\" y=\"-280.3\">input:</text>\n<polyline fill=\"none\" points=\"141,-272.5 199,-272.5 \" stroke=\"#000000\"/>\n<text fill=\"#000000\" font-family=\"Times,serif\" font-size=\"14.00\" text-anchor=\"middle\" x=\"170\" y=\"-257.3\">output:</text>\n<polyline fill=\"none\" points=\"199,-249.5 199,-295.5 \" stroke=\"#000000\"/>\n<text fill=\"#000000\" font-family=\"Times,serif\" font-size=\"14.00\" text-anchor=\"middle\" x=\"254\" y=\"-280.3\">(None, 20, 128)</text>\n<polyline fill=\"none\" points=\"199,-272.5 309,-272.5 \" stroke=\"#000000\"/>\n<text fill=\"#000000\" font-family=\"Times,serif\" font-size=\"14.00\" text-anchor=\"middle\" x=\"254\" y=\"-257.3\">(None, 20, 128)</text>\n</g>\n<!-- 140707497241064&#45;&gt;140707495840232 -->\n<g class=\"edge\" id=\"edge11\">\n<title>140707497241064-&gt;140707495840232</title>\n<path d=\"M154.5,-332.3799C154.5,-324.1745 154.5,-314.7679 154.5,-305.8786\" fill=\"none\" stroke=\"#000000\"/>\n<polygon fill=\"#000000\" points=\"158.0001,-305.784 154.5,-295.784 151.0001,-305.784 158.0001,-305.784\" stroke=\"#000000\"/>\n</g>\n<!-- 140707484580832 -->\n<g class=\"node\" id=\"node13\">\n<title>140707484580832</title>\n<polygon fill=\"none\" points=\"327,-249.5 327,-295.5 636,-295.5 636,-249.5 327,-249.5\" stroke=\"#000000\"/>\n<text fill=\"#000000\" font-family=\"Times,serif\" font-size=\"14.00\" text-anchor=\"middle\" x=\"397.5\" y=\"-268.8\">dropout_30: Dropout</text>\n<polyline fill=\"none\" points=\"468,-249.5 468,-295.5 \" stroke=\"#000000\"/>\n<text fill=\"#000000\" font-family=\"Times,serif\" font-size=\"14.00\" text-anchor=\"middle\" x=\"497\" y=\"-280.3\">input:</text>\n<polyline fill=\"none\" points=\"468,-272.5 526,-272.5 \" stroke=\"#000000\"/>\n<text fill=\"#000000\" font-family=\"Times,serif\" font-size=\"14.00\" text-anchor=\"middle\" x=\"497\" y=\"-257.3\">output:</text>\n<polyline fill=\"none\" points=\"526,-249.5 526,-295.5 \" stroke=\"#000000\"/>\n<text fill=\"#000000\" font-family=\"Times,serif\" font-size=\"14.00\" text-anchor=\"middle\" x=\"581\" y=\"-280.3\">(None, 20, 256)</text>\n<polyline fill=\"none\" points=\"526,-272.5 636,-272.5 \" stroke=\"#000000\"/>\n<text fill=\"#000000\" font-family=\"Times,serif\" font-size=\"14.00\" text-anchor=\"middle\" x=\"581\" y=\"-257.3\">(None, 20, 256)</text>\n</g>\n<!-- 140707485157360&#45;&gt;140707484580832 -->\n<g class=\"edge\" id=\"edge12\">\n<title>140707485157360-&gt;140707484580832</title>\n<path d=\"M481.5,-332.3799C481.5,-324.1745 481.5,-314.7679 481.5,-305.8786\" fill=\"none\" stroke=\"#000000\"/>\n<polygon fill=\"#000000\" points=\"485.0001,-305.784 481.5,-295.784 478.0001,-305.784 485.0001,-305.784\" stroke=\"#000000\"/>\n</g>\n<!-- 140707497353288 -->\n<g class=\"node\" id=\"node14\">\n<title>140707497353288</title>\n<polygon fill=\"none\" points=\"15.5,-166.5 15.5,-212.5 293.5,-212.5 293.5,-166.5 15.5,-166.5\" stroke=\"#000000\"/>\n<text fill=\"#000000\" font-family=\"Times,serif\" font-size=\"14.00\" text-anchor=\"middle\" x=\"70.5\" y=\"-185.8\">lstm_36: LSTM</text>\n<polyline fill=\"none\" points=\"125.5,-166.5 125.5,-212.5 \" stroke=\"#000000\"/>\n<text fill=\"#000000\" font-family=\"Times,serif\" font-size=\"14.00\" text-anchor=\"middle\" x=\"154.5\" y=\"-197.3\">input:</text>\n<polyline fill=\"none\" points=\"125.5,-189.5 183.5,-189.5 \" stroke=\"#000000\"/>\n<text fill=\"#000000\" font-family=\"Times,serif\" font-size=\"14.00\" text-anchor=\"middle\" x=\"154.5\" y=\"-174.3\">output:</text>\n<polyline fill=\"none\" points=\"183.5,-166.5 183.5,-212.5 \" stroke=\"#000000\"/>\n<text fill=\"#000000\" font-family=\"Times,serif\" font-size=\"14.00\" text-anchor=\"middle\" x=\"238.5\" y=\"-197.3\">(None, 20, 128)</text>\n<polyline fill=\"none\" points=\"183.5,-189.5 293.5,-189.5 \" stroke=\"#000000\"/>\n<text fill=\"#000000\" font-family=\"Times,serif\" font-size=\"14.00\" text-anchor=\"middle\" x=\"238.5\" y=\"-174.3\">(None, 128)</text>\n</g>\n<!-- 140707495840232&#45;&gt;140707497353288 -->\n<g class=\"edge\" id=\"edge13\">\n<title>140707495840232-&gt;140707497353288</title>\n<path d=\"M154.5,-249.3799C154.5,-241.1745 154.5,-231.7679 154.5,-222.8786\" fill=\"none\" stroke=\"#000000\"/>\n<polygon fill=\"#000000\" points=\"158.0001,-222.784 154.5,-212.784 151.0001,-222.784 158.0001,-222.784\" stroke=\"#000000\"/>\n</g>\n<!-- 140707485613808 -->\n<g class=\"node\" id=\"node15\">\n<title>140707485613808</title>\n<polygon fill=\"none\" points=\"342.5,-166.5 342.5,-212.5 620.5,-212.5 620.5,-166.5 342.5,-166.5\" stroke=\"#000000\"/>\n<text fill=\"#000000\" font-family=\"Times,serif\" font-size=\"14.00\" text-anchor=\"middle\" x=\"397.5\" y=\"-185.8\">lstm_40: LSTM</text>\n<polyline fill=\"none\" points=\"452.5,-166.5 452.5,-212.5 \" stroke=\"#000000\"/>\n<text fill=\"#000000\" font-family=\"Times,serif\" font-size=\"14.00\" text-anchor=\"middle\" x=\"481.5\" y=\"-197.3\">input:</text>\n<polyline fill=\"none\" points=\"452.5,-189.5 510.5,-189.5 \" stroke=\"#000000\"/>\n<text fill=\"#000000\" font-family=\"Times,serif\" font-size=\"14.00\" text-anchor=\"middle\" x=\"481.5\" y=\"-174.3\">output:</text>\n<polyline fill=\"none\" points=\"510.5,-166.5 510.5,-212.5 \" stroke=\"#000000\"/>\n<text fill=\"#000000\" font-family=\"Times,serif\" font-size=\"14.00\" text-anchor=\"middle\" x=\"565.5\" y=\"-197.3\">(None, 20, 256)</text>\n<polyline fill=\"none\" points=\"510.5,-189.5 620.5,-189.5 \" stroke=\"#000000\"/>\n<text fill=\"#000000\" font-family=\"Times,serif\" font-size=\"14.00\" text-anchor=\"middle\" x=\"565.5\" y=\"-174.3\">(None, 256)</text>\n</g>\n<!-- 140707484580832&#45;&gt;140707485613808 -->\n<g class=\"edge\" id=\"edge14\">\n<title>140707484580832-&gt;140707485613808</title>\n<path d=\"M481.5,-249.3799C481.5,-241.1745 481.5,-231.7679 481.5,-222.8786\" fill=\"none\" stroke=\"#000000\"/>\n<polygon fill=\"#000000\" points=\"485.0001,-222.784 481.5,-212.784 478.0001,-222.784 485.0001,-222.784\" stroke=\"#000000\"/>\n</g>\n<!-- 140707491834736 -->\n<g class=\"node\" id=\"node16\">\n<title>140707491834736</title>\n<polygon fill=\"none\" points=\"28.5,-83.5 28.5,-129.5 280.5,-129.5 280.5,-83.5 28.5,-83.5\" stroke=\"#000000\"/>\n<text fill=\"#000000\" font-family=\"Times,serif\" font-size=\"14.00\" text-anchor=\"middle\" x=\"82\" y=\"-102.8\">dense_9: Dense</text>\n<polyline fill=\"none\" points=\"135.5,-83.5 135.5,-129.5 \" stroke=\"#000000\"/>\n<text fill=\"#000000\" font-family=\"Times,serif\" font-size=\"14.00\" text-anchor=\"middle\" x=\"164.5\" y=\"-114.3\">input:</text>\n<polyline fill=\"none\" points=\"135.5,-106.5 193.5,-106.5 \" stroke=\"#000000\"/>\n<text fill=\"#000000\" font-family=\"Times,serif\" font-size=\"14.00\" text-anchor=\"middle\" x=\"164.5\" y=\"-91.3\">output:</text>\n<polyline fill=\"none\" points=\"193.5,-83.5 193.5,-129.5 \" stroke=\"#000000\"/>\n<text fill=\"#000000\" font-family=\"Times,serif\" font-size=\"14.00\" text-anchor=\"middle\" x=\"237\" y=\"-114.3\">(None, 128)</text>\n<polyline fill=\"none\" points=\"193.5,-106.5 280.5,-106.5 \" stroke=\"#000000\"/>\n<text fill=\"#000000\" font-family=\"Times,serif\" font-size=\"14.00\" text-anchor=\"middle\" x=\"237\" y=\"-91.3\">(None, 20)</text>\n</g>\n<!-- 140707497353288&#45;&gt;140707491834736 -->\n<g class=\"edge\" id=\"edge15\">\n<title>140707497353288-&gt;140707491834736</title>\n<path d=\"M154.5,-166.3799C154.5,-158.1745 154.5,-148.7679 154.5,-139.8786\" fill=\"none\" stroke=\"#000000\"/>\n<polygon fill=\"#000000\" points=\"158.0001,-139.784 154.5,-129.784 151.0001,-139.784 158.0001,-139.784\" stroke=\"#000000\"/>\n</g>\n<!-- 140707477974264 -->\n<g class=\"node\" id=\"node17\">\n<title>140707477974264</title>\n<polygon fill=\"none\" points=\"352,-83.5 352,-129.5 611,-129.5 611,-83.5 352,-83.5\" stroke=\"#000000\"/>\n<text fill=\"#000000\" font-family=\"Times,serif\" font-size=\"14.00\" text-anchor=\"middle\" x=\"409\" y=\"-102.8\">dense_10: Dense</text>\n<polyline fill=\"none\" points=\"466,-83.5 466,-129.5 \" stroke=\"#000000\"/>\n<text fill=\"#000000\" font-family=\"Times,serif\" font-size=\"14.00\" text-anchor=\"middle\" x=\"495\" y=\"-114.3\">input:</text>\n<polyline fill=\"none\" points=\"466,-106.5 524,-106.5 \" stroke=\"#000000\"/>\n<text fill=\"#000000\" font-family=\"Times,serif\" font-size=\"14.00\" text-anchor=\"middle\" x=\"495\" y=\"-91.3\">output:</text>\n<polyline fill=\"none\" points=\"524,-83.5 524,-129.5 \" stroke=\"#000000\"/>\n<text fill=\"#000000\" font-family=\"Times,serif\" font-size=\"14.00\" text-anchor=\"middle\" x=\"567.5\" y=\"-114.3\">(None, 256)</text>\n<polyline fill=\"none\" points=\"524,-106.5 611,-106.5 \" stroke=\"#000000\"/>\n<text fill=\"#000000\" font-family=\"Times,serif\" font-size=\"14.00\" text-anchor=\"middle\" x=\"567.5\" y=\"-91.3\">(None, 1)</text>\n</g>\n<!-- 140707485613808&#45;&gt;140707477974264 -->\n<g class=\"edge\" id=\"edge16\">\n<title>140707485613808-&gt;140707477974264</title>\n<path d=\"M481.5,-166.3799C481.5,-158.1745 481.5,-148.7679 481.5,-139.8786\" fill=\"none\" stroke=\"#000000\"/>\n<polygon fill=\"#000000\" points=\"485.0001,-139.784 481.5,-129.784 478.0001,-139.784 485.0001,-139.784\" stroke=\"#000000\"/>\n</g>\n<!-- 140707490397544 -->\n<g class=\"node\" id=\"node18\">\n<title>140707490397544</title>\n<polygon fill=\"none\" points=\"6,-.5 6,-46.5 303,-46.5 303,-.5 6,-.5\" stroke=\"#000000\"/>\n<text fill=\"#000000\" font-family=\"Times,serif\" font-size=\"14.00\" text-anchor=\"middle\" x=\"85.5\" y=\"-19.8\">inPred_result: Activation</text>\n<polyline fill=\"none\" points=\"165,-.5 165,-46.5 \" stroke=\"#000000\"/>\n<text fill=\"#000000\" font-family=\"Times,serif\" font-size=\"14.00\" text-anchor=\"middle\" x=\"194\" y=\"-31.3\">input:</text>\n<polyline fill=\"none\" points=\"165,-23.5 223,-23.5 \" stroke=\"#000000\"/>\n<text fill=\"#000000\" font-family=\"Times,serif\" font-size=\"14.00\" text-anchor=\"middle\" x=\"194\" y=\"-8.3\">output:</text>\n<polyline fill=\"none\" points=\"223,-.5 223,-46.5 \" stroke=\"#000000\"/>\n<text fill=\"#000000\" font-family=\"Times,serif\" font-size=\"14.00\" text-anchor=\"middle\" x=\"263\" y=\"-31.3\">(None, 20)</text>\n<polyline fill=\"none\" points=\"223,-23.5 303,-23.5 \" stroke=\"#000000\"/>\n<text fill=\"#000000\" font-family=\"Times,serif\" font-size=\"14.00\" text-anchor=\"middle\" x=\"263\" y=\"-8.3\">(None, 20)</text>\n</g>\n<!-- 140707491834736&#45;&gt;140707490397544 -->\n<g class=\"edge\" id=\"edge17\">\n<title>140707491834736-&gt;140707490397544</title>\n<path d=\"M154.5,-83.3799C154.5,-75.1745 154.5,-65.7679 154.5,-56.8786\" fill=\"none\" stroke=\"#000000\"/>\n<polygon fill=\"#000000\" points=\"158.0001,-56.784 154.5,-46.784 151.0001,-56.784 158.0001,-56.784\" stroke=\"#000000\"/>\n</g>\n<!-- 140707464072552 -->\n<g class=\"node\" id=\"node19\">\n<title>140707464072552</title>\n<polygon fill=\"none\" points=\"333,-.5 333,-46.5 630,-46.5 630,-.5 333,-.5\" stroke=\"#000000\"/>\n<text fill=\"#000000\" font-family=\"Times,serif\" font-size=\"14.00\" text-anchor=\"middle\" x=\"416.5\" y=\"-19.8\">outPred_result: Activation</text>\n<polyline fill=\"none\" points=\"500,-.5 500,-46.5 \" stroke=\"#000000\"/>\n<text fill=\"#000000\" font-family=\"Times,serif\" font-size=\"14.00\" text-anchor=\"middle\" x=\"529\" y=\"-31.3\">input:</text>\n<polyline fill=\"none\" points=\"500,-23.5 558,-23.5 \" stroke=\"#000000\"/>\n<text fill=\"#000000\" font-family=\"Times,serif\" font-size=\"14.00\" text-anchor=\"middle\" x=\"529\" y=\"-8.3\">output:</text>\n<polyline fill=\"none\" points=\"558,-.5 558,-46.5 \" stroke=\"#000000\"/>\n<text fill=\"#000000\" font-family=\"Times,serif\" font-size=\"14.00\" text-anchor=\"middle\" x=\"594\" y=\"-31.3\">(None, 1)</text>\n<polyline fill=\"none\" points=\"558,-23.5 630,-23.5 \" stroke=\"#000000\"/>\n<text fill=\"#000000\" font-family=\"Times,serif\" font-size=\"14.00\" text-anchor=\"middle\" x=\"594\" y=\"-8.3\">(None, 1)</text>\n</g>\n<!-- 140707477974264&#45;&gt;140707464072552 -->\n<g class=\"edge\" id=\"edge18\">\n<title>140707477974264-&gt;140707464072552</title>\n<path d=\"M481.5,-83.3799C481.5,-75.1745 481.5,-65.7679 481.5,-56.8786\" fill=\"none\" stroke=\"#000000\"/>\n<polygon fill=\"#000000\" points=\"485.0001,-56.784 481.5,-46.784 478.0001,-56.784 485.0001,-56.784\" stroke=\"#000000\"/>\n</g>\n</g>\n</svg>"
          },
          "metadata": {
            "tags": []
          },
          "execution_count": 37
        }
      ]
    },
    {
      "cell_type": "code",
      "metadata": {
        "id": "MYXPMKKzL1eL",
        "colab_type": "code",
        "colab": {
          "base_uri": "https://localhost:8080/",
          "height": 413
        },
        "outputId": "6e001711-a4e4-412b-b5c0-df4fc6c04b5d"
      },
      "source": [
        "trainInTarget = np.reshape(trainInTarget, (trainInTarget.shape[0], trainInTarget.shape[1]))\n",
        "trainValTarget = np.reshape(trainValTarget, (trainValTarget.shape[0], trainValTarget.shape[1]))\n",
        "\n",
        "history = model.fit(trainInput,{\"inPred_result\": trainInTarget, \"outPred_result\": trainTarget}, validation_data=(valInput, {\"inPred_result\": trainValTarget, \"outPred_result\": valTarget}), batch_size = batch_sizes, epochs=num_epochs, verbose=1)\n",
        "# Input prediction is the input vector shifted by 1"
      ],
      "execution_count": 40,
      "outputs": [
        {
          "output_type": "stream",
          "text": [
            "Train on 166448 samples, validate on 57083 samples\n",
            "Epoch 1/30\n",
            " 26624/166448 [===>..........................] - ETA: 14:23 - loss: 0.7466 - inPred_result_loss: 0.2381 - outPred_result_loss: 0.5085 - inPred_result_acc: 0.7421 - outPred_result_acc: 0.7456"
          ],
          "name": "stdout"
        },
        {
          "output_type": "error",
          "ename": "KeyboardInterrupt",
          "evalue": "ignored",
          "traceback": [
            "\u001b[0;31m---------------------------------------------------------------------------\u001b[0m",
            "\u001b[0;31mKeyboardInterrupt\u001b[0m                         Traceback (most recent call last)",
            "\u001b[0;32m<ipython-input-40-c060a3d41633>\u001b[0m in \u001b[0;36m<module>\u001b[0;34m()\u001b[0m\n\u001b[1;32m      2\u001b[0m \u001b[0mtrainValTarget\u001b[0m \u001b[0;34m=\u001b[0m \u001b[0mnp\u001b[0m\u001b[0;34m.\u001b[0m\u001b[0mreshape\u001b[0m\u001b[0;34m(\u001b[0m\u001b[0mtrainValTarget\u001b[0m\u001b[0;34m,\u001b[0m \u001b[0;34m(\u001b[0m\u001b[0mtrainValTarget\u001b[0m\u001b[0;34m.\u001b[0m\u001b[0mshape\u001b[0m\u001b[0;34m[\u001b[0m\u001b[0;36m0\u001b[0m\u001b[0;34m]\u001b[0m\u001b[0;34m,\u001b[0m \u001b[0mtrainValTarget\u001b[0m\u001b[0;34m.\u001b[0m\u001b[0mshape\u001b[0m\u001b[0;34m[\u001b[0m\u001b[0;36m1\u001b[0m\u001b[0;34m]\u001b[0m\u001b[0;34m)\u001b[0m\u001b[0;34m)\u001b[0m\u001b[0;34m\u001b[0m\u001b[0;34m\u001b[0m\u001b[0m\n\u001b[1;32m      3\u001b[0m \u001b[0;34m\u001b[0m\u001b[0m\n\u001b[0;32m----> 4\u001b[0;31m \u001b[0mhistory\u001b[0m \u001b[0;34m=\u001b[0m \u001b[0mmodel\u001b[0m\u001b[0;34m.\u001b[0m\u001b[0mfit\u001b[0m\u001b[0;34m(\u001b[0m\u001b[0mtrainInput\u001b[0m\u001b[0;34m,\u001b[0m\u001b[0;34m{\u001b[0m\u001b[0;34m\"inPred_result\"\u001b[0m\u001b[0;34m:\u001b[0m \u001b[0mtrainInTarget\u001b[0m\u001b[0;34m,\u001b[0m \u001b[0;34m\"outPred_result\"\u001b[0m\u001b[0;34m:\u001b[0m \u001b[0mtrainTarget\u001b[0m\u001b[0;34m}\u001b[0m\u001b[0;34m,\u001b[0m \u001b[0mvalidation_data\u001b[0m\u001b[0;34m=\u001b[0m\u001b[0;34m(\u001b[0m\u001b[0mvalInput\u001b[0m\u001b[0;34m,\u001b[0m \u001b[0;34m{\u001b[0m\u001b[0;34m\"inPred_result\"\u001b[0m\u001b[0;34m:\u001b[0m \u001b[0mtrainValTarget\u001b[0m\u001b[0;34m,\u001b[0m \u001b[0;34m\"outPred_result\"\u001b[0m\u001b[0;34m:\u001b[0m \u001b[0mvalTarget\u001b[0m\u001b[0;34m}\u001b[0m\u001b[0;34m)\u001b[0m\u001b[0;34m,\u001b[0m \u001b[0mbatch_size\u001b[0m \u001b[0;34m=\u001b[0m \u001b[0mbatch_sizes\u001b[0m\u001b[0;34m,\u001b[0m \u001b[0mepochs\u001b[0m\u001b[0;34m=\u001b[0m\u001b[0mnum_epochs\u001b[0m\u001b[0;34m,\u001b[0m \u001b[0mverbose\u001b[0m\u001b[0;34m=\u001b[0m\u001b[0;36m1\u001b[0m\u001b[0;34m)\u001b[0m\u001b[0;34m\u001b[0m\u001b[0;34m\u001b[0m\u001b[0m\n\u001b[0m\u001b[1;32m      5\u001b[0m \u001b[0;31m# Input prediction is the input vector shifted by 1\u001b[0m\u001b[0;34m\u001b[0m\u001b[0;34m\u001b[0m\u001b[0;34m\u001b[0m\u001b[0m\n",
            "\u001b[0;32m/usr/local/lib/python3.6/dist-packages/keras/engine/training.py\u001b[0m in \u001b[0;36mfit\u001b[0;34m(self, x, y, batch_size, epochs, verbose, callbacks, validation_split, validation_data, shuffle, class_weight, sample_weight, initial_epoch, steps_per_epoch, validation_steps, **kwargs)\u001b[0m\n\u001b[1;32m   1037\u001b[0m                                         \u001b[0minitial_epoch\u001b[0m\u001b[0;34m=\u001b[0m\u001b[0minitial_epoch\u001b[0m\u001b[0;34m,\u001b[0m\u001b[0;34m\u001b[0m\u001b[0;34m\u001b[0m\u001b[0m\n\u001b[1;32m   1038\u001b[0m                                         \u001b[0msteps_per_epoch\u001b[0m\u001b[0;34m=\u001b[0m\u001b[0msteps_per_epoch\u001b[0m\u001b[0;34m,\u001b[0m\u001b[0;34m\u001b[0m\u001b[0;34m\u001b[0m\u001b[0m\n\u001b[0;32m-> 1039\u001b[0;31m                                         validation_steps=validation_steps)\n\u001b[0m\u001b[1;32m   1040\u001b[0m \u001b[0;34m\u001b[0m\u001b[0m\n\u001b[1;32m   1041\u001b[0m     def evaluate(self, x=None, y=None,\n",
            "\u001b[0;32m/usr/local/lib/python3.6/dist-packages/keras/engine/training_arrays.py\u001b[0m in \u001b[0;36mfit_loop\u001b[0;34m(model, f, ins, out_labels, batch_size, epochs, verbose, callbacks, val_f, val_ins, shuffle, callback_metrics, initial_epoch, steps_per_epoch, validation_steps)\u001b[0m\n\u001b[1;32m    197\u001b[0m                     \u001b[0mins_batch\u001b[0m\u001b[0;34m[\u001b[0m\u001b[0mi\u001b[0m\u001b[0;34m]\u001b[0m \u001b[0;34m=\u001b[0m \u001b[0mins_batch\u001b[0m\u001b[0;34m[\u001b[0m\u001b[0mi\u001b[0m\u001b[0;34m]\u001b[0m\u001b[0;34m.\u001b[0m\u001b[0mtoarray\u001b[0m\u001b[0;34m(\u001b[0m\u001b[0;34m)\u001b[0m\u001b[0;34m\u001b[0m\u001b[0;34m\u001b[0m\u001b[0m\n\u001b[1;32m    198\u001b[0m \u001b[0;34m\u001b[0m\u001b[0m\n\u001b[0;32m--> 199\u001b[0;31m                 \u001b[0mouts\u001b[0m \u001b[0;34m=\u001b[0m \u001b[0mf\u001b[0m\u001b[0;34m(\u001b[0m\u001b[0mins_batch\u001b[0m\u001b[0;34m)\u001b[0m\u001b[0;34m\u001b[0m\u001b[0;34m\u001b[0m\u001b[0m\n\u001b[0m\u001b[1;32m    200\u001b[0m                 \u001b[0mouts\u001b[0m \u001b[0;34m=\u001b[0m \u001b[0mto_list\u001b[0m\u001b[0;34m(\u001b[0m\u001b[0mouts\u001b[0m\u001b[0;34m)\u001b[0m\u001b[0;34m\u001b[0m\u001b[0;34m\u001b[0m\u001b[0m\n\u001b[1;32m    201\u001b[0m                 \u001b[0;32mfor\u001b[0m \u001b[0ml\u001b[0m\u001b[0;34m,\u001b[0m \u001b[0mo\u001b[0m \u001b[0;32min\u001b[0m \u001b[0mzip\u001b[0m\u001b[0;34m(\u001b[0m\u001b[0mout_labels\u001b[0m\u001b[0;34m,\u001b[0m \u001b[0mouts\u001b[0m\u001b[0;34m)\u001b[0m\u001b[0;34m:\u001b[0m\u001b[0;34m\u001b[0m\u001b[0;34m\u001b[0m\u001b[0m\n",
            "\u001b[0;32m/usr/local/lib/python3.6/dist-packages/keras/backend/tensorflow_backend.py\u001b[0m in \u001b[0;36m__call__\u001b[0;34m(self, inputs)\u001b[0m\n\u001b[1;32m   2713\u001b[0m                 \u001b[0;32mreturn\u001b[0m \u001b[0mself\u001b[0m\u001b[0;34m.\u001b[0m\u001b[0m_legacy_call\u001b[0m\u001b[0;34m(\u001b[0m\u001b[0minputs\u001b[0m\u001b[0;34m)\u001b[0m\u001b[0;34m\u001b[0m\u001b[0;34m\u001b[0m\u001b[0m\n\u001b[1;32m   2714\u001b[0m \u001b[0;34m\u001b[0m\u001b[0m\n\u001b[0;32m-> 2715\u001b[0;31m             \u001b[0;32mreturn\u001b[0m \u001b[0mself\u001b[0m\u001b[0;34m.\u001b[0m\u001b[0m_call\u001b[0m\u001b[0;34m(\u001b[0m\u001b[0minputs\u001b[0m\u001b[0;34m)\u001b[0m\u001b[0;34m\u001b[0m\u001b[0;34m\u001b[0m\u001b[0m\n\u001b[0m\u001b[1;32m   2716\u001b[0m         \u001b[0;32melse\u001b[0m\u001b[0;34m:\u001b[0m\u001b[0;34m\u001b[0m\u001b[0;34m\u001b[0m\u001b[0m\n\u001b[1;32m   2717\u001b[0m             \u001b[0;32mif\u001b[0m \u001b[0mpy_any\u001b[0m\u001b[0;34m(\u001b[0m\u001b[0mis_tensor\u001b[0m\u001b[0;34m(\u001b[0m\u001b[0mx\u001b[0m\u001b[0;34m)\u001b[0m \u001b[0;32mfor\u001b[0m \u001b[0mx\u001b[0m \u001b[0;32min\u001b[0m \u001b[0minputs\u001b[0m\u001b[0;34m)\u001b[0m\u001b[0;34m:\u001b[0m\u001b[0;34m\u001b[0m\u001b[0;34m\u001b[0m\u001b[0m\n",
            "\u001b[0;32m/usr/local/lib/python3.6/dist-packages/keras/backend/tensorflow_backend.py\u001b[0m in \u001b[0;36m_call\u001b[0;34m(self, inputs)\u001b[0m\n\u001b[1;32m   2673\u001b[0m             \u001b[0mfetched\u001b[0m \u001b[0;34m=\u001b[0m \u001b[0mself\u001b[0m\u001b[0;34m.\u001b[0m\u001b[0m_callable_fn\u001b[0m\u001b[0;34m(\u001b[0m\u001b[0;34m*\u001b[0m\u001b[0marray_vals\u001b[0m\u001b[0;34m,\u001b[0m \u001b[0mrun_metadata\u001b[0m\u001b[0;34m=\u001b[0m\u001b[0mself\u001b[0m\u001b[0;34m.\u001b[0m\u001b[0mrun_metadata\u001b[0m\u001b[0;34m)\u001b[0m\u001b[0;34m\u001b[0m\u001b[0;34m\u001b[0m\u001b[0m\n\u001b[1;32m   2674\u001b[0m         \u001b[0;32melse\u001b[0m\u001b[0;34m:\u001b[0m\u001b[0;34m\u001b[0m\u001b[0;34m\u001b[0m\u001b[0m\n\u001b[0;32m-> 2675\u001b[0;31m             \u001b[0mfetched\u001b[0m \u001b[0;34m=\u001b[0m \u001b[0mself\u001b[0m\u001b[0;34m.\u001b[0m\u001b[0m_callable_fn\u001b[0m\u001b[0;34m(\u001b[0m\u001b[0;34m*\u001b[0m\u001b[0marray_vals\u001b[0m\u001b[0;34m)\u001b[0m\u001b[0;34m\u001b[0m\u001b[0;34m\u001b[0m\u001b[0m\n\u001b[0m\u001b[1;32m   2676\u001b[0m         \u001b[0;32mreturn\u001b[0m \u001b[0mfetched\u001b[0m\u001b[0;34m[\u001b[0m\u001b[0;34m:\u001b[0m\u001b[0mlen\u001b[0m\u001b[0;34m(\u001b[0m\u001b[0mself\u001b[0m\u001b[0;34m.\u001b[0m\u001b[0moutputs\u001b[0m\u001b[0;34m)\u001b[0m\u001b[0;34m]\u001b[0m\u001b[0;34m\u001b[0m\u001b[0;34m\u001b[0m\u001b[0m\n\u001b[1;32m   2677\u001b[0m \u001b[0;34m\u001b[0m\u001b[0m\n",
            "\u001b[0;32m/usr/local/lib/python3.6/dist-packages/tensorflow/python/client/session.py\u001b[0m in \u001b[0;36m__call__\u001b[0;34m(self, *args, **kwargs)\u001b[0m\n\u001b[1;32m   1456\u001b[0m         ret = tf_session.TF_SessionRunCallable(self._session._session,\n\u001b[1;32m   1457\u001b[0m                                                \u001b[0mself\u001b[0m\u001b[0;34m.\u001b[0m\u001b[0m_handle\u001b[0m\u001b[0;34m,\u001b[0m \u001b[0margs\u001b[0m\u001b[0;34m,\u001b[0m\u001b[0;34m\u001b[0m\u001b[0;34m\u001b[0m\u001b[0m\n\u001b[0;32m-> 1458\u001b[0;31m                                                run_metadata_ptr)\n\u001b[0m\u001b[1;32m   1459\u001b[0m         \u001b[0;32mif\u001b[0m \u001b[0mrun_metadata\u001b[0m\u001b[0;34m:\u001b[0m\u001b[0;34m\u001b[0m\u001b[0;34m\u001b[0m\u001b[0m\n\u001b[1;32m   1460\u001b[0m           \u001b[0mproto_data\u001b[0m \u001b[0;34m=\u001b[0m \u001b[0mtf_session\u001b[0m\u001b[0;34m.\u001b[0m\u001b[0mTF_GetBuffer\u001b[0m\u001b[0;34m(\u001b[0m\u001b[0mrun_metadata_ptr\u001b[0m\u001b[0;34m)\u001b[0m\u001b[0;34m\u001b[0m\u001b[0;34m\u001b[0m\u001b[0m\n",
            "\u001b[0;31mKeyboardInterrupt\u001b[0m: "
          ]
        }
      ]
    },
    {
      "cell_type": "code",
      "metadata": {
        "id": "mH22r2NUCJNR",
        "colab_type": "code",
        "colab": {}
      },
      "source": [
        "model.save('multioutput.h5') "
      ],
      "execution_count": 0,
      "outputs": []
    },
    {
      "cell_type": "code",
      "metadata": {
        "id": "gUP6joUiBdwt",
        "colab_type": "code",
        "colab": {
          "base_uri": "https://localhost:8080/",
          "height": 4892
        },
        "outputId": "8c93c6cf-ea21-44a6-a7be-fa9071e96e88"
      },
      "source": [
        "history.history"
      ],
      "execution_count": 42,
      "outputs": [
        {
          "output_type": "execute_result",
          "data": {
            "text/plain": [
              "{'inPred_result_acc': [0.14302965490437353,\n",
              "  0.21291334233948167,\n",
              "  0.3696409689455345,\n",
              "  0.44674012304715993,\n",
              "  0.5034004613652568,\n",
              "  0.5429263193309622,\n",
              "  0.5709290588279075,\n",
              "  0.5923291358892292,\n",
              "  0.6073788811836657,\n",
              "  0.6192084014455848,\n",
              "  0.6301547631121457,\n",
              "  0.6404462655175251,\n",
              "  0.649584254450286,\n",
              "  0.6565053350682741,\n",
              "  0.6669830817804077,\n",
              "  0.6738681149152704,\n",
              "  0.6805368643603187,\n",
              "  0.6859559741751753,\n",
              "  0.6940606075686284,\n",
              "  0.6992994809877204,\n",
              "  0.7044722676380293,\n",
              "  0.712066230923582,\n",
              "  0.7154186291957284,\n",
              "  0.7206454868329485,\n",
              "  0.7259504468890436,\n",
              "  0.7302881379511612,\n",
              "  0.733832788693152,\n",
              "  0.7390536383506279,\n",
              "  0.7424240602869879,\n",
              "  0.7442865039847808],\n",
              " 'inPred_result_loss': [0.25683692534829544,\n",
              "  0.24786148053069051,\n",
              "  0.24362291991825255,\n",
              "  0.24188909667834035,\n",
              "  0.24097198363933198,\n",
              "  0.24039359167855623,\n",
              "  0.23997073242048525,\n",
              "  0.2396355468063965,\n",
              "  0.2393702542058186,\n",
              "  0.23915032789470667,\n",
              "  0.2389706472823176,\n",
              "  0.23881728865946072,\n",
              "  0.23867409368134526,\n",
              "  0.2385587574947938,\n",
              "  0.23844963206868325,\n",
              "  0.23836206170007562,\n",
              "  0.23828045630797645,\n",
              "  0.23820622647214276,\n",
              "  0.23814235172437428,\n",
              "  0.2380846749944984,\n",
              "  0.23803162239731865,\n",
              "  0.23798164655689458,\n",
              "  0.2379418357363071,\n",
              "  0.23789874200068975,\n",
              "  0.2378581625362961,\n",
              "  0.23782467713616598,\n",
              "  0.23779365722719184,\n",
              "  0.23776666822197873,\n",
              "  0.23774241803386378,\n",
              "  0.23772164990033803],\n",
              " 'loss': [0.9500514191067655,\n",
              "  0.9410283954329391,\n",
              "  0.9367788290102,\n",
              "  0.9350554999463617,\n",
              "  0.9340903465992829,\n",
              "  0.9332620338111111,\n",
              "  0.9320331086141151,\n",
              "  0.9307403846920586,\n",
              "  0.9289314175218181,\n",
              "  0.9251720626732598,\n",
              "  0.9097238328495152,\n",
              "  0.8831326697842841,\n",
              "  0.8581328237559788,\n",
              "  0.84053154246321,\n",
              "  0.8287670513385651,\n",
              "  0.8187546698586202,\n",
              "  0.8119114341557536,\n",
              "  0.8041627144831872,\n",
              "  0.7972449915553244,\n",
              "  0.7950539822579805,\n",
              "  0.7886954674947196,\n",
              "  0.7832281369091765,\n",
              "  0.7772215414503314,\n",
              "  0.7764334207565226,\n",
              "  0.7711024941142609,\n",
              "  0.7652349305773978,\n",
              "  0.7633757280074988,\n",
              "  0.759432218194661,\n",
              "  0.754551361286215,\n",
              "  0.7536918167126909],\n",
              " 'outPred_result_acc': [0.5005587330864196,\n",
              "  0.5012556474094011,\n",
              "  0.5025052869364607,\n",
              "  0.50383302888526,\n",
              "  0.5042595885487047,\n",
              "  0.5095285013565866,\n",
              "  0.5184081515807045,\n",
              "  0.5266689896400211,\n",
              "  0.5399283860310287,\n",
              "  0.5511931654731551,\n",
              "  0.5836537537707236,\n",
              "  0.6206502932133061,\n",
              "  0.6498726328943574,\n",
              "  0.6684009420989764,\n",
              "  0.6803806594079771,\n",
              "  0.6905339804908512,\n",
              "  0.6944811592809766,\n",
              "  0.7016846102257823,\n",
              "  0.7074822167198348,\n",
              "  0.7096029991749719,\n",
              "  0.7138265403809254,\n",
              "  0.7189452562735056,\n",
              "  0.7250132173182333,\n",
              "  0.724532586753821,\n",
              "  0.7283475920235688,\n",
              "  0.7330157165858283,\n",
              "  0.7333641737559135,\n",
              "  0.736674517040744,\n",
              "  0.741234499606263,\n",
              "  0.7401350572695242],\n",
              " 'outPred_result_loss': [0.6932144958755436,\n",
              "  0.6931669139855186,\n",
              "  0.6931559079417378,\n",
              "  0.6931664046846558,\n",
              "  0.6931183634097217,\n",
              "  0.6928684444745137,\n",
              "  0.6920623743601697,\n",
              "  0.6911048383354327,\n",
              "  0.6895611631827872,\n",
              "  0.6860217350120328,\n",
              "  0.6707531871342332,\n",
              "  0.6443153833249756,\n",
              "  0.6194587297580751,\n",
              "  0.601972785876552,\n",
              "  0.590317417111269,\n",
              "  0.5803926092586208,\n",
              "  0.5736309798144497,\n",
              "  0.5659564879609108,\n",
              "  0.5591026379559506,\n",
              "  0.5569693085884436,\n",
              "  0.5506638454139594,\n",
              "  0.5452464873270726,\n",
              "  0.5392797044306022,\n",
              "  0.5385346771558523,\n",
              "  0.5332443322698096,\n",
              "  0.5274102511078672,\n",
              "  0.5255820700884621,\n",
              "  0.521665547130819,\n",
              "  0.516808943302485,\n",
              "  0.5159701648370859],\n",
              " 'val_inPred_result_acc': [0.10775537366003157,\n",
              "  0.22553124400508506,\n",
              "  0.2931520768167637,\n",
              "  0.3132105880978125,\n",
              "  0.3464253806028708,\n",
              "  0.34915824322653155,\n",
              "  0.37871170050275627,\n",
              "  0.39332200479532925,\n",
              "  0.3921482752831551,\n",
              "  0.4101396211585039,\n",
              "  0.4101045846261939,\n",
              "  0.40565492343607507,\n",
              "  0.4321251511177005,\n",
              "  0.4178827323227426,\n",
              "  0.43095142150398036,\n",
              "  0.43194996748089115,\n",
              "  0.4302682060438806,\n",
              "  0.45211358896357773,\n",
              "  0.4430916385811187,\n",
              "  0.46360562697248475,\n",
              "  0.47113851776477317,\n",
              "  0.47001734312624455,\n",
              "  0.4625194892729724,\n",
              "  0.465042131552484,\n",
              "  0.4708757421688565,\n",
              "  0.46796769603016336,\n",
              "  0.45582747935294404,\n",
              "  0.46430636088225324,\n",
              "  0.4699647881641052,\n",
              "  0.4544960845781877],\n",
              " 'val_inPred_result_loss': [0.24586499725594688,\n",
              "  0.23771208692215762,\n",
              "  0.23570438393062443,\n",
              "  0.2346310887873458,\n",
              "  0.23394950367764183,\n",
              "  0.23355838474921747,\n",
              "  0.23317100812096428,\n",
              "  0.2329516692760123,\n",
              "  0.2325910863668886,\n",
              "  0.2324131725268631,\n",
              "  0.23216794201908722,\n",
              "  0.23196180550375636,\n",
              "  0.23186918381526717,\n",
              "  0.231579582331798,\n",
              "  0.2314624902700665,\n",
              "  0.23131955146174532,\n",
              "  0.2310576613542087,\n",
              "  0.2309226007850858,\n",
              "  0.23073973730729883,\n",
              "  0.23062846356049033,\n",
              "  0.23049470619910747,\n",
              "  0.2302796495374696,\n",
              "  0.23020228797275968,\n",
              "  0.23010894562309997,\n",
              "  0.22996932001773643,\n",
              "  0.22989538762833103,\n",
              "  0.22980562146677566,\n",
              "  0.22976694991257882,\n",
              "  0.22970330083114177,\n",
              "  0.22959929645356994],\n",
              " 'val_loss': [0.9389854315679113,\n",
              "  0.930825656042339,\n",
              "  0.9287994684251738,\n",
              "  0.927705208186568,\n",
              "  0.9269634331385557,\n",
              "  0.925669607483714,\n",
              "  0.9235226906569899,\n",
              "  0.9199758713993397,\n",
              "  0.9163032748521553,\n",
              "  0.9001545898768111,\n",
              "  0.8675980631814759,\n",
              "  0.8478137911563727,\n",
              "  0.8444024023611164,\n",
              "  0.8403321477642737,\n",
              "  0.853729752142223,\n",
              "  0.8523539629952039,\n",
              "  0.8439127181011244,\n",
              "  0.8672124384933662,\n",
              "  0.8596676756744952,\n",
              "  0.873383143244571,\n",
              "  0.8915127032820116,\n",
              "  0.8853671775582506,\n",
              "  0.8971103682087889,\n",
              "  0.8933002390189981,\n",
              "  0.9077046615907474,\n",
              "  0.9057886661140072,\n",
              "  0.8965428220200985,\n",
              "  0.9070218603606356,\n",
              "  0.9144216865359084,\n",
              "  0.9183713853021954],\n",
              " 'val_outPred_result_acc': [0.5050540440161866,\n",
              "  0.5046686403057999,\n",
              "  0.5046686403057999,\n",
              "  0.5049839706142981,\n",
              "  0.505054044424459,\n",
              "  0.5202774909450523,\n",
              "  0.5337140655869674,\n",
              "  0.5574864673875128,\n",
              "  0.5599915914141826,\n",
              "  0.6206050841072343,\n",
              "  0.6456913616711011,\n",
              "  0.6617907257038144,\n",
              "  0.6728097683888495,\n",
              "  0.6666257902242402,\n",
              "  0.6731250989155803,\n",
              "  0.671758666821728,\n",
              "  0.6685528089745666,\n",
              "  0.6650491391892185,\n",
              "  0.6735455389186387,\n",
              "  0.6721791075421347,\n",
              "  0.6712681533374238,\n",
              "  0.6701469791964446,\n",
              "  0.6764886214492003,\n",
              "  0.6706900477916832,\n",
              "  0.6735980938906977,\n",
              "  0.6736856860711701,\n",
              "  0.6755776675138866,\n",
              "  0.6745090483846451,\n",
              "  0.6741586810462876,\n",
              "  0.6772944662485874],\n",
              " 'val_outPred_result_loss': [0.6931204371160965,\n",
              "  0.6931135670498434,\n",
              "  0.6930950866330199,\n",
              "  0.6930741170615753,\n",
              "  0.6930139287271198,\n",
              "  0.6921112236045553,\n",
              "  0.6903516838725696,\n",
              "  0.6870242041255331,\n",
              "  0.6837121862157522,\n",
              "  0.667741419556551,\n",
              "  0.6354301222997564,\n",
              "  0.6158519870572928,\n",
              "  0.6125332197461284,\n",
              "  0.608752568708314,\n",
              "  0.6222672647444211,\n",
              "  0.6210344089285029,\n",
              "  0.6128550523337098,\n",
              "  0.6362898395794421,\n",
              "  0.6289279405737993,\n",
              "  0.6427546766074189,\n",
              "  0.6610179990851098,\n",
              "  0.6550875316320605,\n",
              "  0.6669080788994851,\n",
              "  0.6631912944651334,\n",
              "  0.6777353338210552,\n",
              "  0.6758932791565586,\n",
              "  0.6667372019579993,\n",
              "  0.6772549093106891,\n",
              "  0.6847183832308549,\n",
              "  0.6887720917890224]}"
            ]
          },
          "metadata": {
            "tags": []
          },
          "execution_count": 42
        }
      ]
    },
    {
      "cell_type": "code",
      "metadata": {
        "id": "YG_FkPfUGFGg",
        "colab_type": "code",
        "colab": {}
      },
      "source": [
        "print('hi')"
      ],
      "execution_count": 0,
      "outputs": []
    },
    {
      "cell_type": "markdown",
      "metadata": {
        "id": "vfJvuKXjvZhY",
        "colab_type": "text"
      },
      "source": [
        "#Results Interpretations"
      ]
    },
    {
      "cell_type": "markdown",
      "metadata": {
        "id": "M5f5lkhBv6Fd",
        "colab_type": "text"
      },
      "source": [
        "## Model Loading"
      ]
    },
    {
      "cell_type": "code",
      "metadata": {
        "id": "-YGMCoclHAxW",
        "colab_type": "code",
        "colab": {}
      },
      "source": [
        "new = load_model('multioutput.h5')"
      ],
      "execution_count": 0,
      "outputs": []
    },
    {
      "cell_type": "code",
      "metadata": {
        "id": "TahaSvmBHKar",
        "colab_type": "code",
        "colab": {
          "base_uri": "https://localhost:8080/",
          "height": 748
        },
        "outputId": "8d84b005-f306-4842-9538-189c9cd3ed0f"
      },
      "source": [
        "new.summary()"
      ],
      "execution_count": 46,
      "outputs": [
        {
          "output_type": "stream",
          "text": [
            "__________________________________________________________________________________________________\n",
            "Layer (type)                    Output Shape         Param #     Connected to                     \n",
            "==================================================================================================\n",
            "input_5 (InputLayer)            (None, 20, 1)        0                                            \n",
            "__________________________________________________________________________________________________\n",
            "lstm_33 (LSTM)                  (None, 20, 128)      66560       input_5[0][0]                    \n",
            "__________________________________________________________________________________________________\n",
            "lstm_37 (LSTM)                  (None, 20, 256)      264192      input_5[0][0]                    \n",
            "__________________________________________________________________________________________________\n",
            "dropout_25 (Dropout)            (None, 20, 128)      0           lstm_33[0][0]                    \n",
            "__________________________________________________________________________________________________\n",
            "dropout_28 (Dropout)            (None, 20, 256)      0           lstm_37[0][0]                    \n",
            "__________________________________________________________________________________________________\n",
            "lstm_34 (LSTM)                  (None, 20, 128)      131584      dropout_25[0][0]                 \n",
            "__________________________________________________________________________________________________\n",
            "lstm_38 (LSTM)                  (None, 20, 256)      525312      dropout_28[0][0]                 \n",
            "__________________________________________________________________________________________________\n",
            "dropout_26 (Dropout)            (None, 20, 128)      0           lstm_34[0][0]                    \n",
            "__________________________________________________________________________________________________\n",
            "dropout_29 (Dropout)            (None, 20, 256)      0           lstm_38[0][0]                    \n",
            "__________________________________________________________________________________________________\n",
            "lstm_35 (LSTM)                  (None, 20, 128)      131584      dropout_26[0][0]                 \n",
            "__________________________________________________________________________________________________\n",
            "lstm_39 (LSTM)                  (None, 20, 256)      525312      dropout_29[0][0]                 \n",
            "__________________________________________________________________________________________________\n",
            "dropout_27 (Dropout)            (None, 20, 128)      0           lstm_35[0][0]                    \n",
            "__________________________________________________________________________________________________\n",
            "dropout_30 (Dropout)            (None, 20, 256)      0           lstm_39[0][0]                    \n",
            "__________________________________________________________________________________________________\n",
            "lstm_36 (LSTM)                  (None, 128)          131584      dropout_27[0][0]                 \n",
            "__________________________________________________________________________________________________\n",
            "lstm_40 (LSTM)                  (None, 256)          525312      dropout_30[0][0]                 \n",
            "__________________________________________________________________________________________________\n",
            "dense_9 (Dense)                 (None, 20)           2580        lstm_36[0][0]                    \n",
            "__________________________________________________________________________________________________\n",
            "dense_10 (Dense)                (None, 1)            257         lstm_40[0][0]                    \n",
            "__________________________________________________________________________________________________\n",
            "inPred_result (Activation)      (None, 20)           0           dense_9[0][0]                    \n",
            "__________________________________________________________________________________________________\n",
            "outPred_result (Activation)     (None, 1)            0           dense_10[0][0]                   \n",
            "==================================================================================================\n",
            "Total params: 2,304,277\n",
            "Trainable params: 2,304,277\n",
            "Non-trainable params: 0\n",
            "__________________________________________________________________________________________________\n"
          ],
          "name": "stdout"
        }
      ]
    },
    {
      "cell_type": "code",
      "metadata": {
        "id": "XDbr0MxLZWCd",
        "colab_type": "code",
        "colab": {}
      },
      "source": [
        "trained_stack = load_model('/content/drive/My Drive/thw116_FYP/saved_models/stacked_model.h5')\n",
        "                           \n",
        "stack_pred = trained_stack.predict(testInput, verbose=1)\n",
        "print(stack_pred)\n",
        "\n",
        "stack_classPred = trained_stack.predict_classes(testInput, verbose=1)\n",
        "print(stack_classPred)"
      ],
      "execution_count": 0,
      "outputs": []
    },
    {
      "cell_type": "markdown",
      "metadata": {
        "id": "LiyXn-lKv8z5",
        "colab_type": "text"
      },
      "source": [
        "## Evaluation Metrics"
      ]
    },
    {
      "cell_type": "code",
      "metadata": {
        "id": "4NcEC7mQWIB_",
        "colab_type": "code",
        "outputId": "71f956bb-470b-4287-be99-fe85c137bf7a",
        "colab": {
          "base_uri": "https://localhost:8080/",
          "height": 50
        }
      },
      "source": [
        "def evaluation_metrics(prediction, actual):\n",
        "  TP = 0\n",
        "  TN = 0\n",
        "  FP = 0\n",
        "  FN = 0\n",
        "  for i in range (0, len(actual)):\n",
        "    if actual[i][0] == '1':\n",
        "      if prediction[i][0] == 1:\n",
        "        TP += 1\n",
        "      else:\n",
        "        FN += 1\n",
        "    if actual[i][0] == '0':\n",
        "      if prediction[i][0] == 0:\n",
        "        TN += 1\n",
        "      else: \n",
        "        FP += 1\n",
        "     \n",
        "  print(TP, TN, FP, FN)\n",
        "  return (TP+TN)/(TP+TN+FP+FN), TP/(TP+FP), TP/(TP+FN)\n",
        "\n",
        "accuracy, precision, recall = evaluation_metrics(stack_classPred, testTarget)\n",
        "\n",
        "print(accuracy, precision, recall)"
      ],
      "execution_count": 0,
      "outputs": [
        {
          "output_type": "stream",
          "text": [
            "16842 17744 7229 7237\n",
            "0.7050884775340455 0.6996801129990445 0.6994476514805432\n"
          ],
          "name": "stdout"
        }
      ]
    },
    {
      "cell_type": "code",
      "metadata": {
        "id": "V_oPcglnlwW2",
        "colab_type": "code",
        "colab": {}
      },
      "source": [
        "selected = []\n",
        "\n",
        "for i in range(len(rawtestTarget)):\n",
        "  if stack_classPred[i][0] == 1: \n",
        "    selected.append(rawtestTarget[i])\n",
        "  "
      ],
      "execution_count": 0,
      "outputs": []
    },
    {
      "cell_type": "markdown",
      "metadata": {
        "id": "yOWPN1_hwCR6",
        "colab_type": "text"
      },
      "source": [
        "## Results distributions"
      ]
    },
    {
      "cell_type": "code",
      "metadata": {
        "id": "KJBbaaNXnSoh",
        "colab_type": "code",
        "outputId": "bc2feb15-df7e-4544-a638-a5e207dde408",
        "colab": {
          "base_uri": "https://localhost:8080/",
          "height": 286
        }
      },
      "source": [
        "plt.hist(selected,range=(-0.2,0.2), bins=200)\n",
        "plt.ylabel('Returns')"
      ],
      "execution_count": 0,
      "outputs": [
        {
          "output_type": "execute_result",
          "data": {
            "text/plain": [
              "Text(0, 0.5, 'Returns')"
            ]
          },
          "metadata": {
            "tags": []
          },
          "execution_count": 76
        },
        {
          "output_type": "display_data",
          "data": {
            "image/png": "[encoded data removed]",
            "text/plain": [
              "<Figure size 432x288 with 1 Axes>"
            ]
          },
          "metadata": {
            "tags": []
          }
        }
      ]
    },
    {
      "cell_type": "code",
      "metadata": {
        "id": "RldOXLPljO28",
        "colab_type": "code",
        "outputId": "e9dcb6ce-2610-4b50-b13e-5c979b78875e",
        "colab": {
          "base_uri": "https://localhost:8080/",
          "height": 1147
        }
      },
      "source": [
        "npselected = np.array(selected)\n",
        "selectreturns = np.log(npselected) \n",
        "plt.hist(selectreturns, range=(-10,0), bins=200)\n"
      ],
      "execution_count": 0,
      "outputs": [
        {
          "output_type": "stream",
          "text": [
            "/usr/local/lib/python3.6/dist-packages/ipykernel_launcher.py:2: RuntimeWarning: divide by zero encountered in log\n",
            "  \n",
            "/usr/local/lib/python3.6/dist-packages/ipykernel_launcher.py:2: RuntimeWarning: invalid value encountered in log\n",
            "  \n",
            "/usr/local/lib/python3.6/dist-packages/numpy/lib/histograms.py:824: RuntimeWarning: invalid value encountered in greater_equal\n",
            "  keep = (tmp_a >= first_edge)\n",
            "/usr/local/lib/python3.6/dist-packages/numpy/lib/histograms.py:825: RuntimeWarning: invalid value encountered in less_equal\n",
            "  keep &= (tmp_a <= last_edge)\n"
          ],
          "name": "stderr"
        },
        {
          "output_type": "execute_result",
          "data": {
            "text/plain": [
              "(array([  3.,   1.,   3.,   1.,   1.,   1.,   1.,   2.,   1.,   3.,   0.,\n",
              "          0.,   1.,   7.,   4.,   1.,   6.,   1.,   3.,   3.,   2.,   2.,\n",
              "          5.,   3.,   1.,   7.,  10.,   6.,   8.,   6.,   9.,  11.,   4.,\n",
              "          5.,   6.,  16.,   7.,   9.,   8.,  16.,   8.,   8.,   9.,  17.,\n",
              "         19.,  23.,  25.,  21.,  28.,  30.,  24.,  26.,  32.,  33.,  29.,\n",
              "         34.,  31.,  38.,  41.,  66.,  30.,  45.,  54.,  59.,  47.,  52.,\n",
              "         56.,  55.,  58.,  71.,  75.,  77.,  90.,  98.,  93.,  68.,  86.,\n",
              "        110.,  91., 102., 112., 117., 118., 122., 142., 146., 139., 165.,\n",
              "        170., 177., 176., 198., 212., 213., 246., 215., 227., 290., 289.,\n",
              "        287., 267., 295., 267., 282., 321., 304., 338., 370., 359., 342.,\n",
              "        373., 345., 360., 382., 383., 350., 355., 344., 314., 334., 337.,\n",
              "        312., 305., 294., 282., 236., 226., 210., 233., 196., 180., 169.,\n",
              "        157., 139.,  90., 106.,  87.,  98.,  82.,  67.,  63.,  48.,  43.,\n",
              "         38.,  35.,  34.,  30.,  18.,  16.,  19.,  11.,   9.,   7.,  11.,\n",
              "          7.,   3.,   6.,   1.,   4.,   3.,   4.,   2.,   3.,   1.,   1.,\n",
              "          3.,   2.,   1.,   0.,   1.,   0.,   0.,   0.,   1.,   1.,   0.,\n",
              "          0.,   0.,   0.,   0.,   0.,   0.,   0.,   0.,   0.,   0.,   0.,\n",
              "          0.,   0.,   0.,   0.,   0.,   0.,   0.,   0.,   0.,   0.,   0.,\n",
              "          0.,   0.]),\n",
              " array([-10.  ,  -9.95,  -9.9 ,  -9.85,  -9.8 ,  -9.75,  -9.7 ,  -9.65,\n",
              "         -9.6 ,  -9.55,  -9.5 ,  -9.45,  -9.4 ,  -9.35,  -9.3 ,  -9.25,\n",
              "         -9.2 ,  -9.15,  -9.1 ,  -9.05,  -9.  ,  -8.95,  -8.9 ,  -8.85,\n",
              "         -8.8 ,  -8.75,  -8.7 ,  -8.65,  -8.6 ,  -8.55,  -8.5 ,  -8.45,\n",
              "         -8.4 ,  -8.35,  -8.3 ,  -8.25,  -8.2 ,  -8.15,  -8.1 ,  -8.05,\n",
              "         -8.  ,  -7.95,  -7.9 ,  -7.85,  -7.8 ,  -7.75,  -7.7 ,  -7.65,\n",
              "         -7.6 ,  -7.55,  -7.5 ,  -7.45,  -7.4 ,  -7.35,  -7.3 ,  -7.25,\n",
              "         -7.2 ,  -7.15,  -7.1 ,  -7.05,  -7.  ,  -6.95,  -6.9 ,  -6.85,\n",
              "         -6.8 ,  -6.75,  -6.7 ,  -6.65,  -6.6 ,  -6.55,  -6.5 ,  -6.45,\n",
              "         -6.4 ,  -6.35,  -6.3 ,  -6.25,  -6.2 ,  -6.15,  -6.1 ,  -6.05,\n",
              "         -6.  ,  -5.95,  -5.9 ,  -5.85,  -5.8 ,  -5.75,  -5.7 ,  -5.65,\n",
              "         -5.6 ,  -5.55,  -5.5 ,  -5.45,  -5.4 ,  -5.35,  -5.3 ,  -5.25,\n",
              "         -5.2 ,  -5.15,  -5.1 ,  -5.05,  -5.  ,  -4.95,  -4.9 ,  -4.85,\n",
              "         -4.8 ,  -4.75,  -4.7 ,  -4.65,  -4.6 ,  -4.55,  -4.5 ,  -4.45,\n",
              "         -4.4 ,  -4.35,  -4.3 ,  -4.25,  -4.2 ,  -4.15,  -4.1 ,  -4.05,\n",
              "         -4.  ,  -3.95,  -3.9 ,  -3.85,  -3.8 ,  -3.75,  -3.7 ,  -3.65,\n",
              "         -3.6 ,  -3.55,  -3.5 ,  -3.45,  -3.4 ,  -3.35,  -3.3 ,  -3.25,\n",
              "         -3.2 ,  -3.15,  -3.1 ,  -3.05,  -3.  ,  -2.95,  -2.9 ,  -2.85,\n",
              "         -2.8 ,  -2.75,  -2.7 ,  -2.65,  -2.6 ,  -2.55,  -2.5 ,  -2.45,\n",
              "         -2.4 ,  -2.35,  -2.3 ,  -2.25,  -2.2 ,  -2.15,  -2.1 ,  -2.05,\n",
              "         -2.  ,  -1.95,  -1.9 ,  -1.85,  -1.8 ,  -1.75,  -1.7 ,  -1.65,\n",
              "         -1.6 ,  -1.55,  -1.5 ,  -1.45,  -1.4 ,  -1.35,  -1.3 ,  -1.25,\n",
              "         -1.2 ,  -1.15,  -1.1 ,  -1.05,  -1.  ,  -0.95,  -0.9 ,  -0.85,\n",
              "         -0.8 ,  -0.75,  -0.7 ,  -0.65,  -0.6 ,  -0.55,  -0.5 ,  -0.45,\n",
              "         -0.4 ,  -0.35,  -0.3 ,  -0.25,  -0.2 ,  -0.15,  -0.1 ,  -0.05,\n",
              "          0.  ]),\n",
              " <a list of 200 Patch objects>)"
            ]
          },
          "metadata": {
            "tags": []
          },
          "execution_count": 79
        },
        {
          "output_type": "display_data",
          "data": {
            "image/png": "[encoded data removed]",
            "text/plain": [
              "<Figure size 432x288 with 1 Axes>"
            ]
          },
          "metadata": {
            "tags": []
          }
        }
      ]
    },
    {
      "cell_type": "markdown",
      "metadata": {
        "id": "T059hTP8wIbM",
        "colab_type": "text"
      },
      "source": [
        "## Benchmark"
      ]
    },
    {
      "cell_type": "code",
      "metadata": {
        "id": "E0bq67kHrnUF",
        "colab_type": "code",
        "outputId": "db92865b-5044-49a8-f782-fc6d8fc565de",
        "colab": {
          "base_uri": "https://localhost:8080/",
          "height": 333
        }
      },
      "source": [
        "print(stats.describe(selected))\n",
        "plt.boxplot(selected)\n",
        "plt.tight_layout() \n",
        "plt.show()"
      ],
      "execution_count": 0,
      "outputs": [
        {
          "output_type": "stream",
          "text": [
            "DescribeResult(nobs=24071, minmax=(-0.3675407805079496, 0.2766503927383084), mean=0.007639775790836587, variance=0.0002687610447687108, skewness=1.2241130595329366, kurtosis=31.11039352347609)\n"
          ],
          "name": "stdout"
        },
        {
          "output_type": "display_data",
          "data": {
            "image/png": "[encoded data removed]",
            "text/plain": [
              "<Figure size 432x288 with 1 Axes>"
            ]
          },
          "metadata": {
            "tags": []
          }
        }
      ]
    },
    {
      "cell_type": "code",
      "metadata": {
        "id": "iuC4_NCVt6EZ",
        "colab_type": "code",
        "outputId": "df39cb4f-09c3-4617-82b8-e3a824995b3b",
        "colab": {
          "base_uri": "https://localhost:8080/",
          "height": 333
        }
      },
      "source": [
        "allreturns = returns.stack(dropna=False).reset_index(drop=True).to_frame('Returns Plot')\n",
        "listreturns = []\n",
        "for i in range (len(allreturns.values)):\n",
        "  listreturns.append(allreturns.values[i][0])\n",
        "\n",
        "cleanedreturns = [x for x in listreturns if str(x) != 'nan']\n",
        "  \n",
        "print(stats.describe(cleanedreturns))\n",
        "plt.boxplot(cleanedreturns)\n",
        "plt.tight_layout() \n",
        "plt.show()"
      ],
      "execution_count": 0,
      "outputs": [
        {
          "output_type": "stream",
          "text": [
            "DescribeResult(nobs=466938, minmax=(-0.7142857142857142, 7.098215153380195), mean=0.000389116523084825, variance=0.0005460152769445449, skewness=64.11406727112934, kurtosis=18474.17040683722)\n"
          ],
          "name": "stdout"
        },
        {
          "output_type": "display_data",
          "data": {
            "image/png": "[encoded data removed]",
            "text/plain": [
              "<Figure size 432x288 with 1 Axes>"
            ]
          },
          "metadata": {
            "tags": []
          }
        }
      ]
    },
    {
      "cell_type": "markdown",
      "metadata": {
        "id": "LdfWnWD_Ltfs",
        "colab_type": "text"
      },
      "source": [
        "# Testing"
      ]
    },
    {
      "cell_type": "code",
      "metadata": {
        "id": "ivAgZyBQ_y_a",
        "colab_type": "code",
        "colab": {}
      },
      "source": [
        ""
      ],
      "execution_count": 0,
      "outputs": []
    }
  ]
}